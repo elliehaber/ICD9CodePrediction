{
  "nbformat": 4,
  "nbformat_minor": 0,
  "metadata": {
    "colab": {
      "name": "The Final Baseline5.25.20",
      "provenance": [],
      "collapsed_sections": [],
      "machine_shape": "hm",
      "include_colab_link": true
    },
    "kernelspec": {
      "name": "python3",
      "display_name": "Python 3"
    },
    "accelerator": "GPU",
    "widgets": {
      "application/vnd.jupyter.widget-state+json": {
        "cf8c9bb8cd6f4a36927b36efc574d0d9": {
          "model_module": "@jupyter-widgets/controls",
          "model_name": "HBoxModel",
          "state": {
            "_view_name": "HBoxView",
            "_dom_classes": [],
            "_model_name": "HBoxModel",
            "_view_module": "@jupyter-widgets/controls",
            "_model_module_version": "1.5.0",
            "_view_count": null,
            "_view_module_version": "1.5.0",
            "box_style": "",
            "layout": "IPY_MODEL_0384aa19f2174021bcb57a3611375ea2",
            "_model_module": "@jupyter-widgets/controls",
            "children": [
              "IPY_MODEL_2f47d03e1bb14d02bf563b35b90b839c",
              "IPY_MODEL_98f2167d396a46b19e71d9293d965fba"
            ]
          }
        },
        "0384aa19f2174021bcb57a3611375ea2": {
          "model_module": "@jupyter-widgets/base",
          "model_name": "LayoutModel",
          "state": {
            "_view_name": "LayoutView",
            "grid_template_rows": null,
            "right": null,
            "justify_content": null,
            "_view_module": "@jupyter-widgets/base",
            "overflow": null,
            "_model_module_version": "1.2.0",
            "_view_count": null,
            "flex_flow": null,
            "width": null,
            "min_width": null,
            "border": null,
            "align_items": null,
            "bottom": null,
            "_model_module": "@jupyter-widgets/base",
            "top": null,
            "grid_column": null,
            "overflow_y": null,
            "overflow_x": null,
            "grid_auto_flow": null,
            "grid_area": null,
            "grid_template_columns": null,
            "flex": null,
            "_model_name": "LayoutModel",
            "justify_items": null,
            "grid_row": null,
            "max_height": null,
            "align_content": null,
            "visibility": null,
            "align_self": null,
            "height": null,
            "min_height": null,
            "padding": null,
            "grid_auto_rows": null,
            "grid_gap": null,
            "max_width": null,
            "order": null,
            "_view_module_version": "1.2.0",
            "grid_template_areas": null,
            "object_position": null,
            "object_fit": null,
            "grid_auto_columns": null,
            "margin": null,
            "display": null,
            "left": null
          }
        },
        "2f47d03e1bb14d02bf563b35b90b839c": {
          "model_module": "@jupyter-widgets/controls",
          "model_name": "FloatProgressModel",
          "state": {
            "_view_name": "ProgressView",
            "style": "IPY_MODEL_45c31cc4c073491e968aa410ebb0ab93",
            "_dom_classes": [],
            "description": "Downloading: 100%",
            "_model_name": "FloatProgressModel",
            "bar_style": "success",
            "max": 231508,
            "_view_module": "@jupyter-widgets/controls",
            "_model_module_version": "1.5.0",
            "value": 231508,
            "_view_count": null,
            "_view_module_version": "1.5.0",
            "orientation": "horizontal",
            "min": 0,
            "description_tooltip": null,
            "_model_module": "@jupyter-widgets/controls",
            "layout": "IPY_MODEL_ff94a4219aac4e4395074900cb4e5625"
          }
        },
        "98f2167d396a46b19e71d9293d965fba": {
          "model_module": "@jupyter-widgets/controls",
          "model_name": "HTMLModel",
          "state": {
            "_view_name": "HTMLView",
            "style": "IPY_MODEL_99c8fb3d2c424ef481ed194675bcbfa6",
            "_dom_classes": [],
            "description": "",
            "_model_name": "HTMLModel",
            "placeholder": "​",
            "_view_module": "@jupyter-widgets/controls",
            "_model_module_version": "1.5.0",
            "value": " 232k/232k [00:00&lt;00:00, 2.57MB/s]",
            "_view_count": null,
            "_view_module_version": "1.5.0",
            "description_tooltip": null,
            "_model_module": "@jupyter-widgets/controls",
            "layout": "IPY_MODEL_45aec800e1cc4a689078233d28c83346"
          }
        },
        "45c31cc4c073491e968aa410ebb0ab93": {
          "model_module": "@jupyter-widgets/controls",
          "model_name": "ProgressStyleModel",
          "state": {
            "_view_name": "StyleView",
            "_model_name": "ProgressStyleModel",
            "description_width": "initial",
            "_view_module": "@jupyter-widgets/base",
            "_model_module_version": "1.5.0",
            "_view_count": null,
            "_view_module_version": "1.2.0",
            "bar_color": null,
            "_model_module": "@jupyter-widgets/controls"
          }
        },
        "ff94a4219aac4e4395074900cb4e5625": {
          "model_module": "@jupyter-widgets/base",
          "model_name": "LayoutModel",
          "state": {
            "_view_name": "LayoutView",
            "grid_template_rows": null,
            "right": null,
            "justify_content": null,
            "_view_module": "@jupyter-widgets/base",
            "overflow": null,
            "_model_module_version": "1.2.0",
            "_view_count": null,
            "flex_flow": null,
            "width": null,
            "min_width": null,
            "border": null,
            "align_items": null,
            "bottom": null,
            "_model_module": "@jupyter-widgets/base",
            "top": null,
            "grid_column": null,
            "overflow_y": null,
            "overflow_x": null,
            "grid_auto_flow": null,
            "grid_area": null,
            "grid_template_columns": null,
            "flex": null,
            "_model_name": "LayoutModel",
            "justify_items": null,
            "grid_row": null,
            "max_height": null,
            "align_content": null,
            "visibility": null,
            "align_self": null,
            "height": null,
            "min_height": null,
            "padding": null,
            "grid_auto_rows": null,
            "grid_gap": null,
            "max_width": null,
            "order": null,
            "_view_module_version": "1.2.0",
            "grid_template_areas": null,
            "object_position": null,
            "object_fit": null,
            "grid_auto_columns": null,
            "margin": null,
            "display": null,
            "left": null
          }
        },
        "99c8fb3d2c424ef481ed194675bcbfa6": {
          "model_module": "@jupyter-widgets/controls",
          "model_name": "DescriptionStyleModel",
          "state": {
            "_view_name": "StyleView",
            "_model_name": "DescriptionStyleModel",
            "description_width": "",
            "_view_module": "@jupyter-widgets/base",
            "_model_module_version": "1.5.0",
            "_view_count": null,
            "_view_module_version": "1.2.0",
            "_model_module": "@jupyter-widgets/controls"
          }
        },
        "45aec800e1cc4a689078233d28c83346": {
          "model_module": "@jupyter-widgets/base",
          "model_name": "LayoutModel",
          "state": {
            "_view_name": "LayoutView",
            "grid_template_rows": null,
            "right": null,
            "justify_content": null,
            "_view_module": "@jupyter-widgets/base",
            "overflow": null,
            "_model_module_version": "1.2.0",
            "_view_count": null,
            "flex_flow": null,
            "width": null,
            "min_width": null,
            "border": null,
            "align_items": null,
            "bottom": null,
            "_model_module": "@jupyter-widgets/base",
            "top": null,
            "grid_column": null,
            "overflow_y": null,
            "overflow_x": null,
            "grid_auto_flow": null,
            "grid_area": null,
            "grid_template_columns": null,
            "flex": null,
            "_model_name": "LayoutModel",
            "justify_items": null,
            "grid_row": null,
            "max_height": null,
            "align_content": null,
            "visibility": null,
            "align_self": null,
            "height": null,
            "min_height": null,
            "padding": null,
            "grid_auto_rows": null,
            "grid_gap": null,
            "max_width": null,
            "order": null,
            "_view_module_version": "1.2.0",
            "grid_template_areas": null,
            "object_position": null,
            "object_fit": null,
            "grid_auto_columns": null,
            "margin": null,
            "display": null,
            "left": null
          }
        }
      }
    }
  },
  "cells": [
    {
      "cell_type": "markdown",
      "metadata": {
        "id": "view-in-github",
        "colab_type": "text"
      },
      "source": [
        "<a href=\"https://colab.research.google.com/github/elliehaber/icd_code_pred/blob/master/The_Final_Baseline5_25_20.ipynb\" target=\"_parent\"><img src=\"https://colab.research.google.com/assets/colab-badge.svg\" alt=\"Open In Colab\"/></a>"
      ]
    },
    {
      "cell_type": "code",
      "metadata": {
        "id": "v4Nue0XaDNNq",
        "colab_type": "code",
        "colab": {}
      },
      "source": [
        "import pandas as pd\n",
        "import os\n",
        "import io\n",
        "import numpy as np\n",
        "from matplotlib import pyplot as plt "
      ],
      "execution_count": 0,
      "outputs": []
    },
    {
      "cell_type": "markdown",
      "metadata": {
        "id": "xUX4pnkUuCRu",
        "colab_type": "text"
      },
      "source": [
        ""
      ]
    },
    {
      "cell_type": "code",
      "metadata": {
        "id": "dnMFarmf0PKV",
        "colab_type": "code",
        "outputId": "16e3ade8-4332-46b0-e004-49dcbd604386",
        "colab": {
          "base_uri": "https://localhost:8080/",
          "height": 35
        }
      },
      "source": [
        "import torch\n",
        "print(torch.__version__)\n"
      ],
      "execution_count": 0,
      "outputs": [
        {
          "output_type": "stream",
          "text": [
            "1.5.0+cu101\n"
          ],
          "name": "stdout"
        }
      ]
    },
    {
      "cell_type": "code",
      "metadata": {
        "id": "F4c4KqOgDYIu",
        "colab_type": "code",
        "outputId": "3859dc8b-2a66-4d10-b5ec-a625c244d42f",
        "colab": {
          "base_uri": "https://localhost:8080/",
          "height": 124
        }
      },
      "source": [
        "from google.colab import drive\n",
        "drive.mount('/content/drive')\n",
        "os.chdir('/content/drive/My Drive/')"
      ],
      "execution_count": 0,
      "outputs": [
        {
          "output_type": "stream",
          "text": [
            "Go to this URL in a browser: https://accounts.google.com/o/oauth2/auth?client_id=947318989803-6bn6qk8qdgf4n4g3pfee6491hc0brc4i.apps.googleusercontent.com&redirect_uri=urn%3aietf%3awg%3aoauth%3a2.0%3aoob&response_type=code&scope=email%20https%3a%2f%2fwww.googleapis.com%2fauth%2fdocs.test%20https%3a%2f%2fwww.googleapis.com%2fauth%2fdrive%20https%3a%2f%2fwww.googleapis.com%2fauth%2fdrive.photos.readonly%20https%3a%2f%2fwww.googleapis.com%2fauth%2fpeopleapi.readonly\n",
            "\n",
            "Enter your authorization code:\n",
            "··········\n",
            "Mounted at /content/drive\n"
          ],
          "name": "stdout"
        }
      ]
    },
    {
      "cell_type": "code",
      "metadata": {
        "id": "8BTb-KRlDYN8",
        "colab_type": "code",
        "outputId": "86c6018e-22d1-4412-ea85-53c893521a69",
        "colab": {
          "base_uri": "https://localhost:8080/",
          "height": 72
        }
      },
      "source": [
        "#patient notes data\n",
        "df_notes = pd.read_csv('NOTEEVENTS.csv')"
      ],
      "execution_count": 0,
      "outputs": [
        {
          "output_type": "stream",
          "text": [
            "/usr/local/lib/python3.6/dist-packages/IPython/core/interactiveshell.py:2718: DtypeWarning: Columns (4,5) have mixed types.Specify dtype option on import or set low_memory=False.\n",
            "  interactivity=interactivity, compiler=compiler, result=result)\n"
          ],
          "name": "stderr"
        }
      ]
    },
    {
      "cell_type": "code",
      "metadata": {
        "id": "ldqGAT4_DYRJ",
        "colab_type": "code",
        "colab": {}
      },
      "source": [
        "#icd diagnoses data\n",
        "df_icd_diag = pd.read_csv('DIAGNOSES_ICD 2.csv')"
      ],
      "execution_count": 0,
      "outputs": []
    },
    {
      "cell_type": "code",
      "metadata": {
        "id": "kTMZUMjJMtEE",
        "colab_type": "code",
        "outputId": "923748d2-aa9c-4a6c-8ae8-e1651a32aecf",
        "colab": {
          "base_uri": "https://localhost:8080/",
          "height": 330
        }
      },
      "source": [
        "#Identify the top 10 occurring ICD-9 Codes\n",
        "import matplotlib.pyplot as plt\n",
        "\n",
        "df_icd_diag.head()\n",
        "freq = df_icd_diag['ICD9_CODE'].value_counts()[:10].index.tolist()\n",
        "x = df_icd_diag['ICD9_CODE'].value_counts()[:50].index.tolist()\n",
        "\n",
        "\n",
        "print(sum(df_icd_diag['ICD9_CODE'].value_counts()[:10]))\n",
        "freq_val = df_icd_diag['ICD9_CODE'].value_counts()[:10]\n",
        "plt.bar(freq, freq_val)\n",
        "plt.title('Top Ten ICD-9 Codes')\n",
        "plt.ylabel('Frequency')\n",
        "plt.xlabel('ICD9-Codes')\n",
        "\n",
        "print(freq)"
      ],
      "execution_count": 0,
      "outputs": [
        {
          "output_type": "stream",
          "text": [
            "106379\n",
            "['4019', '4280', '42731', '41401', '5849', '25000', '2724', '51881', '5990', '53081']\n"
          ],
          "name": "stdout"
        },
        {
          "output_type": "display_data",
          "data": {
            "image/png": "[encoded data removed]",
            "text/plain": [
              "<Figure size 432x288 with 1 Axes>"
            ]
          },
          "metadata": {
            "tags": [],
            "needs_background": "light"
          }
        }
      ]
    },
    {
      "cell_type": "code",
      "metadata": {
        "id": "0dRLbyi1Phse",
        "colab_type": "code",
        "colab": {}
      },
      "source": [
        "#Filter for notes with discharge summary\n",
        "df_notes_discharge_summ = df_notes.loc[df_notes.CATEGORY == 'Discharge summary']"
      ],
      "execution_count": 0,
      "outputs": []
    },
    {
      "cell_type": "code",
      "metadata": {
        "id": "FxNH5cx5W1Cq",
        "colab_type": "code",
        "colab": {}
      },
      "source": [
        "df_notes_discharge_summ_last = (df_notes_discharge_summ.groupby(['SUBJECT_ID', 'HADM_ID']).nth(-1)).reset_index()\n",
        "assert df_notes_discharge_summ_last.duplicated(['HADM_ID']).sum() == 0, 'Multiple discharge summaries per admission'"
      ],
      "execution_count": 0,
      "outputs": []
    },
    {
      "cell_type": "code",
      "metadata": {
        "id": "voyXheqEQW2L",
        "colab_type": "code",
        "colab": {}
      },
      "source": [
        "df_icd_notes = pd.merge(df_icd_diag[['SUBJECT_ID', 'HADM_ID', 'SEQ_NUM', 'ICD9_CODE']], \\\n",
        "df_notes_discharge_summ_last[['SUBJECT_ID', 'HADM_ID', 'TEXT']], on= ['SUBJECT_ID', 'HADM_ID'], how = 'left'\n",
        ")\n",
        "\n",
        "assert len(df_icd_diag) == len(df_icd_notes), 'Number of rows increased'"
      ],
      "execution_count": 0,
      "outputs": []
    },
    {
      "cell_type": "code",
      "metadata": {
        "id": "rzHycoXwxexz",
        "colab_type": "code",
        "outputId": "c78c923f-e16f-45bd-f643-503db245a58c",
        "colab": {
          "base_uri": "https://localhost:8080/",
          "height": 52
        }
      },
      "source": [
        "#filter for first admission\n",
        "df_icd_notes_1 = df_icd_notes[df_icd_notes.ICD9_CODE.isin(x)]\n",
        "print(len(df_icd_notes_1))\n",
        "df_icd_notes = df_icd_notes[df_icd_notes.ICD9_CODE.isin(freq)]\n",
        "df_icd_notes_1 = df_icd_notes[df_icd_notes.ICD9_CODE.isin(x)]\n",
        "\n",
        "t = df_icd_notes.drop_duplicates(subset='HADM_ID', keep=\"first\", inplace=True)\n",
        "df_icd_notes = df_icd_notes.dropna(how='any',subset=['TEXT'])\n",
        "\n",
        "len(df_icd_notes)"
      ],
      "execution_count": 0,
      "outputs": [
        {
          "output_type": "stream",
          "text": [
            "242728\n"
          ],
          "name": "stdout"
        },
        {
          "output_type": "execute_result",
          "data": {
            "text/plain": [
              "40562"
            ]
          },
          "metadata": {
            "tags": []
          },
          "execution_count": 10
        }
      ]
    },
    {
      "cell_type": "code",
      "metadata": {
        "id": "XQ9wxKM1X3fa",
        "colab_type": "code",
        "colab": {}
      },
      "source": [
        "#Extract Hospital Course section of notes\n",
        "\n",
        "df_icd_notes\n",
        "lst = []\n",
        "for i in df_icd_notes['TEXT']:\n",
        "  i = str(i).lower()\n",
        "  if 'concise summary of hospital course as follows:' in i:\n",
        "    start = i.find('concise summary of hospital course as follows:') \n",
        "    lst.append(i[start+46:])\n",
        "  elif 'hospital course:' in i:\n",
        "    start = i.find('hospital course:') \n",
        "    lst.append(i[start+16:])\n",
        "  else: \n",
        "    lst.append('not valid')\n",
        "\n",
        "df_icd_notes['Hosp_course'] = lst\n",
        "\n",
        "df_icd_notes = df_icd_notes[df_icd_notes.Hosp_course != 'not valid']\n"
      ],
      "execution_count": 0,
      "outputs": []
    },
    {
      "cell_type": "code",
      "metadata": {
        "id": "9BHsClkxZVz8",
        "colab_type": "code",
        "colab": {}
      },
      "source": [
        "#Extract History of Present Illness section of notes\n",
        "\n",
        "df_icd_notes\n",
        "lst = []\n",
        "for i in df_icd_notes['TEXT']:\n",
        "  i = str(i).lower()\n",
        "  if 'history of present illness' in i:\n",
        "    start = i.find('history of present illness:')\n",
        "    lst.append(i[start+27:])\n",
        "  else:\n",
        "    lst.append('not valid')\n",
        "\n",
        "\n",
        "df_icd_notes['hist_pres_illness'] = lst\n",
        "\n",
        "df_icd_notes = df_icd_notes[df_icd_notes.hist_pres_illness != 'not valid']\n"
      ],
      "execution_count": 0,
      "outputs": []
    },
    {
      "cell_type": "code",
      "metadata": {
        "id": "1815J5eMa8rE",
        "colab_type": "code",
        "colab": {}
      },
      "source": [
        "df_icd_notes = df_icd_notes.dropna(how='any',subset=['Hosp_course'])\n",
        "df_icd_notes = df_icd_notes.dropna(how='any',subset=['hist_pres_illness'])\n"
      ],
      "execution_count": 0,
      "outputs": []
    },
    {
      "cell_type": "code",
      "metadata": {
        "id": "ckpDI5OXr7LM",
        "colab_type": "code",
        "outputId": "44333e47-1f35-4021-ccca-589e23573a52",
        "colab": {
          "base_uri": "https://localhost:8080/",
          "height": 35
        }
      },
      "source": [
        "import tensorflow as tf\n",
        "\n",
        "device_name = tf.test.gpu_device_name()\n",
        "if device_name != '/device:GPU:0':\n",
        "  raise SystemError('GPU device not found')\n",
        "print('Found GPU at: {}'.format(device_name))"
      ],
      "execution_count": 0,
      "outputs": [
        {
          "output_type": "stream",
          "text": [
            "Found GPU at: /device:GPU:0\n"
          ],
          "name": "stdout"
        }
      ]
    },
    {
      "cell_type": "code",
      "metadata": {
        "id": "LBIQGO34_G3s",
        "colab_type": "code",
        "colab": {}
      },
      "source": [
        "config = tf.compat.v1.ConfigProto()\n",
        "config.gpu_options.allow_growth = True\n",
        "sess = tf.compat.v1.Session(config=config)"
      ],
      "execution_count": 0,
      "outputs": []
    },
    {
      "cell_type": "code",
      "metadata": {
        "id": "Vo9ASYy-r8v1",
        "colab_type": "code",
        "outputId": "29768511-ef94-4a32-8b0b-165a0c2950b5",
        "colab": {
          "base_uri": "https://localhost:8080/",
          "height": 471
        }
      },
      "source": [
        "!pip install pytorch-pretrained-bert pytorch-nlp"
      ],
      "execution_count": 0,
      "outputs": [
        {
          "output_type": "stream",
          "text": [
            "Collecting pytorch-pretrained-bert\n",
            "\u001b[?25l  Downloading https://files.pythonhosted.org/packages/d7/e0/c08d5553b89973d9a240605b9c12404bcf8227590de62bae27acbcfe076b/pytorch_pretrained_bert-0.6.2-py3-none-any.whl (123kB)\n",
            "\u001b[K     |████████████████████████████████| 133kB 2.8MB/s \n",
            "\u001b[?25hCollecting pytorch-nlp\n",
            "\u001b[?25l  Downloading https://files.pythonhosted.org/packages/4f/51/f0ee1efb75f7cc2e3065c5da1363d6be2eec79691b2821594f3f2329528c/pytorch_nlp-0.5.0-py3-none-any.whl (90kB)\n",
            "\u001b[K     |████████████████████████████████| 92kB 5.9MB/s \n",
            "\u001b[?25hRequirement already satisfied: tqdm in /usr/local/lib/python3.6/dist-packages (from pytorch-pretrained-bert) (4.41.1)\n",
            "Requirement already satisfied: regex in /usr/local/lib/python3.6/dist-packages (from pytorch-pretrained-bert) (2019.12.20)\n",
            "Requirement already satisfied: numpy in /usr/local/lib/python3.6/dist-packages (from pytorch-pretrained-bert) (1.18.4)\n",
            "Requirement already satisfied: torch>=0.4.1 in /usr/local/lib/python3.6/dist-packages (from pytorch-pretrained-bert) (1.5.0+cu101)\n",
            "Requirement already satisfied: requests in /usr/local/lib/python3.6/dist-packages (from pytorch-pretrained-bert) (2.23.0)\n",
            "Requirement already satisfied: boto3 in /usr/local/lib/python3.6/dist-packages (from pytorch-pretrained-bert) (1.13.13)\n",
            "Requirement already satisfied: future in /usr/local/lib/python3.6/dist-packages (from torch>=0.4.1->pytorch-pretrained-bert) (0.16.0)\n",
            "Requirement already satisfied: idna<3,>=2.5 in /usr/local/lib/python3.6/dist-packages (from requests->pytorch-pretrained-bert) (2.9)\n",
            "Requirement already satisfied: certifi>=2017.4.17 in /usr/local/lib/python3.6/dist-packages (from requests->pytorch-pretrained-bert) (2020.4.5.1)\n",
            "Requirement already satisfied: chardet<4,>=3.0.2 in /usr/local/lib/python3.6/dist-packages (from requests->pytorch-pretrained-bert) (3.0.4)\n",
            "Requirement already satisfied: urllib3!=1.25.0,!=1.25.1,<1.26,>=1.21.1 in /usr/local/lib/python3.6/dist-packages (from requests->pytorch-pretrained-bert) (1.24.3)\n",
            "Requirement already satisfied: s3transfer<0.4.0,>=0.3.0 in /usr/local/lib/python3.6/dist-packages (from boto3->pytorch-pretrained-bert) (0.3.3)\n",
            "Requirement already satisfied: botocore<1.17.0,>=1.16.13 in /usr/local/lib/python3.6/dist-packages (from boto3->pytorch-pretrained-bert) (1.16.13)\n",
            "Requirement already satisfied: jmespath<1.0.0,>=0.7.1 in /usr/local/lib/python3.6/dist-packages (from boto3->pytorch-pretrained-bert) (0.10.0)\n",
            "Requirement already satisfied: python-dateutil<3.0.0,>=2.1 in /usr/local/lib/python3.6/dist-packages (from botocore<1.17.0,>=1.16.13->boto3->pytorch-pretrained-bert) (2.8.1)\n",
            "Requirement already satisfied: docutils<0.16,>=0.10 in /usr/local/lib/python3.6/dist-packages (from botocore<1.17.0,>=1.16.13->boto3->pytorch-pretrained-bert) (0.15.2)\n",
            "Requirement already satisfied: six>=1.5 in /usr/local/lib/python3.6/dist-packages (from python-dateutil<3.0.0,>=2.1->botocore<1.17.0,>=1.16.13->boto3->pytorch-pretrained-bert) (1.12.0)\n",
            "Installing collected packages: pytorch-pretrained-bert, pytorch-nlp\n",
            "Successfully installed pytorch-nlp-0.5.0 pytorch-pretrained-bert-0.6.2\n"
          ],
          "name": "stdout"
        }
      ]
    },
    {
      "cell_type": "code",
      "metadata": {
        "id": "SSz3at1Tr-ed",
        "colab_type": "code",
        "outputId": "593a100b-3f47-4437-f188-eef46f1569e2",
        "colab": {
          "base_uri": "https://localhost:8080/",
          "height": 35
        }
      },
      "source": [
        "import torch\n",
        "from torch.utils.data import TensorDataset, DataLoader, RandomSampler, SequentialSampler\n",
        "from keras.preprocessing.sequence import pad_sequences\n",
        "from sklearn.model_selection import train_test_split\n",
        "from pytorch_pretrained_bert import BertTokenizer, BertConfig\n",
        "from pytorch_pretrained_bert import BertAdam, BertForSequenceClassification\n",
        "from tqdm import tqdm, trange\n",
        "import pandas as pd\n",
        "import io\n",
        "import numpy as np\n",
        "import matplotlib.pyplot as plt\n",
        "% matplotlib inline"
      ],
      "execution_count": 0,
      "outputs": [
        {
          "output_type": "stream",
          "text": [
            "Using TensorFlow backend.\n"
          ],
          "name": "stderr"
        }
      ]
    },
    {
      "cell_type": "code",
      "metadata": {
        "id": "Dc1803IxsBGB",
        "colab_type": "code",
        "outputId": "ae580f89-94f1-4aa5-f746-0d3252a209b2",
        "colab": {
          "base_uri": "https://localhost:8080/",
          "height": 35
        }
      },
      "source": [
        "device = torch.device(\"cuda\" if torch.cuda.is_available() else \"cpu\")\n",
        "n_gpu = torch.cuda.device_count()\n",
        "torch.cuda.get_device_name(0)"
      ],
      "execution_count": 0,
      "outputs": [
        {
          "output_type": "execute_result",
          "data": {
            "text/plain": [
              "'Tesla P100-PCIE-16GB'"
            ]
          },
          "metadata": {
            "tags": []
          },
          "execution_count": 18
        }
      ]
    },
    {
      "cell_type": "code",
      "metadata": {
        "id": "vxVD_-ZAB025",
        "colab_type": "code",
        "colab": {}
      },
      "source": [
        "config = tf.compat.v1.ConfigProto()\n",
        "config.gpu_options.per_process_gpu_memory_fraction = 0.4\n",
        "session = tf.compat.v1.Session(config=config)"
      ],
      "execution_count": 0,
      "outputs": []
    },
    {
      "cell_type": "code",
      "metadata": {
        "id": "Fbzy_oTszfhH",
        "colab_type": "code",
        "colab": {}
      },
      "source": [
        "import nltk\n",
        "from nltk.tokenize import RegexpTokenizer\n",
        "from nltk.stem import WordNetLemmatizer,PorterStemmer\n",
        "from nltk.corpus import stopwords\n",
        "import re\n",
        "lemmatizer = WordNetLemmatizer()\n",
        "stemmer = PorterStemmer() \n",
        "import string\n",
        "\n",
        "\n",
        "def preprocess(text):  \n",
        "    punc_list = string.punctuation+'0123456789'\n",
        "    t = str.maketrans(dict.fromkeys(punc_list, \"\"))\n",
        "    text = text.lower().translate(t)\n",
        "    text = text.replace('\\n','')\n",
        "    return text"
      ],
      "execution_count": 0,
      "outputs": []
    },
    {
      "cell_type": "code",
      "metadata": {
        "id": "bhfkd2SSHfHy",
        "colab_type": "code",
        "colab": {}
      },
      "source": [
        "\n",
        "# labels_dict = {}\n",
        "# num = 0\n",
        "# for i in freq:\n",
        "#   labels_dict[str(i)] = num\n",
        "#   num+= 1\n",
        "\n",
        "# print(labels_dict)\n",
        "class2idx = {\n",
        "    '4019': 0,\n",
        "    '4280': 1,\n",
        "    '42731': 2,\n",
        "    '41401': 3,\n",
        "    '5849': 4,\n",
        "    '25000': 5,\n",
        "    '2724': 6,\n",
        "    '51881': 7,\n",
        "    '5990': 8,\n",
        "    '53081': 9\n",
        "}\n",
        "\n",
        "# class2idx = {\n",
        "#     4019: 0,\n",
        "#     4280: 1,\n",
        "#     42731: 2,\n",
        "#     41401: 3,\n",
        "#     5849: 4,\n",
        "#     25000: 5,\n",
        "#     2724: 6,\n",
        "#     51881: 7,\n",
        "#     5990: 8,\n",
        "#     53081: 9\n",
        "# }\n",
        "\n",
        "idx2class = {v: k for k, v in class2idx.items()}\n",
        "\n",
        "\n",
        "df_icd_notes['ICD9_CODE'].replace(class2idx, inplace=True)\n",
        "\n"
      ],
      "execution_count": 0,
      "outputs": []
    },
    {
      "cell_type": "code",
      "metadata": {
        "id": "HliMK9lbUW5X",
        "colab_type": "code",
        "outputId": "d23c7779-40dc-4039-9fba-12481b8faab4",
        "colab": {
          "base_uri": "https://localhost:8080/",
          "height": 589
        }
      },
      "source": [
        "df_icd_notes"
      ],
      "execution_count": 0,
      "outputs": [
        {
          "output_type": "execute_result",
          "data": {
          },
          "metadata": {
            "tags": []
          },
          "execution_count": 22
        }
      ]
    },
    {
      "cell_type": "code",
      "metadata": {
        "id": "qSXgiSYSV-Gq",
        "colab_type": "code",
        "colab": {}
      },
      "source": [
        "labels = df_icd_notes.ICD9_CODE.values\n",
        "labels = labels.astype(np.long)\n",
        "\n",
        "sentences_hosp = df_icd_notes.TEXT.values\n",
        "sentences_hosp = sentences_hosp.astype('str')\n",
        "\n",
        "test_labels = labels[27001:30202]\n",
        "test_sent = sentences_hosp[27001:30202]\n",
        "\n",
        "for i in range(len(test_sent)):\n",
        "    sent = test_sent[i]\n",
        "    sent = preprocess(sent)\n",
        "    test_sent[i] = sent\n",
        "    \n",
        "# sentences_hist = df_icd_notes.hist_pres_illness.values\n",
        "# sentences_hist = sentences_hist.astype(np.string_)\n",
        "# sentences = df_icd_notes.TEXT.values\n",
        "# sentences = sentences.astype(np.string_)\n",
        "\n",
        "\n",
        "labels = labels[:27000]\n",
        "sentences_hosp = sentences_hosp[:27000]\n",
        "\n",
        "for i in range(len(sentences_hosp)):\n",
        "    sent = sentences_hosp[i]\n",
        "    sent = preprocess(sent)\n",
        "    sentences_hosp[i] = sent\n"
      ],
      "execution_count": 0,
      "outputs": []
    },
    {
      "cell_type": "code",
      "metadata": {
        "id": "4wUnp-5Og7fR",
        "colab_type": "code",
        "outputId": "8dac9f0d-924d-465c-b3b3-fa43e5390385",
        "colab": {
          "base_uri": "https://localhost:8080/",
          "height": 592
        }
      },
      "source": [
        "!pip install transformers"
      ],
      "execution_count": 0,
      "outputs": [
        {
          "output_type": "stream",
          "text": [
            "Collecting transformers\n",
            "\u001b[?25l  Downloading https://files.pythonhosted.org/packages/12/b5/ac41e3e95205ebf53439e4dd087c58e9fd371fd8e3724f2b9b4cdb8282e5/transformers-2.10.0-py3-none-any.whl (660kB)\n",
            "\u001b[K     |████████████████████████████████| 665kB 2.8MB/s \n",
            "\u001b[?25hRequirement already satisfied: tqdm>=4.27 in /usr/local/lib/python3.6/dist-packages (from transformers) (4.41.1)\n",
            "Collecting sacremoses\n",
            "\u001b[?25l  Downloading https://files.pythonhosted.org/packages/7d/34/09d19aff26edcc8eb2a01bed8e98f13a1537005d31e95233fd48216eed10/sacremoses-0.0.43.tar.gz (883kB)\n",
            "\u001b[K     |████████████████████████████████| 890kB 51.6MB/s \n",
            "\u001b[?25hRequirement already satisfied: regex!=2019.12.17 in /usr/local/lib/python3.6/dist-packages (from transformers) (2019.12.20)\n",
            "Requirement already satisfied: requests in /usr/local/lib/python3.6/dist-packages (from transformers) (2.23.0)\n",
            "Collecting sentencepiece\n",
            "\u001b[?25l  Downloading https://files.pythonhosted.org/packages/d4/a4/d0a884c4300004a78cca907a6ff9a5e9fe4f090f5d95ab341c53d28cbc58/sentencepiece-0.1.91-cp36-cp36m-manylinux1_x86_64.whl (1.1MB)\n",
            "\u001b[K     |████████████████████████████████| 1.1MB 41.0MB/s \n",
            "\u001b[?25hRequirement already satisfied: filelock in /usr/local/lib/python3.6/dist-packages (from transformers) (3.0.12)\n",
            "Collecting tokenizers==0.7.0\n",
            "\u001b[?25l  Downloading https://files.pythonhosted.org/packages/14/e5/a26eb4716523808bb0a799fcfdceb6ebf77a18169d9591b2f46a9adb87d9/tokenizers-0.7.0-cp36-cp36m-manylinux1_x86_64.whl (3.8MB)\n",
            "\u001b[K     |████████████████████████████████| 3.8MB 29.4MB/s \n",
            "\u001b[?25hRequirement already satisfied: numpy in /usr/local/lib/python3.6/dist-packages (from transformers) (1.18.4)\n",
            "Requirement already satisfied: dataclasses; python_version < \"3.7\" in /usr/local/lib/python3.6/dist-packages (from transformers) (0.7)\n",
            "Requirement already satisfied: six in /usr/local/lib/python3.6/dist-packages (from sacremoses->transformers) (1.12.0)\n",
            "Requirement already satisfied: click in /usr/local/lib/python3.6/dist-packages (from sacremoses->transformers) (7.1.2)\n",
            "Requirement already satisfied: joblib in /usr/local/lib/python3.6/dist-packages (from sacremoses->transformers) (0.15.1)\n",
            "Requirement already satisfied: urllib3!=1.25.0,!=1.25.1,<1.26,>=1.21.1 in /usr/local/lib/python3.6/dist-packages (from requests->transformers) (1.24.3)\n",
            "Requirement already satisfied: certifi>=2017.4.17 in /usr/local/lib/python3.6/dist-packages (from requests->transformers) (2020.4.5.1)\n",
            "Requirement already satisfied: chardet<4,>=3.0.2 in /usr/local/lib/python3.6/dist-packages (from requests->transformers) (3.0.4)\n",
            "Requirement already satisfied: idna<3,>=2.5 in /usr/local/lib/python3.6/dist-packages (from requests->transformers) (2.9)\n",
            "Building wheels for collected packages: sacremoses\n",
            "  Building wheel for sacremoses (setup.py) ... \u001b[?25l\u001b[?25hdone\n",
            "  Created wheel for sacremoses: filename=sacremoses-0.0.43-cp36-none-any.whl size=893260 sha256=1d9810c991253a544b33770c6e497522bace0e679711b4f5ce0516fe9dfd46cc\n",
            "  Stored in directory: /root/.cache/pip/wheels/29/3c/fd/7ce5c3f0666dab31a50123635e6fb5e19ceb42ce38d4e58f45\n",
            "Successfully built sacremoses\n",
            "Installing collected packages: sacremoses, sentencepiece, tokenizers, transformers\n",
            "Successfully installed sacremoses-0.0.43 sentencepiece-0.1.91 tokenizers-0.7.0 transformers-2.10.0\n"
          ],
          "name": "stdout"
        }
      ]
    },
    {
      "cell_type": "code",
      "metadata": {
        "id": "vhtBm6tzsNfV",
        "colab_type": "code",
        "outputId": "7b02c32a-c3cd-48c3-8825-bc3930e6d8d1",
        "colab": {
          "base_uri": "https://localhost:8080/",
          "height": 1000,
          "referenced_widgets": [
            "cf8c9bb8cd6f4a36927b36efc574d0d9",
            "0384aa19f2174021bcb57a3611375ea2",
            "2f47d03e1bb14d02bf563b35b90b839c",
            "98f2167d396a46b19e71d9293d965fba",
            "45c31cc4c073491e968aa410ebb0ab93",
            "ff94a4219aac4e4395074900cb4e5625",
            "99c8fb3d2c424ef481ed194675bcbfa6",
            "45aec800e1cc4a689078233d28c83346"
          ]
        }
      },
      "source": [
        "import torch\n",
        "from pytorch_pretrained_bert import BertTokenizer, BertModel, BertForMaskedLM\n",
        "\n",
        "import logging\n",
        "\n",
        "import matplotlib.pyplot as plt\n",
        "% matplotlib inline\n",
        "\n",
        "# Load pre-trained model tokenizer (vocabulary)\n",
        "tokenizer = BertTokenizer.from_pretrained('bert-base-uncased', do_lower_case=True)\n",
        "\n",
        "from transformers import BertTokenizer\n",
        "\n",
        "# Tokenize all of the sentences and map the tokens to their word IDs.\n",
        "input_ids = []\n",
        "attention_masks = []\n",
        "\n",
        "tokenizer = BertTokenizer.from_pretrained('bert-base-uncased', do_lower_case=True)\n",
        "\n",
        "# For every sentence...\n",
        "for sent in sentences_hosp:\n",
        "    # `encode_plus` will:\n",
        "    #   (1) Tokenize the sentence.\n",
        "    #   (2) Prepend the `[CLS]` token to the start.\n",
        "    #   (3) Append the `[SEP]` token to the end.\n",
        "    #   (4) Map tokens to their IDs.\n",
        "    #   (5) Pad or truncate the sentence to `max_length`\n",
        "    #   (6) Create attention masks for [PAD] tokens.\n",
        "    encoded_dict = tokenizer.encode_plus(\n",
        "                        sent,                      # Sentence to encode.\n",
        "                        add_special_tokens = True, # Add '[CLS]' and '[SEP]'\n",
        "                        max_length = 512,           # Pad & truncate all sentences.\n",
        "                        pad_to_max_length = True,\n",
        "                        return_attention_mask = True,   # Construct attn. masks.\n",
        "                        return_tensors = 'pt',     # Return pytorch tensors.\n",
        "                   )\n",
        "    \n",
        "    # Add the encoded sentence to the list.    \n",
        "    input_ids.append(encoded_dict['input_ids'])\n",
        "    \n",
        "    # And its attention mask (simply differentiates padding from non-padding).\n",
        "    attention_masks.append(encoded_dict['attention_mask'])\n",
        "\n",
        "# Convert the lists into tensors.\n",
        "input_ids = torch.cat(input_ids, dim=0)\n",
        "attention_masks = torch.cat(attention_masks, dim=0)\n",
        "labels = torch.tensor(labels)\n",
        "\n",
        "print('Original: ', sentences_hosp[0])\n",
        "print('Token IDs:', input_ids[0])"
      ],
      "execution_count": 0,
      "outputs": [
        {
          "output_type": "stream",
          "text": [
            "100%|██████████| 231508/231508 [00:00<00:00, 4310583.32B/s]\n"
          ],
          "name": "stderr"
        },
        {
          "output_type": "display_data",
          "data": {
            "application/vnd.jupyter.widget-view+json": {
              "model_id": "cf8c9bb8cd6f4a36927b36efc574d0d9",
              "version_minor": 0,
              "version_major": 2
            },
            "text/plain": [
              "HBox(children=(FloatProgress(value=0.0, description='Downloading', max=231508.0, style=ProgressStyle(descripti…"
            ]
          },
          "metadata": {
            "tags": []
          }
        },
        {
          "output_type": "stream",
          "text": [
            "\n",
            "Token IDs: tensor([  101,  9634,  3058, 11889,  3058,  2326, 24158,  7062,  1997,  2556,\n",
            "         7355,  1996,  5776,  2003,  1037,  2287,  2058,  2095, 11614,  2158,\n",
            "        24415,  1037,  2381,  1997, 27233,  4588, 17359, 17119,  4295, 21887,\n",
            "         2854, 16749, 10521, 19500,  3570,  2695,  2026, 24755, 25070,  1999,\n",
            "        14971,  7542,  1999,  2004,  2092,  2004, 15850, 16185, 14778,  2483,\n",
            "         2040,  3591,  2007, 11463, 26474,  1998,  8376,  2102,  3255,  1996,\n",
            "         5776,  2988, 11463,  6761,  4588, 14708,  2015,  2335,  2144,  7610,\n",
            "         2006,  1996,  2154,  3188,  2000,  9634,  2053, 19610,  3686,  7834,\n",
            "         2483,  2030, 28433,  3406,  5403, 12871, 14708,  2015,  2020,  6065,\n",
            "         1996,  5776,  2018,  1037,  2381,  1997, 10199,  8189,  1999,  1996,\n",
            "         5776,  2036,  2988,  2108,  7138,  4974,  2098, 16342,  2094,  2007,\n",
            "         2019,  3623,  1999,  2010, 10381,  2275, 10521,  9006, 13028,  2005,\n",
            "         2029,  2002,  2001,  2635,  4942,  2989,  8787,  9152, 13181, 25643,\n",
            "        17119,  2378, 24415,  4335,  2006,  1996,  2572,  1997,  8312,  1996,\n",
            "         8030,  7347, 27870,  2094,  1996,  5776,  3967, 18442,  9152,  2010,\n",
            "         7473,  2361,  2040,  2741,  2032,  2000,  2059, 14074,  9152,  1999,\n",
            "         1996,  3968,  1996,  1052,  2001,  2179,  2000,  2031,  1037, 19610,\n",
            "        10610, 26775,  4183,  1997, 10548,  2013,  1037, 26163,  1997,  2000,\n",
            "         2002,  2001,  2445,  4921, 21572,  2669,  7646,  4921, 20989,  1998,\n",
            "         9099, 25608,  2098,  1996,  2034,  1997,  3197,  1997, 23947,  2098,\n",
            "         2417,  2668,  4442,  3806, 13181, 29110,  6779,  2001, 17535,  1996,\n",
            "        24343,  3322,  2018,  2019, 23969,  2290,  2007,  7263, 14092,  3431,\n",
            "        19927,  1996,  5776,  2001,  3255,  2489,  1996,  5776,  2059,  2018,\n",
            "         2019, 13699, 19565,  3207,  1997,  4942,  6238, 12032,  3108,  3255,\n",
            "         1999,  1996,  3968,  2007,  2000,  2395,  4769,  3431,  1999,  1058,\n",
            "         2000, 21210, 14083,  2966,  2381,  3278,  2005,  3356,  3806, 13181,\n",
            "        18447, 19126,  3468,  2098,  1999,  2019,  9686,  7361,  3270,  3995,\n",
            "        12617, 13181,  8566, 10244, 15460,  3597,  7685,  3662,  2019,  5313,\n",
            "        17119,  1999,  1996,  1052,  8516, 21694,  1998, 11888,  3806, 18886,\n",
            "         7315, 21887,  2854, 16749, 10521, 19500,  3570,  2695,  2026, 24755,\n",
            "        25070,  1999, 14971,  7542,  1999,  1998, 28378,  4013, 16677, 23760,\n",
            "        13181, 21281,  2381,  1997, 15850, 16185, 14778,  2483,  5051,  8737,\n",
            "         4048,  3995,  3593,  2381,  1997,  2019, 17577,  2381,  1997,  2235,\n",
            "         6812,  2884,  6767,  2140, 19722,  7393,  3570,  2695, 10439, 10497,\n",
            "        22471, 20936,  2229,  3570,  2695, 13749, 20023,  2389,  5886,  6200,\n",
            "         7192,  1060,  2381,  1997, 16844,  2594, 26572,  4523,  1998,  9033,\n",
            "        21693,  9314,  4305, 16874,  2594, 18845,  6190, 24164, 10623,  3111,\n",
            "         1996,  5776,  2038,  2053,  2124,  4319,  2035,  2121, 17252,  7583,\n",
            "        21261,  2015,  1996,  5776,  2001,  2006,  8292,  2571, 13578,  2595,\n",
            "         2004,  8197,  6657,  3653,  2094,  8977,  5643,  8823,  3630,  4135,\n",
            "         2140, 10047, 24979,  9152, 13181, 25643, 17119,  2378, 10975,  3619,\n",
            "        10085,  4818,  2381,  2002,  2003,  1037,  3394,  7522,  2171,  3988,\n",
            "         2171,  2483,  6556,  9098,  2381,  2591,  6544,  2224,  2029,  2003,\n",
            "         2378, 19699,  2063, 15417,  2496,  2007,  2365,  7011,  4328,  2135,\n",
            "         2381,  2512,  8663, 18886,  8569,  7062, 23302,  7749,  2006,  9634,\n",
            "         2004,  4076,  8995,  5751, 28403,  2140,  5751,  1997,  4860,  2668,\n",
            "         3778,  8187, 16464,  3446,  1997,  1998,  7722,  2006, 23675, 28745,\n",
            "        24454,  2389,  1996,  5776,  2596,  6625, 21030,  3372,  7749,  2001,\n",
            "         4895, 28578, 17007,  3085,  3272,  2005,  5122,  8663, 19792,  6593,\n",
            "        11444,  4318, 14163, 13186,  7911, 12821, 14049,  2951,  3278,  2005,\n",
            "         1996, 19610, 10610, 26775,  4183,  1997,  4632, 16238,  2682,  1037,\n",
            "        18044,   102])\n"
          ],
          "name": "stdout"
        }
      ]
    },
    {
      "cell_type": "code",
      "metadata": {
        "id": "fZZ7snW1sjlY",
        "colab_type": "code",
        "colab": {}
      },
      "source": [
        "# # Create attention masks\n",
        "# attention_masks = []\n",
        "\n",
        "# # Create a mask of 1s for each token followed by 0s for padding\n",
        "# for seq in input_ids:\n",
        "#   seq_mask = [float(i>0) for i in seq]\n",
        "#   attention_masks.append(seq_mask)"
      ],
      "execution_count": 0,
      "outputs": []
    },
    {
      "cell_type": "code",
      "metadata": {
        "id": "XvPU2bSksl0P",
        "colab_type": "code",
        "colab": {}
      },
      "source": [
        "# Use train_test_split to split our data into train and validation sets for training\n",
        "\n",
        "train_inputs, validation_inputs, train_labels, validation_labels = train_test_split(input_ids, labels, \n",
        "                                                          random_state=2018, test_size=0.1)\n",
        "train_masks, validation_masks, _, _ = train_test_split(attention_masks, input_ids,\n",
        "                                             random_state=2018, test_size=0.1)"
      ],
      "execution_count": 0,
      "outputs": []
    },
    {
      "cell_type": "code",
      "metadata": {
        "id": "fpBA-WYCGKHC",
        "colab_type": "code",
        "colab": {}
      },
      "source": [
        ""
      ],
      "execution_count": 0,
      "outputs": []
    },
    {
      "cell_type": "code",
      "metadata": {
        "id": "JDbXK0wNsnxu",
        "colab_type": "code",
        "outputId": "9c94739a-30e1-4cea-fdc3-e2b19b66aedf",
        "colab": {
          "base_uri": "https://localhost:8080/",
          "height": 245
        }
      },
      "source": [
        "# Convert all of our data into torch tensors, the required datatype for our model\n",
        "\n",
        "train_inputs = torch.tensor(train_inputs)\n",
        "validation_inputs = torch.tensor(validation_inputs)\n",
        "train_labels = torch.tensor(train_labels)\n",
        "validation_labels = torch.tensor(validation_labels)\n",
        "train_masks = torch.tensor(train_masks)\n",
        "validation_masks = torch.tensor(validation_masks)"
      ],
      "execution_count": 0,
      "outputs": [
        {
          "output_type": "stream",
          "text": [
            "/usr/local/lib/python3.6/dist-packages/ipykernel_launcher.py:3: UserWarning: To copy construct from a tensor, it is recommended to use sourceTensor.clone().detach() or sourceTensor.clone().detach().requires_grad_(True), rather than torch.tensor(sourceTensor).\n",
            "  This is separate from the ipykernel package so we can avoid doing imports until\n",
            "/usr/local/lib/python3.6/dist-packages/ipykernel_launcher.py:4: UserWarning: To copy construct from a tensor, it is recommended to use sourceTensor.clone().detach() or sourceTensor.clone().detach().requires_grad_(True), rather than torch.tensor(sourceTensor).\n",
            "  after removing the cwd from sys.path.\n",
            "/usr/local/lib/python3.6/dist-packages/ipykernel_launcher.py:5: UserWarning: To copy construct from a tensor, it is recommended to use sourceTensor.clone().detach() or sourceTensor.clone().detach().requires_grad_(True), rather than torch.tensor(sourceTensor).\n",
            "  \"\"\"\n",
            "/usr/local/lib/python3.6/dist-packages/ipykernel_launcher.py:6: UserWarning: To copy construct from a tensor, it is recommended to use sourceTensor.clone().detach() or sourceTensor.clone().detach().requires_grad_(True), rather than torch.tensor(sourceTensor).\n",
            "  \n",
            "/usr/local/lib/python3.6/dist-packages/ipykernel_launcher.py:7: UserWarning: To copy construct from a tensor, it is recommended to use sourceTensor.clone().detach() or sourceTensor.clone().detach().requires_grad_(True), rather than torch.tensor(sourceTensor).\n",
            "  import sys\n",
            "/usr/local/lib/python3.6/dist-packages/ipykernel_launcher.py:8: UserWarning: To copy construct from a tensor, it is recommended to use sourceTensor.clone().detach() or sourceTensor.clone().detach().requires_grad_(True), rather than torch.tensor(sourceTensor).\n",
            "  \n"
          ],
          "name": "stderr"
        }
      ]
    },
    {
      "cell_type": "code",
      "metadata": {
        "id": "v6P1aXgWu31R",
        "colab_type": "code",
        "colab": {}
      },
      "source": [
        ""
      ],
      "execution_count": 0,
      "outputs": []
    },
    {
      "cell_type": "code",
      "metadata": {
        "id": "Ev8NzRI2soy1",
        "colab_type": "code",
        "colab": {}
      },
      "source": [
        "# Select a batch size for training. For fine-tuning BERT on a specific task, the authors recommend a batch size of 16 or 32\n",
        "batch_size = 12\n",
        "\n",
        "# Create an iterator of our data with torch DataLoader. This helps save on memory during training because, unlike a for loop, \n",
        "# with an iterator the entire dataset does not need to be loaded into memory\n",
        "\n",
        "train_data = TensorDataset(train_inputs, train_masks, train_labels)\n",
        "train_sampler = RandomSampler(train_data)\n",
        "train_dataloader = DataLoader(train_data, sampler=train_sampler, batch_size=batch_size)\n",
        "\n",
        "validation_data = TensorDataset(validation_inputs, validation_masks, validation_labels)\n",
        "validation_sampler = SequentialSampler(validation_data)\n",
        "validation_dataloader = DataLoader(validation_data, sampler=validation_sampler, batch_size=batch_size)\n"
      ],
      "execution_count": 0,
      "outputs": []
    },
    {
      "cell_type": "code",
      "metadata": {
        "id": "1yGDx7Geu7Fi",
        "colab_type": "code",
        "colab": {}
      },
      "source": [
        "torch.cuda.empty_cache()"
      ],
      "execution_count": 0,
      "outputs": []
    },
    {
      "cell_type": "code",
      "metadata": {
        "id": "P5Uorf5wssZH",
        "colab_type": "code",
        "outputId": "8ed7771f-1f55-4580-cc62-8c6df6e37aeb",
        "colab": {
          "base_uri": "https://localhost:8080/",
          "height": 1000
        }
      },
      "source": [
        "# Load BertForSequenceClassification, the pretrained BERT model with a single linear classification layer on top. \n",
        "\n",
        "model = BertForSequenceClassification.from_pretrained(\"bert-base-uncased\", num_labels=10)\n",
        "model.cuda()"
      ],
      "execution_count": 0,
      "outputs": [
        {
          "output_type": "stream",
          "text": [
            "100%|██████████| 407873900/407873900 [00:07<00:00, 57471328.21B/s]\n"
          ],
          "name": "stderr"
        },
        {
          "output_type": "execute_result",
          "data": {
            "text/plain": [
              "BertForSequenceClassification(\n",
              "  (bert): BertModel(\n",
              "    (embeddings): BertEmbeddings(\n",
              "      (word_embeddings): Embedding(30522, 768, padding_idx=0)\n",
              "      (position_embeddings): Embedding(512, 768)\n",
              "      (token_type_embeddings): Embedding(2, 768)\n",
              "      (LayerNorm): BertLayerNorm()\n",
              "      (dropout): Dropout(p=0.1, inplace=False)\n",
              "    )\n",
              "    (encoder): BertEncoder(\n",
              "      (layer): ModuleList(\n",
              "        (0): BertLayer(\n",
              "          (attention): BertAttention(\n",
              "            (self): BertSelfAttention(\n",
              "              (query): Linear(in_features=768, out_features=768, bias=True)\n",
              "              (key): Linear(in_features=768, out_features=768, bias=True)\n",
              "              (value): Linear(in_features=768, out_features=768, bias=True)\n",
              "              (dropout): Dropout(p=0.1, inplace=False)\n",
              "            )\n",
              "            (output): BertSelfOutput(\n",
              "              (dense): Linear(in_features=768, out_features=768, bias=True)\n",
              "              (LayerNorm): BertLayerNorm()\n",
              "              (dropout): Dropout(p=0.1, inplace=False)\n",
              "            )\n",
              "          )\n",
              "          (intermediate): BertIntermediate(\n",
              "            (dense): Linear(in_features=768, out_features=3072, bias=True)\n",
              "          )\n",
              "          (output): BertOutput(\n",
              "            (dense): Linear(in_features=3072, out_features=768, bias=True)\n",
              "            (LayerNorm): BertLayerNorm()\n",
              "            (dropout): Dropout(p=0.1, inplace=False)\n",
              "          )\n",
              "        )\n",
              "        (1): BertLayer(\n",
              "          (attention): BertAttention(\n",
              "            (self): BertSelfAttention(\n",
              "              (query): Linear(in_features=768, out_features=768, bias=True)\n",
              "              (key): Linear(in_features=768, out_features=768, bias=True)\n",
              "              (value): Linear(in_features=768, out_features=768, bias=True)\n",
              "              (dropout): Dropout(p=0.1, inplace=False)\n",
              "            )\n",
              "            (output): BertSelfOutput(\n",
              "              (dense): Linear(in_features=768, out_features=768, bias=True)\n",
              "              (LayerNorm): BertLayerNorm()\n",
              "              (dropout): Dropout(p=0.1, inplace=False)\n",
              "            )\n",
              "          )\n",
              "          (intermediate): BertIntermediate(\n",
              "            (dense): Linear(in_features=768, out_features=3072, bias=True)\n",
              "          )\n",
              "          (output): BertOutput(\n",
              "            (dense): Linear(in_features=3072, out_features=768, bias=True)\n",
              "            (LayerNorm): BertLayerNorm()\n",
              "            (dropout): Dropout(p=0.1, inplace=False)\n",
              "          )\n",
              "        )\n",
              "        (2): BertLayer(\n",
              "          (attention): BertAttention(\n",
              "            (self): BertSelfAttention(\n",
              "              (query): Linear(in_features=768, out_features=768, bias=True)\n",
              "              (key): Linear(in_features=768, out_features=768, bias=True)\n",
              "              (value): Linear(in_features=768, out_features=768, bias=True)\n",
              "              (dropout): Dropout(p=0.1, inplace=False)\n",
              "            )\n",
              "            (output): BertSelfOutput(\n",
              "              (dense): Linear(in_features=768, out_features=768, bias=True)\n",
              "              (LayerNorm): BertLayerNorm()\n",
              "              (dropout): Dropout(p=0.1, inplace=False)\n",
              "            )\n",
              "          )\n",
              "          (intermediate): BertIntermediate(\n",
              "            (dense): Linear(in_features=768, out_features=3072, bias=True)\n",
              "          )\n",
              "          (output): BertOutput(\n",
              "            (dense): Linear(in_features=3072, out_features=768, bias=True)\n",
              "            (LayerNorm): BertLayerNorm()\n",
              "            (dropout): Dropout(p=0.1, inplace=False)\n",
              "          )\n",
              "        )\n",
              "        (3): BertLayer(\n",
              "          (attention): BertAttention(\n",
              "            (self): BertSelfAttention(\n",
              "              (query): Linear(in_features=768, out_features=768, bias=True)\n",
              "              (key): Linear(in_features=768, out_features=768, bias=True)\n",
              "              (value): Linear(in_features=768, out_features=768, bias=True)\n",
              "              (dropout): Dropout(p=0.1, inplace=False)\n",
              "            )\n",
              "            (output): BertSelfOutput(\n",
              "              (dense): Linear(in_features=768, out_features=768, bias=True)\n",
              "              (LayerNorm): BertLayerNorm()\n",
              "              (dropout): Dropout(p=0.1, inplace=False)\n",
              "            )\n",
              "          )\n",
              "          (intermediate): BertIntermediate(\n",
              "            (dense): Linear(in_features=768, out_features=3072, bias=True)\n",
              "          )\n",
              "          (output): BertOutput(\n",
              "            (dense): Linear(in_features=3072, out_features=768, bias=True)\n",
              "            (LayerNorm): BertLayerNorm()\n",
              "            (dropout): Dropout(p=0.1, inplace=False)\n",
              "          )\n",
              "        )\n",
              "        (4): BertLayer(\n",
              "          (attention): BertAttention(\n",
              "            (self): BertSelfAttention(\n",
              "              (query): Linear(in_features=768, out_features=768, bias=True)\n",
              "              (key): Linear(in_features=768, out_features=768, bias=True)\n",
              "              (value): Linear(in_features=768, out_features=768, bias=True)\n",
              "              (dropout): Dropout(p=0.1, inplace=False)\n",
              "            )\n",
              "            (output): BertSelfOutput(\n",
              "              (dense): Linear(in_features=768, out_features=768, bias=True)\n",
              "              (LayerNorm): BertLayerNorm()\n",
              "              (dropout): Dropout(p=0.1, inplace=False)\n",
              "            )\n",
              "          )\n",
              "          (intermediate): BertIntermediate(\n",
              "            (dense): Linear(in_features=768, out_features=3072, bias=True)\n",
              "          )\n",
              "          (output): BertOutput(\n",
              "            (dense): Linear(in_features=3072, out_features=768, bias=True)\n",
              "            (LayerNorm): BertLayerNorm()\n",
              "            (dropout): Dropout(p=0.1, inplace=False)\n",
              "          )\n",
              "        )\n",
              "        (5): BertLayer(\n",
              "          (attention): BertAttention(\n",
              "            (self): BertSelfAttention(\n",
              "              (query): Linear(in_features=768, out_features=768, bias=True)\n",
              "              (key): Linear(in_features=768, out_features=768, bias=True)\n",
              "              (value): Linear(in_features=768, out_features=768, bias=True)\n",
              "              (dropout): Dropout(p=0.1, inplace=False)\n",
              "            )\n",
              "            (output): BertSelfOutput(\n",
              "              (dense): Linear(in_features=768, out_features=768, bias=True)\n",
              "              (LayerNorm): BertLayerNorm()\n",
              "              (dropout): Dropout(p=0.1, inplace=False)\n",
              "            )\n",
              "          )\n",
              "          (intermediate): BertIntermediate(\n",
              "            (dense): Linear(in_features=768, out_features=3072, bias=True)\n",
              "          )\n",
              "          (output): BertOutput(\n",
              "            (dense): Linear(in_features=3072, out_features=768, bias=True)\n",
              "            (LayerNorm): BertLayerNorm()\n",
              "            (dropout): Dropout(p=0.1, inplace=False)\n",
              "          )\n",
              "        )\n",
              "        (6): BertLayer(\n",
              "          (attention): BertAttention(\n",
              "            (self): BertSelfAttention(\n",
              "              (query): Linear(in_features=768, out_features=768, bias=True)\n",
              "              (key): Linear(in_features=768, out_features=768, bias=True)\n",
              "              (value): Linear(in_features=768, out_features=768, bias=True)\n",
              "              (dropout): Dropout(p=0.1, inplace=False)\n",
              "            )\n",
              "            (output): BertSelfOutput(\n",
              "              (dense): Linear(in_features=768, out_features=768, bias=True)\n",
              "              (LayerNorm): BertLayerNorm()\n",
              "              (dropout): Dropout(p=0.1, inplace=False)\n",
              "            )\n",
              "          )\n",
              "          (intermediate): BertIntermediate(\n",
              "            (dense): Linear(in_features=768, out_features=3072, bias=True)\n",
              "          )\n",
              "          (output): BertOutput(\n",
              "            (dense): Linear(in_features=3072, out_features=768, bias=True)\n",
              "            (LayerNorm): BertLayerNorm()\n",
              "            (dropout): Dropout(p=0.1, inplace=False)\n",
              "          )\n",
              "        )\n",
              "        (7): BertLayer(\n",
              "          (attention): BertAttention(\n",
              "            (self): BertSelfAttention(\n",
              "              (query): Linear(in_features=768, out_features=768, bias=True)\n",
              "              (key): Linear(in_features=768, out_features=768, bias=True)\n",
              "              (value): Linear(in_features=768, out_features=768, bias=True)\n",
              "              (dropout): Dropout(p=0.1, inplace=False)\n",
              "            )\n",
              "            (output): BertSelfOutput(\n",
              "              (dense): Linear(in_features=768, out_features=768, bias=True)\n",
              "              (LayerNorm): BertLayerNorm()\n",
              "              (dropout): Dropout(p=0.1, inplace=False)\n",
              "            )\n",
              "          )\n",
              "          (intermediate): BertIntermediate(\n",
              "            (dense): Linear(in_features=768, out_features=3072, bias=True)\n",
              "          )\n",
              "          (output): BertOutput(\n",
              "            (dense): Linear(in_features=3072, out_features=768, bias=True)\n",
              "            (LayerNorm): BertLayerNorm()\n",
              "            (dropout): Dropout(p=0.1, inplace=False)\n",
              "          )\n",
              "        )\n",
              "        (8): BertLayer(\n",
              "          (attention): BertAttention(\n",
              "            (self): BertSelfAttention(\n",
              "              (query): Linear(in_features=768, out_features=768, bias=True)\n",
              "              (key): Linear(in_features=768, out_features=768, bias=True)\n",
              "              (value): Linear(in_features=768, out_features=768, bias=True)\n",
              "              (dropout): Dropout(p=0.1, inplace=False)\n",
              "            )\n",
              "            (output): BertSelfOutput(\n",
              "              (dense): Linear(in_features=768, out_features=768, bias=True)\n",
              "              (LayerNorm): BertLayerNorm()\n",
              "              (dropout): Dropout(p=0.1, inplace=False)\n",
              "            )\n",
              "          )\n",
              "          (intermediate): BertIntermediate(\n",
              "            (dense): Linear(in_features=768, out_features=3072, bias=True)\n",
              "          )\n",
              "          (output): BertOutput(\n",
              "            (dense): Linear(in_features=3072, out_features=768, bias=True)\n",
              "            (LayerNorm): BertLayerNorm()\n",
              "            (dropout): Dropout(p=0.1, inplace=False)\n",
              "          )\n",
              "        )\n",
              "        (9): BertLayer(\n",
              "          (attention): BertAttention(\n",
              "            (self): BertSelfAttention(\n",
              "              (query): Linear(in_features=768, out_features=768, bias=True)\n",
              "              (key): Linear(in_features=768, out_features=768, bias=True)\n",
              "              (value): Linear(in_features=768, out_features=768, bias=True)\n",
              "              (dropout): Dropout(p=0.1, inplace=False)\n",
              "            )\n",
              "            (output): BertSelfOutput(\n",
              "              (dense): Linear(in_features=768, out_features=768, bias=True)\n",
              "              (LayerNorm): BertLayerNorm()\n",
              "              (dropout): Dropout(p=0.1, inplace=False)\n",
              "            )\n",
              "          )\n",
              "          (intermediate): BertIntermediate(\n",
              "            (dense): Linear(in_features=768, out_features=3072, bias=True)\n",
              "          )\n",
              "          (output): BertOutput(\n",
              "            (dense): Linear(in_features=3072, out_features=768, bias=True)\n",
              "            (LayerNorm): BertLayerNorm()\n",
              "            (dropout): Dropout(p=0.1, inplace=False)\n",
              "          )\n",
              "        )\n",
              "        (10): BertLayer(\n",
              "          (attention): BertAttention(\n",
              "            (self): BertSelfAttention(\n",
              "              (query): Linear(in_features=768, out_features=768, bias=True)\n",
              "              (key): Linear(in_features=768, out_features=768, bias=True)\n",
              "              (value): Linear(in_features=768, out_features=768, bias=True)\n",
              "              (dropout): Dropout(p=0.1, inplace=False)\n",
              "            )\n",
              "            (output): BertSelfOutput(\n",
              "              (dense): Linear(in_features=768, out_features=768, bias=True)\n",
              "              (LayerNorm): BertLayerNorm()\n",
              "              (dropout): Dropout(p=0.1, inplace=False)\n",
              "            )\n",
              "          )\n",
              "          (intermediate): BertIntermediate(\n",
              "            (dense): Linear(in_features=768, out_features=3072, bias=True)\n",
              "          )\n",
              "          (output): BertOutput(\n",
              "            (dense): Linear(in_features=3072, out_features=768, bias=True)\n",
              "            (LayerNorm): BertLayerNorm()\n",
              "            (dropout): Dropout(p=0.1, inplace=False)\n",
              "          )\n",
              "        )\n",
              "        (11): BertLayer(\n",
              "          (attention): BertAttention(\n",
              "            (self): BertSelfAttention(\n",
              "              (query): Linear(in_features=768, out_features=768, bias=True)\n",
              "              (key): Linear(in_features=768, out_features=768, bias=True)\n",
              "              (value): Linear(in_features=768, out_features=768, bias=True)\n",
              "              (dropout): Dropout(p=0.1, inplace=False)\n",
              "            )\n",
              "            (output): BertSelfOutput(\n",
              "              (dense): Linear(in_features=768, out_features=768, bias=True)\n",
              "              (LayerNorm): BertLayerNorm()\n",
              "              (dropout): Dropout(p=0.1, inplace=False)\n",
              "            )\n",
              "          )\n",
              "          (intermediate): BertIntermediate(\n",
              "            (dense): Linear(in_features=768, out_features=3072, bias=True)\n",
              "          )\n",
              "          (output): BertOutput(\n",
              "            (dense): Linear(in_features=3072, out_features=768, bias=True)\n",
              "            (LayerNorm): BertLayerNorm()\n",
              "            (dropout): Dropout(p=0.1, inplace=False)\n",
              "          )\n",
              "        )\n",
              "      )\n",
              "    )\n",
              "    (pooler): BertPooler(\n",
              "      (dense): Linear(in_features=768, out_features=768, bias=True)\n",
              "      (activation): Tanh()\n",
              "    )\n",
              "  )\n",
              "  (dropout): Dropout(p=0.1, inplace=False)\n",
              "  (classifier): Linear(in_features=768, out_features=10, bias=True)\n",
              ")"
            ]
          },
          "metadata": {
            "tags": []
          },
          "execution_count": 31
        }
      ]
    },
    {
      "cell_type": "code",
      "metadata": {
        "id": "jCiy2mdTswB8",
        "colab_type": "code",
        "colab": {}
      },
      "source": [
        "\n",
        "param_optimizer = list(model.named_parameters())\n",
        "\n",
        "no_decay = ['bias', 'gamma', 'beta']\n",
        "optimizer_grouped_parameters = [\n",
        "    {'params': [p for n, p in param_optimizer if not any(nd in n for nd in no_decay)],\n",
        "     'weight_decay_rate': 0.01},\n",
        "    {'params': [p for n, p in param_optimizer if any(nd in n for nd in no_decay)],\n",
        "     'weight_decay_rate': 0.01}\n",
        "]\n",
        "\n"
      ],
      "execution_count": 0,
      "outputs": []
    },
    {
      "cell_type": "code",
      "metadata": {
        "id": "NXFQ_Tx1s1FM",
        "colab_type": "code",
        "outputId": "134e90cf-1e29-4f08-d534-a1c713f89ed6",
        "colab": {
          "base_uri": "https://localhost:8080/",
          "height": 35
        }
      },
      "source": [
        "# This variable contains all of the hyperparemeter information our training loop needs\n",
        "optimizer = BertAdam(optimizer_grouped_parameters,\n",
        "                     lr=1e-5,\n",
        "                     warmup=.1)"
      ],
      "execution_count": 0,
      "outputs": [
        {
          "output_type": "stream",
          "text": [
            "t_total value of -1 results in schedule not being applied\n"
          ],
          "name": "stderr"
        }
      ]
    },
    {
      "cell_type": "code",
      "metadata": {
        "id": "DYDJxUGgtRRY",
        "colab_type": "code",
        "colab": {}
      },
      "source": [
        "# Function to calculate the accuracy of our predictions vs labels\n",
        "from sklearn.metrics import f1_score\n",
        "errors = {\"0\": 0, \"1\":0, \"2\":0, \"3\":0, \"4\":0, \"5\":0, \"6\":0, \"7\":0, \"8\":0, \"9\":0}\n",
        "total = {\"0\": 0, \"1\":0, \"2\":0, \"3\":0, \"4\":0, \"5\":0, \"6\":0, \"7\":0, \"8\":0, \"9\":0}\n",
        "\n",
        "def flat_accuracy(preds, labels):\n",
        "    pred_flat = np.argmax(preds, axis=1).flatten()\n",
        "    labels_flat = labels.flatten()\n",
        "    \n",
        "    ##determine frequent errors\n",
        "    for i in range(len(pred_flat)):\n",
        "      if labels_flat[i] != pred_flat[i]:\n",
        "        errors[str(labels_flat[i])] += 1\n",
        "      total[str(labels_flat[i])] += 1\n",
        "    return np.sum(pred_flat == labels_flat) / len(labels_flat)"
      ],
      "execution_count": 0,
      "outputs": []
    },
    {
      "cell_type": "code",
      "metadata": {
        "id": "nuuouGbXuoUx",
        "colab_type": "code",
        "colab": {}
      },
      "source": [
        "from sklearn.metrics import roc_auc_score\n",
        "from sklearn.preprocessing import normalize\n",
        "\n",
        "\n",
        "def aucscore(labels, preds):\n",
        "  # print(preds)\n",
        "  pred_flat = np.max(preds, axis=1).flatten()\n",
        "  print(pred_flat)\n",
        "  labels_flat = labels\n",
        "  print('x')\n",
        "  micro = roc_auc_score(labels_flat, pred_flat, average='micro', multi_class='ovo')\n",
        "  print('x')\n",
        "  macro = roc_auc_score(labels_flat, pred_flat, average='macro', multi_class='ovo')\n",
        "  weighted = roc_auc_score(labels_flat, pred_flat, average='weighted', multi_class='ovo')\n",
        "\n",
        "  return micro, macro, weighted"
      ],
      "execution_count": 0,
      "outputs": []
    },
    {
      "cell_type": "code",
      "metadata": {
        "id": "w_kDBAuHroxM",
        "colab_type": "code",
        "colab": {}
      },
      "source": [
        "def f1score(labels, preds):\n",
        "  pred_flat = np.argmax(preds, axis=1).flatten()\n",
        "  labels_flat = labels.flatten()\n",
        "\n",
        "  micro = f1_score(labels_flat, pred_flat, average='micro')\n",
        "  macro = f1_score(labels_flat, pred_flat, average='macro')\n",
        "  weighted = f1_score(labels_flat, pred_flat, average='weighted')\n",
        "\n",
        "  return micro, macro, weighted\n"
      ],
      "execution_count": 0,
      "outputs": []
    },
    {
      "cell_type": "code",
      "metadata": {
        "id": "vPzkn4TqXT4s",
        "colab_type": "code",
        "colab": {}
      },
      "source": [
        "import time\n",
        "import datetime\n",
        "\n",
        "def format_time(elapsed):\n",
        "    '''\n",
        "    Takes a time in seconds and returns a string hh:mm:ss\n",
        "    '''\n",
        "    # Round to the nearest second.\n",
        "    elapsed_rounded = int(round((elapsed)))\n",
        "    \n",
        "    # Format as hh:mm:ss\n",
        "    return str(datetime.timedelta(seconds=elapsed_rounded))"
      ],
      "execution_count": 0,
      "outputs": []
    },
    {
      "cell_type": "code",
      "metadata": {
        "id": "9BH8cymnDtdT",
        "colab_type": "code",
        "outputId": "68152ad4-584f-4623-ca6c-2923eedeec3a",
        "colab": {
          "base_uri": "https://localhost:8080/",
          "height": 589
        }
      },
      "source": [
        "from sklearn.metrics import f1_score\n",
        "\n",
        "# Store our loss and accuracy for plotting\n",
        "train_loss_set = []\n",
        "\n",
        "# Number of training epochs (authors recommend between 2 and 4)\n",
        "epochs = 4\n",
        "# trange is a tqdm wrapper around the normal python range\n",
        "for _ in trange(epochs, desc=\"Epoch\"):\n",
        "  \n",
        "  \n",
        "  # Training\n",
        "  \n",
        "  # Set our model to training mode (as opposed to evaluation mode)\n",
        "  model.train()\n",
        "  \n",
        "  # Tracking variables\n",
        "  tr_loss = 0\n",
        "  nb_tr_examples, nb_tr_steps = 0, 0\n",
        "  total_eval_loss=0\n",
        "  \n",
        "  # Train the data for one epoch\n",
        "  for step, batch in enumerate(train_dataloader):\n",
        "    # Add batch to GPU\n",
        "    batch = tuple(t.to(device) for t in batch)\n",
        "    # Unpack the inputs from our dataloader\n",
        "    b_input_ids, b_input_mask, b_labels = batch\n",
        "    # Clear out the gradients (by default they accumulate)\n",
        "    optimizer.zero_grad()\n",
        "\n",
        "    # Forward pass\n",
        "\n",
        "    loss = model(b_input_ids, token_type_ids=None, attention_mask=b_input_mask, labels=b_labels)\n",
        "    train_loss_set.append(loss.item())    \n",
        "    # Backward pass\n",
        "    loss.backward()\n",
        "    # Update parameters and take a step using the computed gradient\n",
        "    optimizer.step()\n",
        "    \n",
        "    \n",
        "    # Update tracking variables\n",
        "    tr_loss += loss.item()\n",
        "    nb_tr_examples += b_input_ids.size(0)\n",
        "    nb_tr_steps += 1\n",
        "\n",
        "  print(\"Train loss: {}\".format(tr_loss/nb_tr_steps))\n",
        "    \n",
        "    \n",
        "  # Validation\n",
        "\n",
        "  # Put model in evaluation mode to evaluate loss on the validation set\n",
        "  model.eval()\n",
        "\n",
        "  # Tracking variables \n",
        "  eval_loss, eval_accuracy = 0, 0\n",
        "  f1_micr, f1_macr, f1_weight = 0,0,0\n",
        "  auc_micr, auc_macr, auc_weight = 0,0,0\n",
        "  nb_eval_steps, nb_eval_examples = 0, 0\n",
        " \n",
        "  # Evaluate data for one epoch\n",
        "  for batch in validation_dataloader:\n",
        "    # Add batch to GPU\n",
        "    batch = tuple(t.to(device) for t in batch)\n",
        "    # Unpack the inputs from our dataloader\n",
        "    b_input_ids, b_input_mask, b_labels = batch\n",
        "    # Telling the model not to compute or store gradients, saving memory and speeding up validation\n",
        "    with torch.no_grad():\n",
        "      # Forward pass, calculate logit predictions\n",
        "      logits = model(b_input_ids, token_type_ids=None, attention_mask=b_input_mask)\n",
        "    \n",
        "    total_eval_loss+= loss.item()\n",
        "    # Move logits and labels to CPU\n",
        "    logits = logits.detach().cpu().numpy()\n",
        "    label_ids = b_labels.to('cpu').numpy()\n",
        "\n",
        "    tmp_eval_accuracy = flat_accuracy(logits, label_ids)\n",
        "    tmp_f1_micr, tmp_f1_macr, tmp_f1_weight = f1score(label_ids, logits)\n",
        "    #tmp_auc_micr, tmp_auc_macr, tmp_auc_weight = aucscore(label_ids, logits)\n",
        "    eval_accuracy += tmp_eval_accuracy\n",
        "\n",
        "    #calculate f1 scores\n",
        "    f1_micr += tmp_f1_micr\n",
        "    f1_macr += tmp_f1_macr\n",
        "    f1_weight += tmp_f1_weight\n",
        "\n",
        "    # #calculate auc\n",
        "    # auc_micr += tmp_auc_micr\n",
        "    # auc_macr += tmp_auc_macr\n",
        "    # auc_weight += tmp_auc_weight\n",
        "\n",
        "    nb_eval_steps += 1\n",
        "  print('TOTAL EVAL LOSS: ', total_eval_loss/len(validation_dataloader))\n",
        "  print(\"Validation Accuracy: {}\".format(eval_accuracy/nb_eval_steps))\n",
        "  print('F1 micro:', f1_micr/nb_eval_steps)  \n",
        "  print('F1 macro:', f1_macr/nb_eval_steps)\n",
        "  print('F1 weight:', f1_weight/nb_eval_steps)\n",
        "  print('    DONE.')\n",
        "  #print('AUC macro: ', auc_macr/nb_eval_steps )"
      ],
      "execution_count": 0,
      "outputs": [
        {
          "output_type": "stream",
          "text": [
            "\rEpoch:   0%|          | 0/4 [00:00<?, ?it/s]/pytorch/torch/csrc/utils/python_arg_parser.cpp:756: UserWarning: This overload of add_ is deprecated:\n",
            "\tadd_(Number alpha, Tensor other)\n",
            "Consider using one of the following signatures instead:\n",
            "\tadd_(Tensor other, *, Number alpha)\n"
          ],
          "name": "stderr"
        },
        {
          "output_type": "stream",
          "text": [
            "Train loss: 1.8843485074573092\n"
          ],
          "name": "stdout"
        },
        {
          "output_type": "stream",
          "text": [
            "\rEpoch:  25%|██▌       | 1/4 [28:54<1:26:44, 1734.96s/it]"
          ],
          "name": "stderr"
        },
        {
          "output_type": "stream",
          "text": [
            "TOTAL EVAL LOSS:  1.6018424034118652\n",
            "Validation Accuracy: 0.45037037037037003\n",
            "F1 micro: 0.45037037037037003\n",
            "F1 macro: 0.3288580712644204\n",
            "F1 weight: 0.41982202982203004\n",
            "    DONE.\n",
            "Train loss: 1.614290347982336\n"
          ],
          "name": "stdout"
        },
        {
          "output_type": "stream",
          "text": [
            "\rEpoch:  50%|█████     | 2/4 [57:51<57:50, 1735.50s/it]  "
          ],
          "name": "stderr"
        },
        {
          "output_type": "stream",
          "text": [
            "TOTAL EVAL LOSS:  1.3884776830673218\n",
            "Validation Accuracy: 0.46925925925925904\n",
            "F1 micro: 0.46925925925925904\n",
            "F1 macro: 0.35422499510092126\n",
            "F1 weight: 0.4441807492918605\n",
            "    DONE.\n",
            "Train loss: 1.520292144410404\n"
          ],
          "name": "stdout"
        },
        {
          "output_type": "stream",
          "text": [
            "\rEpoch:  75%|███████▌  | 3/4 [1:26:47<28:55, 1735.73s/it]"
          ],
          "name": "stderr"
        },
        {
          "output_type": "stream",
          "text": [
            "TOTAL EVAL LOSS:  1.369158387184143\n",
            "Validation Accuracy: 0.48333333333333345\n",
            "F1 micro: 0.48333333333333345\n",
            "F1 macro: 0.3664672576101148\n",
            "F1 weight: 0.45774790230345797\n",
            "    DONE.\n",
            "Train loss: 1.4331650678463923\n"
          ],
          "name": "stdout"
        },
        {
          "output_type": "stream",
          "text": [
            "Epoch: 100%|██████████| 4/4 [1:55:43<00:00, 1735.91s/it]"
          ],
          "name": "stderr"
        },
        {
          "output_type": "stream",
          "text": [
            "TOTAL EVAL LOSS:  1.700575351715088\n",
            "Validation Accuracy: 0.48111111111111116\n",
            "F1 micro: 0.48111111111111116\n",
            "F1 macro: 0.36416629459116223\n",
            "F1 weight: 0.45533119555341806\n",
            "    DONE.\n"
          ],
          "name": "stdout"
        },
        {
          "output_type": "stream",
          "text": [
            "\n"
          ],
          "name": "stderr"
        }
      ]
    },
    {
      "cell_type": "code",
      "metadata": {
        "id": "mVqGcGXWAxSJ",
        "colab_type": "code",
        "outputId": "865c1469-5547-4ea2-f0f5-865d79988a1a",
        "colab": {
          "base_uri": "https://localhost:8080/",
          "height": 191
        }
      },
      "source": [
        "errors\n"
      ],
      "execution_count": 0,
      "outputs": [
        {
          "output_type": "execute_result",
          "data": {
            "text/plain": [
              "{'0': 668,\n",
              " '1': 927,\n",
              " '2': 586,\n",
              " '3': 256,\n",
              " '4': 812,\n",
              " '5': 421,\n",
              " '6': 224,\n",
              " '7': 633,\n",
              " '8': 894,\n",
              " '9': 292}"
            ]
          },
          "metadata": {
            "tags": []
          },
          "execution_count": 39
        }
      ]
    },
    {
      "cell_type": "code",
      "metadata": {
        "id": "eWtI4qJyA0FW",
        "colab_type": "code",
        "outputId": "5c925df0-e54d-4341-8f33-886599d28de7",
        "colab": {
          "base_uri": "https://localhost:8080/",
          "height": 191
        }
      },
      "source": [
        "total"
      ],
      "execution_count": 0,
      "outputs": [
        {
          "output_type": "execute_result",
          "data": {
            "text/plain": [
              "{'0': 1432,\n",
              " '1': 1508,\n",
              " '2': 1116,\n",
              " '3': 1716,\n",
              " '4': 1464,\n",
              " '5': 432,\n",
              " '6': 224,\n",
              " '7': 1588,\n",
              " '8': 988,\n",
              " '9': 332}"
            ]
          },
          "metadata": {
            "tags": []
          },
          "execution_count": 40
        }
      ]
    },
    {
      "cell_type": "code",
      "metadata": {
        "id": "sLYMw4xHFOzU",
        "colab_type": "code",
        "outputId": "59692531-ba56-484c-94a6-ff6f9e8d7c1e",
        "colab": {
          "base_uri": "https://localhost:8080/",
          "height": 87
        }
      },
      "source": [
        "import os\n",
        "from transformers import WEIGHTS_NAME, CONFIG_NAME\n",
        "\n",
        "output_dir = './model_save/'\n",
        "\n",
        "# Create output directory if needed\n",
        "if not os.path.exists(output_dir):\n",
        "    os.makedirs(output_dir)\n",
        "\n",
        "model_to_save = model.module if hasattr(model, 'module') else model\n",
        "\n",
        "\n",
        "print(\"Saving model to %s\" % output_dir)\n",
        "# If we save using the predefined names, we can load using `from_pretrained`\n",
        "output_model_file = os.path.join(output_dir, WEIGHTS_NAME)\n",
        "output_config_file = os.path.join(output_dir, CONFIG_NAME)\n",
        "\n",
        "torch.save(model_to_save.state_dict(), output_model_file)\n",
        "model_to_save.config.to_json_file(output_config_file)\n",
        "tokenizer.save_pretrained(output_dir)\n",
        "# model_to_save.save_pretrained(output_dir)\n",
        "# tokenizer.save_pretrained(output_dir)"
      ],
      "execution_count": 0,
      "outputs": [
        {
          "output_type": "stream",
          "text": [
            "Saving model to ./model_save/\n"
          ],
          "name": "stdout"
        },
        {
          "output_type": "execute_result",
          "data": {
            "text/plain": [
              "('./model_save/vocab.txt',\n",
              " './model_save/special_tokens_map.json',\n",
              " './model_save/added_tokens.json')"
            ]
          },
          "metadata": {
            "tags": []
          },
          "execution_count": 41
        }
      ]
    },
    {
      "cell_type": "code",
      "metadata": {
        "id": "FBfTI_RcID2d",
        "colab_type": "code",
        "outputId": "71685ff7-1a6a-408a-834c-141cb4abfc2a",
        "colab": {
          "base_uri": "https://localhost:8080/",
          "height": 956
        }
      },
      "source": [
        "# Tokenize all of the sentences and map the tokens to thier word IDs.\n",
        "input_ids = []\n",
        "attention_masks = []\n",
        "\n",
        "# For every sentence...\n",
        "for sent in test_sent:\n",
        "    # `encode_plus` will:\n",
        "    #   (1) Tokenize the sentence.\n",
        "    #   (2) Prepend the `[CLS]` token to the start.\n",
        "    #   (3) Append the `[SEP]` token to the end.\n",
        "    #   (4) Map tokens to their IDs.\n",
        "    #   (5) Pad or truncate the sentence to `max_length`\n",
        "    #   (6) Create attention masks for [PAD] tokens.\n",
        "    encoded_dict = tokenizer.encode_plus(\n",
        "                        sent,                      # Sentence to encode.\n",
        "                        add_special_tokens = True, # Add '[CLS]' and '[SEP]'\n",
        "                        max_length = 512,           # Pad & truncate all sentences.\n",
        "                        pad_to_max_length = True,\n",
        "                        return_attention_mask = True,   # Construct attn. masks.\n",
        "                        return_tensors = 'pt',     # Return pytorch tensors.\n",
        "                   )\n",
        "    \n",
        "    # Add the encoded sentence to the list.    \n",
        "    input_ids.append(encoded_dict['input_ids'])\n",
        "    \n",
        "    # And its attention mask (simply differentiates padding from non-padding).\n",
        "    attention_masks.append(encoded_dict['attention_mask'])\n",
        "\n",
        "# Convert the lists into tensors.\n",
        "input_ids = torch.cat(input_ids, dim=0)\n",
        "attention_masks = torch.cat(attention_masks, dim=0)\n",
        "labels = torch.tensor(test_labels)\n",
        "\n",
        "# Print sentence 0, now as a list of IDs.\n",
        "print('Original: ', test_sent[0])\n",
        "print('Token IDs:', input_ids[0])"
      ],
      "execution_count": 0,
      "outputs": [
        {
          "output_type": "stream",
          "text": [
            "Token IDs: tensor([  101,  9634,  3058, 11889,  3058,  3058,  1997,  4182,  3348,  5796,\n",
            "         2121,  7903,  2063,  4003, 25185, 16977, 19053, 24164, 10623,  3111,\n",
            "         3286,  4135,  4305, 19265, 19321, 18537,  8873, 12096,  2171,  1048,\n",
            "         2546,  2708, 12087,  5149, 13102, 22084,  2006,  4654,  8743,  3258,\n",
            "         3279,  1997,  8298,  2863,  5558,  2099, 11707,  2030, 17503,  7709,\n",
            "        20118, 28228,  2278, 10764,  6110,  3461,  2358,  3287,  2034,  2171,\n",
            "         4895,  8680, 10514, 18098, 22684, 26788,  2854, 16749, 11826, 22160,\n",
            "         2102,  1060,  2187,  4722,  5003, 14760,  2854, 16749,  3406,  2187,\n",
            "        15099, 15127, 20066, 10222,  3560, 12818, 22160,  2102,  2000,  1052,\n",
            "        19279,  8557,  7849, 24965, 20066, 10222,  3560, 12818, 22160,  2102,\n",
            "         2000, 15219, 15127, 16749, 24158,  7062,  1997,  2556,  7355, 15222,\n",
            "         2015,  2095,  2214,  2158,  3653,  7361, 20118, 28228,  2278, 10764,\n",
            "         6110,  2005, 16173, 12650,  1998, 21887,  2854, 11826,  2005,  3313,\n",
            "         6258,  4295,  2001,  4215, 22930,  3064,  2044,  1037, 26351, 29477,\n",
            "         2140,  2792,  2012,  2188,  2012,  2019,  2648, 15006, 23270,  2389,\n",
            "         2002,  2001,  2179,  2000,  2031, 19610,  2063,  3893, 14708,  2015,\n",
            "         1998,  6289, 14545,  3406, 26775,  4183,  1997,  2087,  3522,  9052,\n",
            "         3662,  3278, 20118, 28228,  6169,  6528, 12650,  2007,  4672,  1998,\n",
            "         2812, 17978,  2015,  1997,  1998,  1998,  4358, 10175,  3726,  2181,\n",
            "         1997,  4642,  5490,  3525,  2135,  2002,  9601, 15050, 11266,  2232,\n",
            "         2029,  3936,  3674,  6258,  4295, 19707,  2102,  2966,  2381,  7113,\n",
            "        28228,  2278, 26261, 27109, 27108,  7856,  2854, 16749,  4295, 10536,\n",
            "         4842, 29048,  5149, 14540, 11514,  5178, 10092,  8663,  8449,  6024,\n",
            "         2540,  4945, 18155, 24335, 21095, 10440,  1054,  5369, 25360, 20784,\n",
            "        15808,  3508,  1997,  1054,  5369, 12248,  3406,  3593, 27641, 13102,\n",
            "         2157, 13749, 20023,  2389,  2014,  6200, 10315,  2361, 10014, 27159,\n",
            "         2015,  2005,  4937,  5400, 16649,  6499, 13247,  2381, 24343,  2003,\n",
            "         1037,  3394,  9935, 15893,  2002,  2003,  2981,  2005,  8095,  4748,\n",
            "         4877,  3268,  2007,  2010,  2564,  2040,  2038, 21901,  2015,  1998,\n",
            "         2010,  2365,  3406,  3676, 21408,  2381, 23439, 18903,  2232, 14286,\n",
            "         2021,  2038,  2018,  2053,  6544,  3728,  8591, 28775,  2102,  5850,\n",
            "        23439,  7011,  4328,  2135,  2381,  3630,  2155,  2381,  1997,  2220,\n",
            "         2771, 12098, 25032, 22123, 26837,  2050,  4003, 18994,  7677, 15069,\n",
            "         3111,  2030,  6342, 17101, 15050,  2331,  4728,  2512,  8663, 18886,\n",
            "         8569,  7062, 23302, 11360,  4215, 25481, 14289,  4877,  2063,  1051,\n",
            "         2938, 17531,  2157,  2187,  4578,  3635, 20702,  6914, 21673,  2092,\n",
            "        24844, 18349,  5669,  2092,  3630,  9496, 14740,  3287,  1999,  2053,\n",
            "        11325, 10521, 19168,  4757,  4939,  4318,  1060, 10109,  1060, 21030,\n",
            "         3372,  2566, 12190,  2050,  1060,  1041, 20936,  1060, 18278, 10514,\n",
            "         9397,  2571,  1060,  2440, 17083,  1060,  8376,  2102,  8948,  3154,\n",
            "        17758,  2135,  1060, 22375, 25269,  2099,  1060, 12052, 20227,  2152,\n",
            "        23270,  7690, 25353, 16033, 10415, 20136, 16069,  2497, 26173,  2078,\n",
            "         3730,  1060,  2512, 10521,  6528,  5732,  1060,  2512,  6528,  4063,\n",
            "         1060,  6812,  2884,  4165,  1060, 10288,  7913, 22930,  3111,  4010,\n",
            "         1060,  2092,  4842, 25608,  2098,  1060,  3968, 14545,  3904, 10755,\n",
            "        11261, 24279, 17758, 23105,  2187, 15950,  2638, 10976,  7977,  2135,\n",
            "        10109,  9499,  1998,  8048,  1060, 23894,  7959, 22049,  2157,  2187,\n",
            "         1040,  2361,  2157,  2187, 13866,  2171,  9152,  2187, 15255,  2157,\n",
            "         2187,  2482,  4140,  3593,  7987, 14663,  2157,  2571,  6199, 11860,\n",
            "        15050, 20227,  4842, 10196,  3372,  3463, 14925,  2290,  8254,  2271,\n",
            "         6348,  2187, 18834,  7277,  7934, 23760, 13181, 21281, 28277,  1056,\n",
            "         4400,   102])\n"
          ],
          "name": "stdout"
        }
      ]
    },
    {
      "cell_type": "code",
      "metadata": {
        "id": "nNP0E_W4IFoY",
        "colab_type": "code",
        "outputId": "f245c507-b9ac-4ea1-b471-274cdac5dab8",
        "colab": {
          "base_uri": "https://localhost:8080/",
          "height": 107
        }
      },
      "source": [
        "test_inputs, _, test_labels, _ = train_test_split(input_ids, labels, \n",
        "                                                          random_state=2018, test_size=0.1)\n",
        "test_masks, _, _, _ = train_test_split(attention_masks, input_ids,\n",
        "                                             random_state=2018, test_size=0.1)\n",
        "\n",
        "test_inputs = torch.tensor(test_inputs)\n",
        "test_labels = torch.tensor(test_labels)\n",
        "\n",
        "batch_size = 8\n",
        "\n",
        "test_data = TensorDataset(test_inputs, test_masks, test_labels)\n",
        "test_sampler = RandomSampler(test_data)\n",
        "test_dataloader = DataLoader(test_data, sampler=test_sampler, batch_size=batch_size)"
      ],
      "execution_count": 0,
      "outputs": [
        {
          "output_type": "stream",
          "text": [
            "/usr/local/lib/python3.6/dist-packages/ipykernel_launcher.py:6: UserWarning: To copy construct from a tensor, it is recommended to use sourceTensor.clone().detach() or sourceTensor.clone().detach().requires_grad_(True), rather than torch.tensor(sourceTensor).\n",
            "  \n",
            "/usr/local/lib/python3.6/dist-packages/ipykernel_launcher.py:7: UserWarning: To copy construct from a tensor, it is recommended to use sourceTensor.clone().detach() or sourceTensor.clone().detach().requires_grad_(True), rather than torch.tensor(sourceTensor).\n",
            "  import sys\n"
          ],
          "name": "stderr"
        }
      ]
    },
    {
      "cell_type": "code",
      "metadata": {
        "id": "B38x_IETIHQo",
        "colab_type": "code",
        "outputId": "ad4292cf-1aa2-4c79-a5ef-f73cc31da83c",
        "colab": {
          "base_uri": "https://localhost:8080/",
          "height": 104
        }
      },
      "source": [
        "#Test set\n",
        "\n",
        "print('Predicting labels for {:,} test sentences...'.format(len(input_ids)))\n",
        "\n",
        "# Put model in evaluation mode\n",
        "model.eval()\n",
        "\n",
        "# Tracking variables \n",
        "predictions , true_labels = [], []\n",
        "\n",
        "#initialize vars\n",
        "f1_micr_test = 0\n",
        "f1_macr_test = 0\n",
        "f1_weight_test = 0\n",
        "nb_eval_steps_test = 0\n",
        "\n",
        "# Predict \n",
        "for batch in test_dataloader:\n",
        "  # Add batch to GPU\n",
        "  batch = tuple(t.to(device) for t in batch)\n",
        "  \n",
        "  # Unpack the inputs from our dataloader\n",
        "  b_input_ids, b_input_mask, b_labels = batch\n",
        "  \n",
        "  # Telling the model not to compute or store gradients, saving memory and \n",
        "  # speeding up prediction\n",
        "  with torch.no_grad():\n",
        "      # Forward pass, calculate logit predictions\n",
        "      logits = model(b_input_ids, token_type_ids=None, \n",
        "                      attention_mask=b_input_mask)\n",
        "\n",
        "\n",
        "  # Move logits and labels to CPU\n",
        "  logits = logits.detach().cpu().numpy()\n",
        "  label_ids = b_labels.to('cpu').numpy()\n",
        "  \n",
        "  # Store predictions and true labels\n",
        "  # predictions.append(logits)\n",
        "  # true_labels.append(label_ids)\n",
        "\n",
        "  tmp_f1_micr, tmp_f1_macr, tmp_f1_weight = f1score(label_ids, logits)\n",
        "\n",
        "  #calculate f1 scores\n",
        "  f1_micr_test += tmp_f1_micr\n",
        "  f1_macr_test += tmp_f1_macr\n",
        "  f1_weight_test += tmp_f1_weight\n",
        "  nb_eval_steps_test += 1\n",
        "\n",
        "print('F1 micro test: ', f1_micr_test/nb_eval_steps_test)\n",
        "print('F1 macro test: ', f1_macr_test/nb_eval_steps_test)\n",
        "print('F1 weight test: ', f1_weight_test/nb_eval_steps_test)\n",
        "print('    DONE.')"
      ],
      "execution_count": 0,
      "outputs": [
        {
          "output_type": "stream",
          "text": [
            "Predicting labels for 3,201 test sentences...\n",
            "F1 micro test:  0.4600694444444444\n",
            "F1 macro test:  0.33274838855295197\n",
            "F1 weight test:  0.4416721781305114\n",
            "    DONE.\n"
          ],
          "name": "stdout"
        }
      ]
    },
    {
      "cell_type": "code",
      "metadata": {
        "id": "r_ikHv5NKoCG",
        "colab_type": "code",
        "colab": {}
      },
      "source": [
        "\n"
      ],
      "execution_count": 0,
      "outputs": []
    }
  ]
}
