{
  "nbformat": 4,
  "nbformat_minor": 0,
  "metadata": {
    "colab": {
      "name": "The Final Hosp_course 5.25.20",
      "provenance": [],
      "collapsed_sections": [],
      "machine_shape": "hm",
      "include_colab_link": true
    },
    "kernelspec": {
      "name": "python3",
      "display_name": "Python 3"
    },
    "accelerator": "GPU",
    "widgets": {
      "application/vnd.jupyter.widget-state+json": {
        "99eabed640eb441ab47d81700a3bce00": {
          "model_module": "@jupyter-widgets/controls",
          "model_name": "HBoxModel",
          "state": {
            "_view_name": "HBoxView",
            "_dom_classes": [],
            "_model_name": "HBoxModel",
            "_view_module": "@jupyter-widgets/controls",
            "_model_module_version": "1.5.0",
            "_view_count": null,
            "_view_module_version": "1.5.0",
            "box_style": "",
            "layout": "IPY_MODEL_29096b47f44540dfa7df6358c2dabeef",
            "_model_module": "@jupyter-widgets/controls",
            "children": [
              "IPY_MODEL_5a8c75031f7a488dab3c256e6cf6130b",
              "IPY_MODEL_a7ba669865fd42b08a4ebc8ec130df42"
            ]
          }
        },
        "29096b47f44540dfa7df6358c2dabeef": {
          "model_module": "@jupyter-widgets/base",
          "model_name": "LayoutModel",
          "state": {
            "_view_name": "LayoutView",
            "grid_template_rows": null,
            "right": null,
            "justify_content": null,
            "_view_module": "@jupyter-widgets/base",
            "overflow": null,
            "_model_module_version": "1.2.0",
            "_view_count": null,
            "flex_flow": null,
            "width": null,
            "min_width": null,
            "border": null,
            "align_items": null,
            "bottom": null,
            "_model_module": "@jupyter-widgets/base",
            "top": null,
            "grid_column": null,
            "overflow_y": null,
            "overflow_x": null,
            "grid_auto_flow": null,
            "grid_area": null,
            "grid_template_columns": null,
            "flex": null,
            "_model_name": "LayoutModel",
            "justify_items": null,
            "grid_row": null,
            "max_height": null,
            "align_content": null,
            "visibility": null,
            "align_self": null,
            "height": null,
            "min_height": null,
            "padding": null,
            "grid_auto_rows": null,
            "grid_gap": null,
            "max_width": null,
            "order": null,
            "_view_module_version": "1.2.0",
            "grid_template_areas": null,
            "object_position": null,
            "object_fit": null,
            "grid_auto_columns": null,
            "margin": null,
            "display": null,
            "left": null
          }
        },
        "5a8c75031f7a488dab3c256e6cf6130b": {
          "model_module": "@jupyter-widgets/controls",
          "model_name": "FloatProgressModel",
          "state": {
            "_view_name": "ProgressView",
            "style": "IPY_MODEL_b029b697faa94b91b08faea7d4c4e6d9",
            "_dom_classes": [],
            "description": "Downloading: 100%",
            "_model_name": "FloatProgressModel",
            "bar_style": "success",
            "max": 231508,
            "_view_module": "@jupyter-widgets/controls",
            "_model_module_version": "1.5.0",
            "value": 231508,
            "_view_count": null,
            "_view_module_version": "1.5.0",
            "orientation": "horizontal",
            "min": 0,
            "description_tooltip": null,
            "_model_module": "@jupyter-widgets/controls",
            "layout": "IPY_MODEL_76b4ae0790b1404696a2f72f935ae14f"
          }
        },
        "a7ba669865fd42b08a4ebc8ec130df42": {
          "model_module": "@jupyter-widgets/controls",
          "model_name": "HTMLModel",
          "state": {
            "_view_name": "HTMLView",
            "style": "IPY_MODEL_bc7d7947e1e346409c10bdc8ad8b044e",
            "_dom_classes": [],
            "description": "",
            "_model_name": "HTMLModel",
            "placeholder": "​",
            "_view_module": "@jupyter-widgets/controls",
            "_model_module_version": "1.5.0",
            "value": " 232k/232k [00:00&lt;00:00, 989kB/s]",
            "_view_count": null,
            "_view_module_version": "1.5.0",
            "description_tooltip": null,
            "_model_module": "@jupyter-widgets/controls",
            "layout": "IPY_MODEL_2d8ba67f922248e9a107ac4902c91b7a"
          }
        },
        "b029b697faa94b91b08faea7d4c4e6d9": {
          "model_module": "@jupyter-widgets/controls",
          "model_name": "ProgressStyleModel",
          "state": {
            "_view_name": "StyleView",
            "_model_name": "ProgressStyleModel",
            "description_width": "initial",
            "_view_module": "@jupyter-widgets/base",
            "_model_module_version": "1.5.0",
            "_view_count": null,
            "_view_module_version": "1.2.0",
            "bar_color": null,
            "_model_module": "@jupyter-widgets/controls"
          }
        },
        "76b4ae0790b1404696a2f72f935ae14f": {
          "model_module": "@jupyter-widgets/base",
          "model_name": "LayoutModel",
          "state": {
            "_view_name": "LayoutView",
            "grid_template_rows": null,
            "right": null,
            "justify_content": null,
            "_view_module": "@jupyter-widgets/base",
            "overflow": null,
            "_model_module_version": "1.2.0",
            "_view_count": null,
            "flex_flow": null,
            "width": null,
            "min_width": null,
            "border": null,
            "align_items": null,
            "bottom": null,
            "_model_module": "@jupyter-widgets/base",
            "top": null,
            "grid_column": null,
            "overflow_y": null,
            "overflow_x": null,
            "grid_auto_flow": null,
            "grid_area": null,
            "grid_template_columns": null,
            "flex": null,
            "_model_name": "LayoutModel",
            "justify_items": null,
            "grid_row": null,
            "max_height": null,
            "align_content": null,
            "visibility": null,
            "align_self": null,
            "height": null,
            "min_height": null,
            "padding": null,
            "grid_auto_rows": null,
            "grid_gap": null,
            "max_width": null,
            "order": null,
            "_view_module_version": "1.2.0",
            "grid_template_areas": null,
            "object_position": null,
            "object_fit": null,
            "grid_auto_columns": null,
            "margin": null,
            "display": null,
            "left": null
          }
        },
        "bc7d7947e1e346409c10bdc8ad8b044e": {
          "model_module": "@jupyter-widgets/controls",
          "model_name": "DescriptionStyleModel",
          "state": {
            "_view_name": "StyleView",
            "_model_name": "DescriptionStyleModel",
            "description_width": "",
            "_view_module": "@jupyter-widgets/base",
            "_model_module_version": "1.5.0",
            "_view_count": null,
            "_view_module_version": "1.2.0",
            "_model_module": "@jupyter-widgets/controls"
          }
        },
        "2d8ba67f922248e9a107ac4902c91b7a": {
          "model_module": "@jupyter-widgets/base",
          "model_name": "LayoutModel",
          "state": {
            "_view_name": "LayoutView",
            "grid_template_rows": null,
            "right": null,
            "justify_content": null,
            "_view_module": "@jupyter-widgets/base",
            "overflow": null,
            "_model_module_version": "1.2.0",
            "_view_count": null,
            "flex_flow": null,
            "width": null,
            "min_width": null,
            "border": null,
            "align_items": null,
            "bottom": null,
            "_model_module": "@jupyter-widgets/base",
            "top": null,
            "grid_column": null,
            "overflow_y": null,
            "overflow_x": null,
            "grid_auto_flow": null,
            "grid_area": null,
            "grid_template_columns": null,
            "flex": null,
            "_model_name": "LayoutModel",
            "justify_items": null,
            "grid_row": null,
            "max_height": null,
            "align_content": null,
            "visibility": null,
            "align_self": null,
            "height": null,
            "min_height": null,
            "padding": null,
            "grid_auto_rows": null,
            "grid_gap": null,
            "max_width": null,
            "order": null,
            "_view_module_version": "1.2.0",
            "grid_template_areas": null,
            "object_position": null,
            "object_fit": null,
            "grid_auto_columns": null,
            "margin": null,
            "display": null,
            "left": null
          }
        }
      }
    }
  },
  "cells": [
    {
      "cell_type": "markdown",
      "metadata": {
        "id": "view-in-github",
        "colab_type": "text"
      },
      "source": [
        "<a href=\"https://colab.research.google.com/github/elliehaber/icd_code_pred/blob/master/The_Final_Hosp_course_5_25_20.ipynb\" target=\"_parent\"><img src=\"https://colab.research.google.com/assets/colab-badge.svg\" alt=\"Open In Colab\"/></a>"
      ]
    },
    {
      "cell_type": "code",
      "metadata": {
        "id": "v4Nue0XaDNNq",
        "colab_type": "code",
        "colab": {}
      },
      "source": [
        "import pandas as pd\n",
        "import os\n",
        "import io\n",
        "import numpy as np\n",
        "from matplotlib import pyplot as plt "
      ],
      "execution_count": 0,
      "outputs": []
    },
    {
      "cell_type": "markdown",
      "metadata": {
        "id": "xUX4pnkUuCRu",
        "colab_type": "text"
      },
      "source": [
        ""
      ]
    },
    {
      "cell_type": "code",
      "metadata": {
        "id": "dnMFarmf0PKV",
        "colab_type": "code",
        "outputId": "648feaec-5c6c-42d6-d9f9-d62ddb4b45f7",
        "colab": {
          "base_uri": "https://localhost:8080/",
          "height": 34
        }
      },
      "source": [
        "import torch\n",
        "print(torch.__version__)\n"
      ],
      "execution_count": 2,
      "outputs": [
        {
          "output_type": "stream",
          "text": [
            "1.5.0+cu101\n"
          ],
          "name": "stdout"
        }
      ]
    },
    {
      "cell_type": "code",
      "metadata": {
        "id": "F4c4KqOgDYIu",
        "colab_type": "code",
        "outputId": "be60cb88-1194-4ff1-926d-754088e522e5",
        "colab": {
          "base_uri": "https://localhost:8080/",
          "height": 122
        }
      },
      "source": [
        "from google.colab import drive\n",
        "drive.mount('/content/drive')\n",
        "os.chdir('/content/drive/My Drive/')"
      ],
      "execution_count": 3,
      "outputs": [
        {
          "output_type": "stream",
          "text": [
            "Go to this URL in a browser: https://accounts.google.com/o/oauth2/auth?client_id=947318989803-6bn6qk8qdgf4n4g3pfee6491hc0brc4i.apps.googleusercontent.com&redirect_uri=urn%3aietf%3awg%3aoauth%3a2.0%3aoob&response_type=code&scope=email%20https%3a%2f%2fwww.googleapis.com%2fauth%2fdocs.test%20https%3a%2f%2fwww.googleapis.com%2fauth%2fdrive%20https%3a%2f%2fwww.googleapis.com%2fauth%2fdrive.photos.readonly%20https%3a%2f%2fwww.googleapis.com%2fauth%2fpeopleapi.readonly\n",
            "\n",
            "Enter your authorization code:\n",
            "··········\n",
            "Mounted at /content/drive\n"
          ],
          "name": "stdout"
        }
      ]
    },
    {
      "cell_type": "code",
      "metadata": {
        "id": "8BTb-KRlDYN8",
        "colab_type": "code",
        "outputId": "0f9080c4-ced8-4ffe-ac5e-c6cc28e530bc",
        "colab": {
          "base_uri": "https://localhost:8080/",
          "height": 71
        }
      },
      "source": [
        "#patient notes data\n",
        "df_notes = pd.read_csv('NOTEEVENTS.csv')"
      ],
      "execution_count": 4,
      "outputs": [
        {
          "output_type": "stream",
          "text": [
            "/usr/local/lib/python3.6/dist-packages/IPython/core/interactiveshell.py:2718: DtypeWarning: Columns (4,5) have mixed types.Specify dtype option on import or set low_memory=False.\n",
            "  interactivity=interactivity, compiler=compiler, result=result)\n"
          ],
          "name": "stderr"
        }
      ]
    },
    {
      "cell_type": "code",
      "metadata": {
        "id": "ldqGAT4_DYRJ",
        "colab_type": "code",
        "colab": {}
      },
      "source": [
        "#icd diagnoses data\n",
        "df_icd_diag = pd.read_csv('DIAGNOSES_ICD 2.csv')"
      ],
      "execution_count": 0,
      "outputs": []
    },
    {
      "cell_type": "code",
      "metadata": {
        "id": "kTMZUMjJMtEE",
        "colab_type": "code",
        "outputId": "8a63b4ba-38ff-4a41-bbbd-00cdddf0b860",
        "colab": {
          "base_uri": "https://localhost:8080/",
          "height": 329
        }
      },
      "source": [
        "#Identify the top 10 occurring ICD-9 Codes\n",
        "import matplotlib.pyplot as plt\n",
        "\n",
        "df_icd_diag.head()\n",
        "freq = df_icd_diag['ICD9_CODE'].value_counts()[:10].index.tolist()\n",
        "x = df_icd_diag['ICD9_CODE'].value_counts()[:50].index.tolist()\n",
        "\n",
        "\n",
        "print(sum(df_icd_diag['ICD9_CODE'].value_counts()[:10]))\n",
        "freq_val = df_icd_diag['ICD9_CODE'].value_counts()[:10]\n",
        "plt.bar(freq, freq_val)\n",
        "plt.title('Top Ten ICD-9 Codes')\n",
        "plt.ylabel('Frequency')\n",
        "plt.xlabel('ICD9-Codes')\n",
        "\n",
        "print(freq)"
      ],
      "execution_count": 6,
      "outputs": [
        {
          "output_type": "stream",
          "text": [
            "106379\n",
            "['4019', '4280', '42731', '41401', '5849', '25000', '2724', '51881', '5990', '53081']\n"
          ],
          "name": "stdout"
        },
        {
          "output_type": "display_data",
          "data": {
            "image/png": "[encoded data removed]",
            "text/plain": [
              "<Figure size 432x288 with 1 Axes>"
            ]
          },
          "metadata": {
            "tags": [],
            "needs_background": "light"
          }
        }
      ]
    },
    {
      "cell_type": "code",
      "metadata": {
        "id": "0dRLbyi1Phse",
        "colab_type": "code",
        "colab": {}
      },
      "source": [
        "#Filter for notes with discharge summary\n",
        "df_notes_discharge_summ = df_notes.loc[df_notes.CATEGORY == 'Discharge summary']"
      ],
      "execution_count": 0,
      "outputs": []
    },
    {
      "cell_type": "code",
      "metadata": {
        "id": "FxNH5cx5W1Cq",
        "colab_type": "code",
        "colab": {}
      },
      "source": [
        "df_notes_discharge_summ_last = (df_notes_discharge_summ.groupby(['SUBJECT_ID', 'HADM_ID']).nth(-1)).reset_index()\n",
        "assert df_notes_discharge_summ_last.duplicated(['HADM_ID']).sum() == 0, 'Multiple discharge summaries per admission'"
      ],
      "execution_count": 0,
      "outputs": []
    },
    {
      "cell_type": "code",
      "metadata": {
        "id": "voyXheqEQW2L",
        "colab_type": "code",
        "colab": {}
      },
      "source": [
        "df_icd_notes = pd.merge(df_icd_diag[['SUBJECT_ID', 'HADM_ID', 'SEQ_NUM', 'ICD9_CODE']], \\\n",
        "df_notes_discharge_summ_last[['SUBJECT_ID', 'HADM_ID', 'TEXT']], on= ['SUBJECT_ID', 'HADM_ID'], how = 'left'\n",
        ")\n",
        "\n",
        "assert len(df_icd_diag) == len(df_icd_notes), 'Number of rows increased'"
      ],
      "execution_count": 0,
      "outputs": []
    },
    {
      "cell_type": "code",
      "metadata": {
        "id": "rzHycoXwxexz",
        "colab_type": "code",
        "outputId": "ce463acb-8cfc-45dc-df50-87696a4e328e",
        "colab": {
          "base_uri": "https://localhost:8080/",
          "height": 51
        }
      },
      "source": [
        "#filter for first admission\n",
        "df_icd_notes_1 = df_icd_notes[df_icd_notes.ICD9_CODE.isin(x)]\n",
        "print(len(df_icd_notes_1))\n",
        "df_icd_notes = df_icd_notes[df_icd_notes.ICD9_CODE.isin(freq)]\n",
        "df_icd_notes_1 = df_icd_notes[df_icd_notes.ICD9_CODE.isin(x)]\n",
        "\n",
        "t = df_icd_notes.drop_duplicates(subset='HADM_ID', keep=\"first\", inplace=True)\n",
        "df_icd_notes = df_icd_notes.dropna(how='any',subset=['TEXT'])\n",
        "\n",
        "len(df_icd_notes)"
      ],
      "execution_count": 10,
      "outputs": [
        {
          "output_type": "stream",
          "text": [
            "242728\n"
          ],
          "name": "stdout"
        },
        {
          "output_type": "execute_result",
          "data": {
            "text/plain": [
              "40562"
            ]
          },
          "metadata": {
            "tags": []
          },
          "execution_count": 10
        }
      ]
    },
    {
      "cell_type": "code",
      "metadata": {
        "id": "XQ9wxKM1X3fa",
        "colab_type": "code",
        "colab": {}
      },
      "source": [
        "#Extract Hospital Course section of notes\n",
        "\n",
        "df_icd_notes\n",
        "lst = []\n",
        "for i in df_icd_notes['TEXT']:\n",
        "  i = str(i).lower()\n",
        "  if 'concise summary of hospital course as follows:' in i:\n",
        "    start = i.find('concise summary of hospital course as follows:') \n",
        "    lst.append(i[start+46:])\n",
        "  elif 'hospital course:' in i:\n",
        "    start = i.find('hospital course:') \n",
        "    lst.append(i[start+16:])\n",
        "  else: \n",
        "    lst.append('not valid')\n",
        "\n",
        "df_icd_notes['Hosp_course'] = lst\n",
        "\n",
        "df_icd_notes = df_icd_notes[df_icd_notes.Hosp_course != 'not valid']\n"
      ],
      "execution_count": 0,
      "outputs": []
    },
    {
      "cell_type": "code",
      "metadata": {
        "id": "9BHsClkxZVz8",
        "colab_type": "code",
        "colab": {}
      },
      "source": [
        "#Extract History of Present Illness section of notes\n",
        "\n",
        "df_icd_notes\n",
        "lst = []\n",
        "for i in df_icd_notes['TEXT']:\n",
        "  i = str(i).lower()\n",
        "  if 'history of present illness' in i:\n",
        "    start = i.find('history of present illness:')\n",
        "    lst.append(i[start+27:])\n",
        "  else:\n",
        "    lst.append('not valid')\n",
        "\n",
        "\n",
        "df_icd_notes['hist_pres_illness'] = lst\n",
        "\n",
        "df_icd_notes = df_icd_notes[df_icd_notes.hist_pres_illness != 'not valid']\n"
      ],
      "execution_count": 0,
      "outputs": []
    },
    {
      "cell_type": "code",
      "metadata": {
        "id": "1815J5eMa8rE",
        "colab_type": "code",
        "colab": {}
      },
      "source": [
        "df_icd_notes = df_icd_notes.dropna(how='any',subset=['Hosp_course'])\n",
        "df_icd_notes = df_icd_notes.dropna(how='any',subset=['hist_pres_illness'])\n"
      ],
      "execution_count": 0,
      "outputs": []
    },
    {
      "cell_type": "code",
      "metadata": {
        "id": "ckpDI5OXr7LM",
        "colab_type": "code",
        "outputId": "06818124-f86e-4797-b71c-48e34d07475d",
        "colab": {
          "base_uri": "https://localhost:8080/",
          "height": 34
        }
      },
      "source": [
        "import tensorflow as tf\n",
        "\n",
        "device_name = tf.test.gpu_device_name()\n",
        "if device_name != '/device:GPU:0':\n",
        "  raise SystemError('GPU device not found')\n",
        "print('Found GPU at: {}'.format(device_name))"
      ],
      "execution_count": 14,
      "outputs": [
        {
          "output_type": "stream",
          "text": [
            "Found GPU at: /device:GPU:0\n"
          ],
          "name": "stdout"
        }
      ]
    },
    {
      "cell_type": "code",
      "metadata": {
        "id": "LBIQGO34_G3s",
        "colab_type": "code",
        "colab": {}
      },
      "source": [
        "config = tf.compat.v1.ConfigProto()\n",
        "config.gpu_options.allow_growth = True\n",
        "sess = tf.compat.v1.Session(config=config)"
      ],
      "execution_count": 0,
      "outputs": []
    },
    {
      "cell_type": "code",
      "metadata": {
        "id": "Vo9ASYy-r8v1",
        "colab_type": "code",
        "outputId": "049fe739-61f1-483c-de88-560317079bff",
        "colab": {
          "base_uri": "https://localhost:8080/",
          "height": 462
        }
      },
      "source": [
        "!pip install pytorch-pretrained-bert pytorch-nlp"
      ],
      "execution_count": 16,
      "outputs": [
        {
          "output_type": "stream",
          "text": [
            "Collecting pytorch-pretrained-bert\n",
            "\u001b[?25l  Downloading https://files.pythonhosted.org/packages/d7/e0/c08d5553b89973d9a240605b9c12404bcf8227590de62bae27acbcfe076b/pytorch_pretrained_bert-0.6.2-py3-none-any.whl (123kB)\n",
            "\u001b[K     |████████████████████████████████| 133kB 5.0MB/s \n",
            "\u001b[?25hCollecting pytorch-nlp\n",
            "\u001b[?25l  Downloading https://files.pythonhosted.org/packages/4f/51/f0ee1efb75f7cc2e3065c5da1363d6be2eec79691b2821594f3f2329528c/pytorch_nlp-0.5.0-py3-none-any.whl (90kB)\n",
            "\u001b[K     |████████████████████████████████| 92kB 6.0MB/s \n",
            "\u001b[?25hRequirement already satisfied: tqdm in /usr/local/lib/python3.6/dist-packages (from pytorch-pretrained-bert) (4.41.1)\n",
            "Requirement already satisfied: torch>=0.4.1 in /usr/local/lib/python3.6/dist-packages (from pytorch-pretrained-bert) (1.5.0+cu101)\n",
            "Requirement already satisfied: boto3 in /usr/local/lib/python3.6/dist-packages (from pytorch-pretrained-bert) (1.13.13)\n",
            "Requirement already satisfied: regex in /usr/local/lib/python3.6/dist-packages (from pytorch-pretrained-bert) (2019.12.20)\n",
            "Requirement already satisfied: requests in /usr/local/lib/python3.6/dist-packages (from pytorch-pretrained-bert) (2.23.0)\n",
            "Requirement already satisfied: numpy in /usr/local/lib/python3.6/dist-packages (from pytorch-pretrained-bert) (1.18.4)\n",
            "Requirement already satisfied: future in /usr/local/lib/python3.6/dist-packages (from torch>=0.4.1->pytorch-pretrained-bert) (0.16.0)\n",
            "Requirement already satisfied: jmespath<1.0.0,>=0.7.1 in /usr/local/lib/python3.6/dist-packages (from boto3->pytorch-pretrained-bert) (0.10.0)\n",
            "Requirement already satisfied: botocore<1.17.0,>=1.16.13 in /usr/local/lib/python3.6/dist-packages (from boto3->pytorch-pretrained-bert) (1.16.13)\n",
            "Requirement already satisfied: s3transfer<0.4.0,>=0.3.0 in /usr/local/lib/python3.6/dist-packages (from boto3->pytorch-pretrained-bert) (0.3.3)\n",
            "Requirement already satisfied: urllib3!=1.25.0,!=1.25.1,<1.26,>=1.21.1 in /usr/local/lib/python3.6/dist-packages (from requests->pytorch-pretrained-bert) (1.24.3)\n",
            "Requirement already satisfied: certifi>=2017.4.17 in /usr/local/lib/python3.6/dist-packages (from requests->pytorch-pretrained-bert) (2020.4.5.1)\n",
            "Requirement already satisfied: idna<3,>=2.5 in /usr/local/lib/python3.6/dist-packages (from requests->pytorch-pretrained-bert) (2.9)\n",
            "Requirement already satisfied: chardet<4,>=3.0.2 in /usr/local/lib/python3.6/dist-packages (from requests->pytorch-pretrained-bert) (3.0.4)\n",
            "Requirement already satisfied: python-dateutil<3.0.0,>=2.1 in /usr/local/lib/python3.6/dist-packages (from botocore<1.17.0,>=1.16.13->boto3->pytorch-pretrained-bert) (2.8.1)\n",
            "Requirement already satisfied: docutils<0.16,>=0.10 in /usr/local/lib/python3.6/dist-packages (from botocore<1.17.0,>=1.16.13->boto3->pytorch-pretrained-bert) (0.15.2)\n",
            "Requirement already satisfied: six>=1.5 in /usr/local/lib/python3.6/dist-packages (from python-dateutil<3.0.0,>=2.1->botocore<1.17.0,>=1.16.13->boto3->pytorch-pretrained-bert) (1.12.0)\n",
            "Installing collected packages: pytorch-pretrained-bert, pytorch-nlp\n",
            "Successfully installed pytorch-nlp-0.5.0 pytorch-pretrained-bert-0.6.2\n"
          ],
          "name": "stdout"
        }
      ]
    },
    {
      "cell_type": "code",
      "metadata": {
        "id": "SSz3at1Tr-ed",
        "colab_type": "code",
        "outputId": "7785bbd3-51dd-4d14-b49e-ca39b72fb2f2",
        "colab": {
          "base_uri": "https://localhost:8080/",
          "height": 34
        }
      },
      "source": [
        "import torch\n",
        "from torch.utils.data import TensorDataset, DataLoader, RandomSampler, SequentialSampler\n",
        "from keras.preprocessing.sequence import pad_sequences\n",
        "from sklearn.model_selection import train_test_split\n",
        "from pytorch_pretrained_bert import BertTokenizer, BertConfig\n",
        "from pytorch_pretrained_bert import BertAdam, BertForSequenceClassification\n",
        "from tqdm import tqdm, trange\n",
        "import pandas as pd\n",
        "import io\n",
        "import numpy as np\n",
        "import matplotlib.pyplot as plt\n",
        "% matplotlib inline"
      ],
      "execution_count": 17,
      "outputs": [
        {
          "output_type": "stream",
          "text": [
            "Using TensorFlow backend.\n"
          ],
          "name": "stderr"
        }
      ]
    },
    {
      "cell_type": "code",
      "metadata": {
        "id": "Dc1803IxsBGB",
        "colab_type": "code",
        "outputId": "cd2b2e7a-5ec9-4c66-aec6-503e6cfdf48a",
        "colab": {
          "base_uri": "https://localhost:8080/",
          "height": 34
        }
      },
      "source": [
        "device = torch.device(\"cuda\" if torch.cuda.is_available() else \"cpu\")\n",
        "n_gpu = torch.cuda.device_count()\n",
        "torch.cuda.get_device_name(0)"
      ],
      "execution_count": 18,
      "outputs": [
        {
          "output_type": "execute_result",
          "data": {
            "text/plain": [
              "'Tesla P100-PCIE-16GB'"
            ]
          },
          "metadata": {
            "tags": []
          },
          "execution_count": 18
        }
      ]
    },
    {
      "cell_type": "code",
      "metadata": {
        "id": "vxVD_-ZAB025",
        "colab_type": "code",
        "colab": {}
      },
      "source": [
        "config = tf.compat.v1.ConfigProto()\n",
        "config.gpu_options.per_process_gpu_memory_fraction = 0.4\n",
        "session = tf.compat.v1.Session(config=config)"
      ],
      "execution_count": 0,
      "outputs": []
    },
    {
      "cell_type": "code",
      "metadata": {
        "id": "Fbzy_oTszfhH",
        "colab_type": "code",
        "colab": {}
      },
      "source": [
        "import nltk\n",
        "from nltk.tokenize import RegexpTokenizer\n",
        "from nltk.stem import WordNetLemmatizer,PorterStemmer\n",
        "from nltk.corpus import stopwords\n",
        "import re\n",
        "lemmatizer = WordNetLemmatizer()\n",
        "stemmer = PorterStemmer() \n",
        "import string\n",
        "\n",
        "\n",
        "def preprocess(text):  \n",
        "    punc_list = string.punctuation+'0123456789'\n",
        "    t = str.maketrans(dict.fromkeys(punc_list, \"\"))\n",
        "    text = text.lower().translate(t)\n",
        "    text = text.replace('\\n','')\n",
        "    return text"
      ],
      "execution_count": 0,
      "outputs": []
    },
    {
      "cell_type": "code",
      "metadata": {
        "id": "bhfkd2SSHfHy",
        "colab_type": "code",
        "colab": {}
      },
      "source": [
        "\n",
        "# labels_dict = {}\n",
        "# num = 0\n",
        "# for i in freq:\n",
        "#   labels_dict[str(i)] = num\n",
        "#   num+= 1\n",
        "\n",
        "# print(labels_dict)\n",
        "class2idx = {\n",
        "    '4019': 0,\n",
        "    '4280': 1,\n",
        "    '42731': 2,\n",
        "    '41401': 3,\n",
        "    '5849': 4,\n",
        "    '25000': 5,\n",
        "    '2724': 6,\n",
        "    '51881': 7,\n",
        "    '5990': 8,\n",
        "    '53081': 9\n",
        "}\n",
        "\n",
        "# class2idx = {\n",
        "#     4019: 0,\n",
        "#     4280: 1,\n",
        "#     42731: 2,\n",
        "#     41401: 3,\n",
        "#     5849: 4,\n",
        "#     25000: 5,\n",
        "#     2724: 6,\n",
        "#     51881: 7,\n",
        "#     5990: 8,\n",
        "#     53081: 9\n",
        "# }\n",
        "\n",
        "idx2class = {v: k for k, v in class2idx.items()}\n",
        "\n",
        "\n",
        "df_icd_notes['ICD9_CODE'].replace(class2idx, inplace=True)\n",
        "\n"
      ],
      "execution_count": 0,
      "outputs": []
    },
    {
      "cell_type": "code",
      "metadata": {
        "id": "HliMK9lbUW5X",
        "colab_type": "code",
        "outputId": "65e496b6-9a66-4202-85fc-e02895559fc4",
        "colab": {
          "base_uri": "https://localhost:8080/",
          "height": 640
        }
      },
      "source": [
        "df_icd_notes"
      ],
      "execution_count": 22,
      "outputs": [
        {
          "output_type": "execute_result",
          "data": {
            "text/html": [
              "<div>\n",
              "<style scoped>\n",
              "    .dataframe tbody tr th:only-of-type {\n",
              "        vertical-align: middle;\n",
              "    }\n",
              "\n",
              "    .dataframe tbody tr th {\n",
              "        vertical-align: top;\n",
              "    }\n",
              "\n",
              "    .dataframe thead th {\n",
              "        text-align: right;\n",
              "    }\n",
              "</style>\n",
              "<table border=\"1\" class=\"dataframe\">\n",
              "  <thead>\n",
              "    <tr style=\"text-align: right;\">\n",
              "      <th></th>\n",
              "      <th>SUBJECT_ID</th>\n",
              "      <th>HADM_ID</th>\n",
              "      <th>SEQ_NUM</th>\n",
              "      <th>ICD9_CODE</th>\n",
              "      <th>TEXT</th>\n",
              "      <th>Hosp_course</th>\n",
              "      <th>hist_pres_illness</th>\n",
              "    </tr>\n",
              "  </thead>\n",
              "  <tbody>\n",
              "    <tr>\n",
              "      <th>31</th>\n",
              "      <td>112</td>\n",
              "      <td>174105</td>\n",
              "      <td>4.0</td>\n",
              "      <td>3</td>\n",
              "      <td>Admission Date: [**2194-6-13**]        Dischar...</td>\n",
              "      <td>gi: the\\npatient was felt to likely have ano...</td>\n",
              "      <td>the patient is a [**age over 90 **]-year-old...</td>\n",
              "    </tr>\n",
              "    <tr>\n",
              "      <th>35</th>\n",
              "      <td>113</td>\n",
              "      <td>109976</td>\n",
              "      <td>3.0</td>\n",
              "      <td>9</td>\n",
              "      <td>Admission Date: [**2140-12-12**]        Discha...</td>\n",
              "      <td>the patient was admitted to the intensive\\nc...</td>\n",
              "      <td>the patient is a 35 year old\\ngentleman who ...</td>\n",
              "    </tr>\n",
              "    <tr>\n",
              "      <th>36</th>\n",
              "      <td>114</td>\n",
              "      <td>178393</td>\n",
              "      <td>1.0</td>\n",
              "      <td>3</td>\n",
              "      <td>Admission Date:  [**2146-8-29**]       Dischar...</td>\n",
              "      <td>the patient was admitted to the [**hospital1...</td>\n",
              "      <td>this is a 48-year-old man in\\ngenerally good...</td>\n",
              "    </tr>\n",
              "    <tr>\n",
              "      <th>50</th>\n",
              "      <td>115</td>\n",
              "      <td>114585</td>\n",
              "      <td>9.0</td>\n",
              "      <td>8</td>\n",
              "      <td>Admission Date:  [**2194-10-16**]             ...</td>\n",
              "      <td>\\nshe was taken to the or by dr. [**first name...</td>\n",
              "      <td>\\nthe patient is a 75 y/o female who presents ...</td>\n",
              "    </tr>\n",
              "    <tr>\n",
              "      <th>67</th>\n",
              "      <td>117</td>\n",
              "      <td>140784</td>\n",
              "      <td>5.0</td>\n",
              "      <td>1</td>\n",
              "      <td>Admission Date:  [**2133-4-7**]     Discharge ...</td>\n",
              "      <td>\\n1.  hypotension.  the patient was admitted t...</td>\n",
              "      <td>the patient is a 49 year old\\nwoman with a h...</td>\n",
              "    </tr>\n",
              "    <tr>\n",
              "      <th>...</th>\n",
              "      <td>...</td>\n",
              "      <td>...</td>\n",
              "      <td>...</td>\n",
              "      <td>...</td>\n",
              "      <td>...</td>\n",
              "      <td>...</td>\n",
              "      <td>...</td>\n",
              "    </tr>\n",
              "    <tr>\n",
              "      <th>650962</th>\n",
              "      <td>97164</td>\n",
              "      <td>109302</td>\n",
              "      <td>3.0</td>\n",
              "      <td>7</td>\n",
              "      <td>Admission Date:  [**2134-11-26**]             ...</td>\n",
              "      <td>\\nassessment and plan: ms. [**known lastname 2...</td>\n",
              "      <td>\\nms. [**known lastname 2564**] is an 83 y/o f...</td>\n",
              "    </tr>\n",
              "    <tr>\n",
              "      <th>650986</th>\n",
              "      <td>97484</td>\n",
              "      <td>172304</td>\n",
              "      <td>4.0</td>\n",
              "      <td>0</td>\n",
              "      <td>Admission Date:  [**2196-8-19**]              ...</td>\n",
              "      <td>\\nthe patient tolerated her procedure well, an...</td>\n",
              "      <td>\\n79 f with no past oncologic history who pres...</td>\n",
              "    </tr>\n",
              "    <tr>\n",
              "      <th>650993</th>\n",
              "      <td>97488</td>\n",
              "      <td>152542</td>\n",
              "      <td>5.0</td>\n",
              "      <td>2</td>\n",
              "      <td>Admission Date:  [**2128-4-8**]              D...</td>\n",
              "      <td>\\nmr. [**known lastname 17811**] was admitted ...</td>\n",
              "      <td>\\n66m transferred from [**hospital1 18**] [**l...</td>\n",
              "    </tr>\n",
              "    <tr>\n",
              "      <th>651007</th>\n",
              "      <td>97488</td>\n",
              "      <td>161999</td>\n",
              "      <td>8.0</td>\n",
              "      <td>8</td>\n",
              "      <td>Admission Date:  [**2128-8-27**]              ...</td>\n",
              "      <td>\\n*)neuro: patient was admitted [**2128-8-27**...</td>\n",
              "      <td>\\nthe patient is a 67 year old right handed ma...</td>\n",
              "    </tr>\n",
              "    <tr>\n",
              "      <th>651038</th>\n",
              "      <td>97497</td>\n",
              "      <td>168949</td>\n",
              "      <td>7.0</td>\n",
              "      <td>2</td>\n",
              "      <td>Admission Date:  [**2106-7-16**]              ...</td>\n",
              "      <td>\\n# paroxysmal atrial fibrillation:  patient h...</td>\n",
              "      <td>\\ndr [**known lastname 8993**] is a 57 yo man ...</td>\n",
              "    </tr>\n",
              "  </tbody>\n",
              "</table>\n",
              "<p>34844 rows × 7 columns</p>\n",
              "</div>"
            ],
            "text/plain": [
              "        SUBJECT_ID  ...                                  hist_pres_illness\n",
              "31             112  ...    the patient is a [**age over 90 **]-year-old...\n",
              "35             113  ...    the patient is a 35 year old\\ngentleman who ...\n",
              "36             114  ...    this is a 48-year-old man in\\ngenerally good...\n",
              "50             115  ...  \\nthe patient is a 75 y/o female who presents ...\n",
              "67             117  ...    the patient is a 49 year old\\nwoman with a h...\n",
              "...            ...  ...                                                ...\n",
              "650962       97164  ...  \\nms. [**known lastname 2564**] is an 83 y/o f...\n",
              "650986       97484  ...  \\n79 f with no past oncologic history who pres...\n",
              "650993       97488  ...  \\n66m transferred from [**hospital1 18**] [**l...\n",
              "651007       97488  ...  \\nthe patient is a 67 year old right handed ma...\n",
              "651038       97497  ...  \\ndr [**known lastname 8993**] is a 57 yo man ...\n",
              "\n",
              "[34844 rows x 7 columns]"
            ]
          },
          "metadata": {
            "tags": []
          },
          "execution_count": 22
        }
      ]
    },
    {
      "cell_type": "code",
      "metadata": {
        "id": "qSXgiSYSV-Gq",
        "colab_type": "code",
        "colab": {}
      },
      "source": [
        "labels = df_icd_notes.ICD9_CODE.values\n",
        "labels = labels.astype(np.long)\n",
        "\n",
        "sentences_hosp = df_icd_notes.Hosp_course.values\n",
        "sentences_hosp = sentences_hosp.astype('str')\n",
        "\n",
        "test_labels = labels[27001:30202]\n",
        "test_sent = sentences_hosp[27001:30202]\n",
        "\n",
        "for i in range(len(test_sent)):\n",
        "    sent = test_sent[i]\n",
        "    sent = preprocess(sent)\n",
        "    test_sent[i] = sent\n",
        "    \n",
        "# sentences_hist = df_icd_notes.hist_pres_illness.values\n",
        "# sentences_hist = sentences_hist.astype(np.string_)\n",
        "# sentences = df_icd_notes.TEXT.values\n",
        "# sentences = sentences.astype(np.string_)\n",
        "\n",
        "\n",
        "labels = labels[:27000]\n",
        "sentences_hosp = sentences_hosp[:27000]\n",
        "\n",
        "for i in range(len(sentences_hosp)):\n",
        "    sent = sentences_hosp[i]\n",
        "    sent = preprocess(sent)\n",
        "    sentences_hosp[i] = sent\n"
      ],
      "execution_count": 0,
      "outputs": []
    },
    {
      "cell_type": "code",
      "metadata": {
        "id": "4wUnp-5Og7fR",
        "colab_type": "code",
        "outputId": "01df6aa3-4327-4daa-8203-7e0d6ce53c49",
        "colab": {
          "base_uri": "https://localhost:8080/",
          "height": 581
        }
      },
      "source": [
        "!pip install transformers"
      ],
      "execution_count": 24,
      "outputs": [
        {
          "output_type": "stream",
          "text": [
            "Collecting transformers\n",
            "\u001b[?25l  Downloading https://files.pythonhosted.org/packages/12/b5/ac41e3e95205ebf53439e4dd087c58e9fd371fd8e3724f2b9b4cdb8282e5/transformers-2.10.0-py3-none-any.whl (660kB)\n",
            "\u001b[K     |████████████████████████████████| 665kB 5.0MB/s \n",
            "\u001b[?25hCollecting sacremoses\n",
            "\u001b[?25l  Downloading https://files.pythonhosted.org/packages/7d/34/09d19aff26edcc8eb2a01bed8e98f13a1537005d31e95233fd48216eed10/sacremoses-0.0.43.tar.gz (883kB)\n",
            "\u001b[K     |████████████████████████████████| 890kB 22.7MB/s \n",
            "\u001b[?25hRequirement already satisfied: numpy in /usr/local/lib/python3.6/dist-packages (from transformers) (1.18.4)\n",
            "Requirement already satisfied: requests in /usr/local/lib/python3.6/dist-packages (from transformers) (2.23.0)\n",
            "Requirement already satisfied: dataclasses; python_version < \"3.7\" in /usr/local/lib/python3.6/dist-packages (from transformers) (0.7)\n",
            "Requirement already satisfied: tqdm>=4.27 in /usr/local/lib/python3.6/dist-packages (from transformers) (4.41.1)\n",
            "Collecting tokenizers==0.7.0\n",
            "\u001b[?25l  Downloading https://files.pythonhosted.org/packages/14/e5/a26eb4716523808bb0a799fcfdceb6ebf77a18169d9591b2f46a9adb87d9/tokenizers-0.7.0-cp36-cp36m-manylinux1_x86_64.whl (3.8MB)\n",
            "\u001b[K     |████████████████████████████████| 3.8MB 32.3MB/s \n",
            "\u001b[?25hCollecting sentencepiece\n",
            "\u001b[?25l  Downloading https://files.pythonhosted.org/packages/d4/a4/d0a884c4300004a78cca907a6ff9a5e9fe4f090f5d95ab341c53d28cbc58/sentencepiece-0.1.91-cp36-cp36m-manylinux1_x86_64.whl (1.1MB)\n",
            "\u001b[K     |████████████████████████████████| 1.1MB 42.7MB/s \n",
            "\u001b[?25hRequirement already satisfied: regex!=2019.12.17 in /usr/local/lib/python3.6/dist-packages (from transformers) (2019.12.20)\n",
            "Requirement already satisfied: filelock in /usr/local/lib/python3.6/dist-packages (from transformers) (3.0.12)\n",
            "Requirement already satisfied: six in /usr/local/lib/python3.6/dist-packages (from sacremoses->transformers) (1.12.0)\n",
            "Requirement already satisfied: click in /usr/local/lib/python3.6/dist-packages (from sacremoses->transformers) (7.1.2)\n",
            "Requirement already satisfied: joblib in /usr/local/lib/python3.6/dist-packages (from sacremoses->transformers) (0.15.1)\n",
            "Requirement already satisfied: idna<3,>=2.5 in /usr/local/lib/python3.6/dist-packages (from requests->transformers) (2.9)\n",
            "Requirement already satisfied: chardet<4,>=3.0.2 in /usr/local/lib/python3.6/dist-packages (from requests->transformers) (3.0.4)\n",
            "Requirement already satisfied: urllib3!=1.25.0,!=1.25.1,<1.26,>=1.21.1 in /usr/local/lib/python3.6/dist-packages (from requests->transformers) (1.24.3)\n",
            "Requirement already satisfied: certifi>=2017.4.17 in /usr/local/lib/python3.6/dist-packages (from requests->transformers) (2020.4.5.1)\n",
            "Building wheels for collected packages: sacremoses\n",
            "  Building wheel for sacremoses (setup.py) ... \u001b[?25l\u001b[?25hdone\n",
            "  Created wheel for sacremoses: filename=sacremoses-0.0.43-cp36-none-any.whl size=893260 sha256=ffacdae162e8611647dec912bdb044d50862e755b3e96dc602e95d1cf294f837\n",
            "  Stored in directory: /root/.cache/pip/wheels/29/3c/fd/7ce5c3f0666dab31a50123635e6fb5e19ceb42ce38d4e58f45\n",
            "Successfully built sacremoses\n",
            "Installing collected packages: sacremoses, tokenizers, sentencepiece, transformers\n",
            "Successfully installed sacremoses-0.0.43 sentencepiece-0.1.91 tokenizers-0.7.0 transformers-2.10.0\n"
          ],
          "name": "stdout"
        }
      ]
    },
    {
      "cell_type": "code",
      "metadata": {
        "id": "vhtBm6tzsNfV",
        "colab_type": "code",
        "outputId": "1db87da2-ce16-451d-9b67-fa4e7fba8f39",
        "colab": {
          "base_uri": "https://localhost:8080/",
          "height": 1000,
          "referenced_widgets": [
            "99eabed640eb441ab47d81700a3bce00",
            "29096b47f44540dfa7df6358c2dabeef",
            "5a8c75031f7a488dab3c256e6cf6130b",
            "a7ba669865fd42b08a4ebc8ec130df42",
            "b029b697faa94b91b08faea7d4c4e6d9",
            "76b4ae0790b1404696a2f72f935ae14f",
            "bc7d7947e1e346409c10bdc8ad8b044e",
            "2d8ba67f922248e9a107ac4902c91b7a"
          ]
        }
      },
      "source": [
        "import torch\n",
        "from pytorch_pretrained_bert import BertTokenizer, BertModel, BertForMaskedLM\n",
        "\n",
        "import logging\n",
        "\n",
        "import matplotlib.pyplot as plt\n",
        "% matplotlib inline\n",
        "\n",
        "# Load pre-trained model tokenizer (vocabulary)\n",
        "tokenizer = BertTokenizer.from_pretrained('bert-base-uncased', do_lower_case=True)\n",
        "\n",
        "from transformers import BertTokenizer\n",
        "\n",
        "# Tokenize all of the sentences and map the tokens to their word IDs.\n",
        "input_ids = []\n",
        "attention_masks = []\n",
        "\n",
        "tokenizer = BertTokenizer.from_pretrained('bert-base-uncased', do_lower_case=True)\n",
        "\n",
        "# For every sentence...\n",
        "for sent in sentences_hosp:\n",
        "    # `encode_plus` will:\n",
        "    #   (1) Tokenize the sentence.\n",
        "    #   (2) Prepend the `[CLS]` token to the start.\n",
        "    #   (3) Append the `[SEP]` token to the end.\n",
        "    #   (4) Map tokens to their IDs.\n",
        "    #   (5) Pad or truncate the sentence to `max_length`\n",
        "    #   (6) Create attention masks for [PAD] tokens.\n",
        "    encoded_dict = tokenizer.encode_plus(\n",
        "                        sent,                      # Sentence to encode.\n",
        "                        add_special_tokens = True, # Add '[CLS]' and '[SEP]'\n",
        "                        max_length = 512,           # Pad & truncate all sentences.\n",
        "                        pad_to_max_length = True,\n",
        "                        return_attention_mask = True,   # Construct attn. masks.\n",
        "                        return_tensors = 'pt',     # Return pytorch tensors.\n",
        "                   )\n",
        "    \n",
        "    # Add the encoded sentence to the list.    \n",
        "    input_ids.append(encoded_dict['input_ids'])\n",
        "    \n",
        "    # And its attention mask (simply differentiates padding from non-padding).\n",
        "    attention_masks.append(encoded_dict['attention_mask'])\n",
        "\n",
        "# Convert the lists into tensors.\n",
        "input_ids = torch.cat(input_ids, dim=0)\n",
        "attention_masks = torch.cat(attention_masks, dim=0)\n",
        "labels = torch.tensor(labels)\n",
        "\n",
        "print('Original: ', sentences_hosp[0])\n",
        "print('Token IDs:', input_ids[0])"
      ],
      "execution_count": 25,
      "outputs": [
        {
          "output_type": "stream",
          "text": [
            "100%|██████████| 231508/231508 [00:00<00:00, 927023.94B/s]\n"
          ],
          "name": "stderr"
        },
        {
          "output_type": "display_data",
          "data": {
            "application/vnd.jupyter.widget-view+json": {
              "model_id": "99eabed640eb441ab47d81700a3bce00",
              "version_minor": 0,
              "version_major": 2
            },
            "text/plain": [
              "HBox(children=(FloatProgress(value=0.0, description='Downloading', max=231508.0, style=ProgressStyle(descripti…"
            ]
          },
          "metadata": {
            "tags": []
          }
        },
        {
          "output_type": "stream",
          "text": [
            "\n",
            "Original:    gi thepatient was felt to likely have another bleeding ulcer as theetiology of his melanotic stools and anemia the patient hada history of helicobacter pylori in the past that wastreated the patient was felt to require egd to evaluate forrecurrent infection as well as ongoing bleeding the patientwas initially admitted to the icu gastroenterology wasconsulted the patient was taken for egd on  whichshowed a deep antral ulcer no acute bleeding the ulcer wasinjectedthe patient was initially continued on iv bid protonixhematocrits were followed and the patient was maintained on peripheral ivs at all times and aspirin was held thepatient has another episode of melanotic stool on he was taken for another egd at that time which showed theulcer was not bleeding as a result the patient was felt tobe stable for discharge to home from a gi perspective withcontinuation of the bid protonix the patient to follow upfor a repeat endoscopy in  weeks as an outpatientcardiac cardiac enzymes had been significant for elevatedtroponin on admission cardiology was contactname ni  who did notrecommend cardiac catheterization or coronary artery bypassgraft the patient initially received heparin and wasrestarted on aspirin which was approved by gi as long as thepatient had serial hematocrits the patient was transfused tokeep the hematocrit above  he was restarted on atenololthe patient was also on imdur for a longeracting vasodilatoreffect the patient had a couple of episodes of further chestpain during the admission but had no further ekg changespulmonary the patient had some desaturations to s ands with ambulation without improvement with oxygen withambulation but at this time the patient was completelyasymptomatic and the patients oxygen saturation recoveredspontaneously to the high s on room air with rest as aresult this was felt to possibly be not reflective of thepatients pulmonary status but reflective of some peripheralvascular changes with ambulation the patient was not felt toneed inpatient workup and will follow up with pcp as anoutpatienthematology the patient with acute blood loss anemiareceived a total of  units of packed red blood cells hadserial hematocrits while on heparin gtt and was transfused tokeep the hematocrit above musculoskeletal the patient was restarted on his prednisonefor polymyalgia rheumatica and temporal arteritisdischarge diagnoses  gastric ulcergastrointestinal bleeddemand ischemia elevated troponins and ekg changes in thesetting of acute blood loss anemiadischarge medications nitroglycerin sublingual prednisone  mg po daily atenolol  mg po q pm  mg po q am protonix  po bid aspirin  mg isosorbide mononitratedischarge followup  follow up with cardiology on last name lf   at  am the patients primary cardiologist is drlast name stitle  dr last name stitle  was not available so the patientfollowed up with dr last name stitle  the patient also followed up withdr last name stitle  for outpatient endoscopy on  at  pmand the patient was suggested to pursue cardiacrehabilitation in  to  weeks                        first name name pattern  last name namepattern  md number dictated bylast name namepattern medquistd   t   job  job number \n",
            "Token IDs: tensor([  101, 21025,  1996, 24343,  2001,  2371,  2000,  3497,  2031,  2178,\n",
            "         9524, 17359, 17119,  2004, 14992,  3775,  6779,  1997,  2010, 11463,\n",
            "         6761,  4588, 14708,  2015,  1998,  2019, 17577,  1996,  5776,  2018,\n",
            "         2050,  2381,  1997,  2002, 10415, 16429, 18908,  2121,  1052,  8516,\n",
            "        10050,  1999,  1996,  2627,  2008,  2001,  7913,  4383,  1996,  5776,\n",
            "         2001,  2371,  2000,  5478,  1041,  2290,  2094,  2000, 16157,  2005,\n",
            "         2890, 10841, 14343,  3372,  8985,  2004,  2092,  2004,  7552,  9524,\n",
            "         1996,  5776, 17311,  3322,  4914,  2000,  1996, 24582,  2226,  3806,\n",
            "        13181, 29110,  6779,  2001,  8663, 23722,  3064,  1996,  5776,  2001,\n",
            "         2579,  2005,  1041,  2290,  2094,  2006,  2029, 22231, 15557,  1037,\n",
            "         2784, 14405,  7941, 17359, 17119,  2053, 11325,  9524,  1996, 17359,\n",
            "        17119,  2001,  2378, 24455, 10760,  5776,  2001,  3322,  2506,  2006,\n",
            "         4921,  7226, 20843,  7646, 28433,  3406, 26775, 12762,  2020,  2628,\n",
            "         1998,  1996,  5776,  2001,  5224,  2006, 15965,  4921,  2015,  2012,\n",
            "         2035,  2335,  1998,  2004,  8197,  6657,  2001,  2218,  1996, 24343,\n",
            "         2038,  2178,  2792,  1997, 11463,  6761,  4588, 14708,  2006,  2002,\n",
            "         2001,  2579,  2005,  2178,  1041,  2290,  2094,  2012,  2008,  2051,\n",
            "         2029,  3662,  1996,  5313, 17119,  2001,  2025,  9524,  2004,  1037,\n",
            "         2765,  1996,  5776,  2001,  2371,  2000,  4783,  6540,  2005, 11889,\n",
            "         2000,  2188,  2013,  1037, 21025,  7339,  2007,  8663,  7629, 14505,\n",
            "         1997,  1996,  7226, 20843,  7646,  1996,  5776,  2000,  3582,  2039,\n",
            "        29278,  1037,  9377,  2203,  2891,  3597,  7685,  1999,  3134,  2004,\n",
            "         2019,  2041, 24343, 11522, 20469, 15050, 16285,  2018,  2042,  3278,\n",
            "         2005,  8319, 13181, 26029,  2378,  2006,  9634,  4003, 20569,  2001,\n",
            "         3967, 18442,  9152,  2040,  2106, 10289,  9006,  3549,  2094, 15050,\n",
            "         4937, 27065, 11124,  9276,  2030, 21887,  2854, 16749, 11826, 17643,\n",
            "         6199,  1996,  5776,  3322,  2363,  2002, 19362,  2378,  1998,  2001,\n",
            "        28533, 24847,  2094,  2006,  2004,  8197,  6657,  2029,  2001,  4844,\n",
            "         2011, 21025,  2004,  2146,  2004,  1996, 24343,  2018,  7642, 19610,\n",
            "        10610, 26775, 12762,  1996,  5776,  2001,  9099, 25608,  2098,  2000,\n",
            "        20553,  2361,  1996, 19610, 10610, 26775,  4183,  2682,  2002,  2001,\n",
            "        25606,  2006,  8823,  3630,  4135, 24658,  2063,  5776,  2001,  2036,\n",
            "         2006, 10047, 24979,  2005,  1037,  2936, 18908,  2075, 12436,  6499,\n",
            "         4305, 20051,  5686, 16020,  6593,  1996,  5776,  2018,  1037,  3232,\n",
            "         1997,  4178,  1997,  2582,  3108,  4502,  2378,  2076,  1996,  9634,\n",
            "         2021,  2018,  2053,  2582, 23969,  2290,  3431, 14289, 13728,  7856,\n",
            "         2854,  1996,  5776,  2018,  2070,  4078,  4017, 18924,  2015,  2000,\n",
            "         1055,  1998,  2015,  2007,  2572, 28507,  3508,  2302,  7620,  2007,\n",
            "         7722,  2007,  3286, 28507,  3508,  2021,  2012,  2023,  2051,  1996,\n",
            "         5776,  2001,  3294,  3022, 24335, 13876,  9626,  4588,  1998,  1996,\n",
            "         5022,  7722,  2938, 18924,  6757, 13102, 12162, 17191,  2135,  2000,\n",
            "         1996,  2152,  1055,  2006,  2282,  2250,  2007,  2717,  2004, 23631,\n",
            "        11314,  2023,  2001,  2371,  2000,  4298,  2022,  2025, 21346,  1997,\n",
            "         1996, 24343,  2015, 21908,  3570,  2021, 21346,  1997,  2070, 15965,\n",
            "        12044, 15431,  3431,  2007,  2572, 28507,  3508,  1996,  5776,  2001,\n",
            "         2025,  2371,  4309,  2098,  1999, 24343,  2147,  6279,  1998,  2097,\n",
            "         3582,  2039,  2007,  7473,  2361,  2004,  2019,  5833, 24343, 28433,\n",
            "        23479,  1996,  5776,  2007, 11325,  2668,  3279,  2019, 17577,  2890,\n",
            "         3401,  3512,  2094,  1037,  2561,  1997,  3197,  1997,  8966,  2417,\n",
            "         2668,  4442,  2018,  8043,  4818, 19610, 10610, 26775, 12762,  2096,\n",
            "         2006,  2002, 19362,  2378, 14181,  2102,  1998,  2001,  9099, 25608,\n",
            "         2098,   102])\n"
          ],
          "name": "stdout"
        }
      ]
    },
    {
      "cell_type": "code",
      "metadata": {
        "id": "fZZ7snW1sjlY",
        "colab_type": "code",
        "colab": {}
      },
      "source": [
        "# # Create attention masks\n",
        "# attention_masks = []\n",
        "\n",
        "# # Create a mask of 1s for each token followed by 0s for padding\n",
        "# for seq in input_ids:\n",
        "#   seq_mask = [float(i>0) for i in seq]\n",
        "#   attention_masks.append(seq_mask)"
      ],
      "execution_count": 0,
      "outputs": []
    },
    {
      "cell_type": "code",
      "metadata": {
        "id": "XvPU2bSksl0P",
        "colab_type": "code",
        "colab": {}
      },
      "source": [
        "# Use train_test_split to split our data into train and validation sets for training\n",
        "\n",
        "train_inputs, validation_inputs, train_labels, validation_labels = train_test_split(input_ids, labels, \n",
        "                                                          random_state=2018, test_size=0.1)\n",
        "train_masks, validation_masks, _, _ = train_test_split(attention_masks, input_ids,\n",
        "                                             random_state=2018, test_size=0.1)"
      ],
      "execution_count": 0,
      "outputs": []
    },
    {
      "cell_type": "code",
      "metadata": {
        "id": "fpBA-WYCGKHC",
        "colab_type": "code",
        "colab": {}
      },
      "source": [
        ""
      ],
      "execution_count": 0,
      "outputs": []
    },
    {
      "cell_type": "code",
      "metadata": {
        "id": "JDbXK0wNsnxu",
        "colab_type": "code",
        "outputId": "3e0abb95-14b2-4051-e2bf-fc74b4a3f98b",
        "colab": {
          "base_uri": "https://localhost:8080/",
          "height": 241
        }
      },
      "source": [
        "# Convert all of our data into torch tensors, the required datatype for our model\n",
        "\n",
        "train_inputs = torch.tensor(train_inputs)\n",
        "validation_inputs = torch.tensor(validation_inputs)\n",
        "train_labels = torch.tensor(train_labels)\n",
        "validation_labels = torch.tensor(validation_labels)\n",
        "train_masks = torch.tensor(train_masks)\n",
        "validation_masks = torch.tensor(validation_masks)"
      ],
      "execution_count": 28,
      "outputs": [
        {
          "output_type": "stream",
          "text": [
            "/usr/local/lib/python3.6/dist-packages/ipykernel_launcher.py:3: UserWarning: To copy construct from a tensor, it is recommended to use sourceTensor.clone().detach() or sourceTensor.clone().detach().requires_grad_(True), rather than torch.tensor(sourceTensor).\n",
            "  This is separate from the ipykernel package so we can avoid doing imports until\n",
            "/usr/local/lib/python3.6/dist-packages/ipykernel_launcher.py:4: UserWarning: To copy construct from a tensor, it is recommended to use sourceTensor.clone().detach() or sourceTensor.clone().detach().requires_grad_(True), rather than torch.tensor(sourceTensor).\n",
            "  after removing the cwd from sys.path.\n",
            "/usr/local/lib/python3.6/dist-packages/ipykernel_launcher.py:5: UserWarning: To copy construct from a tensor, it is recommended to use sourceTensor.clone().detach() or sourceTensor.clone().detach().requires_grad_(True), rather than torch.tensor(sourceTensor).\n",
            "  \"\"\"\n",
            "/usr/local/lib/python3.6/dist-packages/ipykernel_launcher.py:6: UserWarning: To copy construct from a tensor, it is recommended to use sourceTensor.clone().detach() or sourceTensor.clone().detach().requires_grad_(True), rather than torch.tensor(sourceTensor).\n",
            "  \n",
            "/usr/local/lib/python3.6/dist-packages/ipykernel_launcher.py:7: UserWarning: To copy construct from a tensor, it is recommended to use sourceTensor.clone().detach() or sourceTensor.clone().detach().requires_grad_(True), rather than torch.tensor(sourceTensor).\n",
            "  import sys\n",
            "/usr/local/lib/python3.6/dist-packages/ipykernel_launcher.py:8: UserWarning: To copy construct from a tensor, it is recommended to use sourceTensor.clone().detach() or sourceTensor.clone().detach().requires_grad_(True), rather than torch.tensor(sourceTensor).\n",
            "  \n"
          ],
          "name": "stderr"
        }
      ]
    },
    {
      "cell_type": "code",
      "metadata": {
        "id": "v6P1aXgWu31R",
        "colab_type": "code",
        "colab": {}
      },
      "source": [
        ""
      ],
      "execution_count": 0,
      "outputs": []
    },
    {
      "cell_type": "code",
      "metadata": {
        "id": "Ev8NzRI2soy1",
        "colab_type": "code",
        "colab": {}
      },
      "source": [
        "# Select a batch size for training. For fine-tuning BERT on a specific task, the authors recommend a batch size of 16 or 32\n",
        "batch_size = 12\n",
        "\n",
        "# Create an iterator of our data with torch DataLoader. This helps save on memory during training because, unlike a for loop, \n",
        "# with an iterator the entire dataset does not need to be loaded into memory\n",
        "\n",
        "train_data = TensorDataset(train_inputs, train_masks, train_labels)\n",
        "train_sampler = RandomSampler(train_data)\n",
        "train_dataloader = DataLoader(train_data, sampler=train_sampler, batch_size=batch_size)\n",
        "\n",
        "validation_data = TensorDataset(validation_inputs, validation_masks, validation_labels)\n",
        "validation_sampler = SequentialSampler(validation_data)\n",
        "validation_dataloader = DataLoader(validation_data, sampler=validation_sampler, batch_size=batch_size)\n"
      ],
      "execution_count": 0,
      "outputs": []
    },
    {
      "cell_type": "code",
      "metadata": {
        "id": "1yGDx7Geu7Fi",
        "colab_type": "code",
        "colab": {}
      },
      "source": [
        "torch.cuda.empty_cache()"
      ],
      "execution_count": 0,
      "outputs": []
    },
    {
      "cell_type": "code",
      "metadata": {
        "id": "P5Uorf5wssZH",
        "colab_type": "code",
        "outputId": "b9775c14-73b9-43d3-94da-962924f1d0a1",
        "colab": {
          "base_uri": "https://localhost:8080/",
          "height": 1000
        }
      },
      "source": [
        "# Load BertForSequenceClassification, the pretrained BERT model with a single linear classification layer on top. \n",
        "\n",
        "model = BertForSequenceClassification.from_pretrained(\"bert-base-uncased\", num_labels=10)\n",
        "model.cuda()"
      ],
      "execution_count": 31,
      "outputs": [
        {
          "output_type": "stream",
          "text": [
            "100%|██████████| 407873900/407873900 [00:36<00:00, 11125593.19B/s]\n"
          ],
          "name": "stderr"
        },
        {
          "output_type": "execute_result",
          "data": {
            "text/plain": [
              "BertForSequenceClassification(\n",
              "  (bert): BertModel(\n",
              "    (embeddings): BertEmbeddings(\n",
              "      (word_embeddings): Embedding(30522, 768, padding_idx=0)\n",
              "      (position_embeddings): Embedding(512, 768)\n",
              "      (token_type_embeddings): Embedding(2, 768)\n",
              "      (LayerNorm): BertLayerNorm()\n",
              "      (dropout): Dropout(p=0.1, inplace=False)\n",
              "    )\n",
              "    (encoder): BertEncoder(\n",
              "      (layer): ModuleList(\n",
              "        (0): BertLayer(\n",
              "          (attention): BertAttention(\n",
              "            (self): BertSelfAttention(\n",
              "              (query): Linear(in_features=768, out_features=768, bias=True)\n",
              "              (key): Linear(in_features=768, out_features=768, bias=True)\n",
              "              (value): Linear(in_features=768, out_features=768, bias=True)\n",
              "              (dropout): Dropout(p=0.1, inplace=False)\n",
              "            )\n",
              "            (output): BertSelfOutput(\n",
              "              (dense): Linear(in_features=768, out_features=768, bias=True)\n",
              "              (LayerNorm): BertLayerNorm()\n",
              "              (dropout): Dropout(p=0.1, inplace=False)\n",
              "            )\n",
              "          )\n",
              "          (intermediate): BertIntermediate(\n",
              "            (dense): Linear(in_features=768, out_features=3072, bias=True)\n",
              "          )\n",
              "          (output): BertOutput(\n",
              "            (dense): Linear(in_features=3072, out_features=768, bias=True)\n",
              "            (LayerNorm): BertLayerNorm()\n",
              "            (dropout): Dropout(p=0.1, inplace=False)\n",
              "          )\n",
              "        )\n",
              "        (1): BertLayer(\n",
              "          (attention): BertAttention(\n",
              "            (self): BertSelfAttention(\n",
              "              (query): Linear(in_features=768, out_features=768, bias=True)\n",
              "              (key): Linear(in_features=768, out_features=768, bias=True)\n",
              "              (value): Linear(in_features=768, out_features=768, bias=True)\n",
              "              (dropout): Dropout(p=0.1, inplace=False)\n",
              "            )\n",
              "            (output): BertSelfOutput(\n",
              "              (dense): Linear(in_features=768, out_features=768, bias=True)\n",
              "              (LayerNorm): BertLayerNorm()\n",
              "              (dropout): Dropout(p=0.1, inplace=False)\n",
              "            )\n",
              "          )\n",
              "          (intermediate): BertIntermediate(\n",
              "            (dense): Linear(in_features=768, out_features=3072, bias=True)\n",
              "          )\n",
              "          (output): BertOutput(\n",
              "            (dense): Linear(in_features=3072, out_features=768, bias=True)\n",
              "            (LayerNorm): BertLayerNorm()\n",
              "            (dropout): Dropout(p=0.1, inplace=False)\n",
              "          )\n",
              "        )\n",
              "        (2): BertLayer(\n",
              "          (attention): BertAttention(\n",
              "            (self): BertSelfAttention(\n",
              "              (query): Linear(in_features=768, out_features=768, bias=True)\n",
              "              (key): Linear(in_features=768, out_features=768, bias=True)\n",
              "              (value): Linear(in_features=768, out_features=768, bias=True)\n",
              "              (dropout): Dropout(p=0.1, inplace=False)\n",
              "            )\n",
              "            (output): BertSelfOutput(\n",
              "              (dense): Linear(in_features=768, out_features=768, bias=True)\n",
              "              (LayerNorm): BertLayerNorm()\n",
              "              (dropout): Dropout(p=0.1, inplace=False)\n",
              "            )\n",
              "          )\n",
              "          (intermediate): BertIntermediate(\n",
              "            (dense): Linear(in_features=768, out_features=3072, bias=True)\n",
              "          )\n",
              "          (output): BertOutput(\n",
              "            (dense): Linear(in_features=3072, out_features=768, bias=True)\n",
              "            (LayerNorm): BertLayerNorm()\n",
              "            (dropout): Dropout(p=0.1, inplace=False)\n",
              "          )\n",
              "        )\n",
              "        (3): BertLayer(\n",
              "          (attention): BertAttention(\n",
              "            (self): BertSelfAttention(\n",
              "              (query): Linear(in_features=768, out_features=768, bias=True)\n",
              "              (key): Linear(in_features=768, out_features=768, bias=True)\n",
              "              (value): Linear(in_features=768, out_features=768, bias=True)\n",
              "              (dropout): Dropout(p=0.1, inplace=False)\n",
              "            )\n",
              "            (output): BertSelfOutput(\n",
              "              (dense): Linear(in_features=768, out_features=768, bias=True)\n",
              "              (LayerNorm): BertLayerNorm()\n",
              "              (dropout): Dropout(p=0.1, inplace=False)\n",
              "            )\n",
              "          )\n",
              "          (intermediate): BertIntermediate(\n",
              "            (dense): Linear(in_features=768, out_features=3072, bias=True)\n",
              "          )\n",
              "          (output): BertOutput(\n",
              "            (dense): Linear(in_features=3072, out_features=768, bias=True)\n",
              "            (LayerNorm): BertLayerNorm()\n",
              "            (dropout): Dropout(p=0.1, inplace=False)\n",
              "          )\n",
              "        )\n",
              "        (4): BertLayer(\n",
              "          (attention): BertAttention(\n",
              "            (self): BertSelfAttention(\n",
              "              (query): Linear(in_features=768, out_features=768, bias=True)\n",
              "              (key): Linear(in_features=768, out_features=768, bias=True)\n",
              "              (value): Linear(in_features=768, out_features=768, bias=True)\n",
              "              (dropout): Dropout(p=0.1, inplace=False)\n",
              "            )\n",
              "            (output): BertSelfOutput(\n",
              "              (dense): Linear(in_features=768, out_features=768, bias=True)\n",
              "              (LayerNorm): BertLayerNorm()\n",
              "              (dropout): Dropout(p=0.1, inplace=False)\n",
              "            )\n",
              "          )\n",
              "          (intermediate): BertIntermediate(\n",
              "            (dense): Linear(in_features=768, out_features=3072, bias=True)\n",
              "          )\n",
              "          (output): BertOutput(\n",
              "            (dense): Linear(in_features=3072, out_features=768, bias=True)\n",
              "            (LayerNorm): BertLayerNorm()\n",
              "            (dropout): Dropout(p=0.1, inplace=False)\n",
              "          )\n",
              "        )\n",
              "        (5): BertLayer(\n",
              "          (attention): BertAttention(\n",
              "            (self): BertSelfAttention(\n",
              "              (query): Linear(in_features=768, out_features=768, bias=True)\n",
              "              (key): Linear(in_features=768, out_features=768, bias=True)\n",
              "              (value): Linear(in_features=768, out_features=768, bias=True)\n",
              "              (dropout): Dropout(p=0.1, inplace=False)\n",
              "            )\n",
              "            (output): BertSelfOutput(\n",
              "              (dense): Linear(in_features=768, out_features=768, bias=True)\n",
              "              (LayerNorm): BertLayerNorm()\n",
              "              (dropout): Dropout(p=0.1, inplace=False)\n",
              "            )\n",
              "          )\n",
              "          (intermediate): BertIntermediate(\n",
              "            (dense): Linear(in_features=768, out_features=3072, bias=True)\n",
              "          )\n",
              "          (output): BertOutput(\n",
              "            (dense): Linear(in_features=3072, out_features=768, bias=True)\n",
              "            (LayerNorm): BertLayerNorm()\n",
              "            (dropout): Dropout(p=0.1, inplace=False)\n",
              "          )\n",
              "        )\n",
              "        (6): BertLayer(\n",
              "          (attention): BertAttention(\n",
              "            (self): BertSelfAttention(\n",
              "              (query): Linear(in_features=768, out_features=768, bias=True)\n",
              "              (key): Linear(in_features=768, out_features=768, bias=True)\n",
              "              (value): Linear(in_features=768, out_features=768, bias=True)\n",
              "              (dropout): Dropout(p=0.1, inplace=False)\n",
              "            )\n",
              "            (output): BertSelfOutput(\n",
              "              (dense): Linear(in_features=768, out_features=768, bias=True)\n",
              "              (LayerNorm): BertLayerNorm()\n",
              "              (dropout): Dropout(p=0.1, inplace=False)\n",
              "            )\n",
              "          )\n",
              "          (intermediate): BertIntermediate(\n",
              "            (dense): Linear(in_features=768, out_features=3072, bias=True)\n",
              "          )\n",
              "          (output): BertOutput(\n",
              "            (dense): Linear(in_features=3072, out_features=768, bias=True)\n",
              "            (LayerNorm): BertLayerNorm()\n",
              "            (dropout): Dropout(p=0.1, inplace=False)\n",
              "          )\n",
              "        )\n",
              "        (7): BertLayer(\n",
              "          (attention): BertAttention(\n",
              "            (self): BertSelfAttention(\n",
              "              (query): Linear(in_features=768, out_features=768, bias=True)\n",
              "              (key): Linear(in_features=768, out_features=768, bias=True)\n",
              "              (value): Linear(in_features=768, out_features=768, bias=True)\n",
              "              (dropout): Dropout(p=0.1, inplace=False)\n",
              "            )\n",
              "            (output): BertSelfOutput(\n",
              "              (dense): Linear(in_features=768, out_features=768, bias=True)\n",
              "              (LayerNorm): BertLayerNorm()\n",
              "              (dropout): Dropout(p=0.1, inplace=False)\n",
              "            )\n",
              "          )\n",
              "          (intermediate): BertIntermediate(\n",
              "            (dense): Linear(in_features=768, out_features=3072, bias=True)\n",
              "          )\n",
              "          (output): BertOutput(\n",
              "            (dense): Linear(in_features=3072, out_features=768, bias=True)\n",
              "            (LayerNorm): BertLayerNorm()\n",
              "            (dropout): Dropout(p=0.1, inplace=False)\n",
              "          )\n",
              "        )\n",
              "        (8): BertLayer(\n",
              "          (attention): BertAttention(\n",
              "            (self): BertSelfAttention(\n",
              "              (query): Linear(in_features=768, out_features=768, bias=True)\n",
              "              (key): Linear(in_features=768, out_features=768, bias=True)\n",
              "              (value): Linear(in_features=768, out_features=768, bias=True)\n",
              "              (dropout): Dropout(p=0.1, inplace=False)\n",
              "            )\n",
              "            (output): BertSelfOutput(\n",
              "              (dense): Linear(in_features=768, out_features=768, bias=True)\n",
              "              (LayerNorm): BertLayerNorm()\n",
              "              (dropout): Dropout(p=0.1, inplace=False)\n",
              "            )\n",
              "          )\n",
              "          (intermediate): BertIntermediate(\n",
              "            (dense): Linear(in_features=768, out_features=3072, bias=True)\n",
              "          )\n",
              "          (output): BertOutput(\n",
              "            (dense): Linear(in_features=3072, out_features=768, bias=True)\n",
              "            (LayerNorm): BertLayerNorm()\n",
              "            (dropout): Dropout(p=0.1, inplace=False)\n",
              "          )\n",
              "        )\n",
              "        (9): BertLayer(\n",
              "          (attention): BertAttention(\n",
              "            (self): BertSelfAttention(\n",
              "              (query): Linear(in_features=768, out_features=768, bias=True)\n",
              "              (key): Linear(in_features=768, out_features=768, bias=True)\n",
              "              (value): Linear(in_features=768, out_features=768, bias=True)\n",
              "              (dropout): Dropout(p=0.1, inplace=False)\n",
              "            )\n",
              "            (output): BertSelfOutput(\n",
              "              (dense): Linear(in_features=768, out_features=768, bias=True)\n",
              "              (LayerNorm): BertLayerNorm()\n",
              "              (dropout): Dropout(p=0.1, inplace=False)\n",
              "            )\n",
              "          )\n",
              "          (intermediate): BertIntermediate(\n",
              "            (dense): Linear(in_features=768, out_features=3072, bias=True)\n",
              "          )\n",
              "          (output): BertOutput(\n",
              "            (dense): Linear(in_features=3072, out_features=768, bias=True)\n",
              "            (LayerNorm): BertLayerNorm()\n",
              "            (dropout): Dropout(p=0.1, inplace=False)\n",
              "          )\n",
              "        )\n",
              "        (10): BertLayer(\n",
              "          (attention): BertAttention(\n",
              "            (self): BertSelfAttention(\n",
              "              (query): Linear(in_features=768, out_features=768, bias=True)\n",
              "              (key): Linear(in_features=768, out_features=768, bias=True)\n",
              "              (value): Linear(in_features=768, out_features=768, bias=True)\n",
              "              (dropout): Dropout(p=0.1, inplace=False)\n",
              "            )\n",
              "            (output): BertSelfOutput(\n",
              "              (dense): Linear(in_features=768, out_features=768, bias=True)\n",
              "              (LayerNorm): BertLayerNorm()\n",
              "              (dropout): Dropout(p=0.1, inplace=False)\n",
              "            )\n",
              "          )\n",
              "          (intermediate): BertIntermediate(\n",
              "            (dense): Linear(in_features=768, out_features=3072, bias=True)\n",
              "          )\n",
              "          (output): BertOutput(\n",
              "            (dense): Linear(in_features=3072, out_features=768, bias=True)\n",
              "            (LayerNorm): BertLayerNorm()\n",
              "            (dropout): Dropout(p=0.1, inplace=False)\n",
              "          )\n",
              "        )\n",
              "        (11): BertLayer(\n",
              "          (attention): BertAttention(\n",
              "            (self): BertSelfAttention(\n",
              "              (query): Linear(in_features=768, out_features=768, bias=True)\n",
              "              (key): Linear(in_features=768, out_features=768, bias=True)\n",
              "              (value): Linear(in_features=768, out_features=768, bias=True)\n",
              "              (dropout): Dropout(p=0.1, inplace=False)\n",
              "            )\n",
              "            (output): BertSelfOutput(\n",
              "              (dense): Linear(in_features=768, out_features=768, bias=True)\n",
              "              (LayerNorm): BertLayerNorm()\n",
              "              (dropout): Dropout(p=0.1, inplace=False)\n",
              "            )\n",
              "          )\n",
              "          (intermediate): BertIntermediate(\n",
              "            (dense): Linear(in_features=768, out_features=3072, bias=True)\n",
              "          )\n",
              "          (output): BertOutput(\n",
              "            (dense): Linear(in_features=3072, out_features=768, bias=True)\n",
              "            (LayerNorm): BertLayerNorm()\n",
              "            (dropout): Dropout(p=0.1, inplace=False)\n",
              "          )\n",
              "        )\n",
              "      )\n",
              "    )\n",
              "    (pooler): BertPooler(\n",
              "      (dense): Linear(in_features=768, out_features=768, bias=True)\n",
              "      (activation): Tanh()\n",
              "    )\n",
              "  )\n",
              "  (dropout): Dropout(p=0.1, inplace=False)\n",
              "  (classifier): Linear(in_features=768, out_features=10, bias=True)\n",
              ")"
            ]
          },
          "metadata": {
            "tags": []
          },
          "execution_count": 31
        }
      ]
    },
    {
      "cell_type": "code",
      "metadata": {
        "id": "jCiy2mdTswB8",
        "colab_type": "code",
        "colab": {}
      },
      "source": [
        "\n",
        "param_optimizer = list(model.named_parameters())\n",
        "\n",
        "no_decay = ['bias', 'gamma', 'beta']\n",
        "optimizer_grouped_parameters = [\n",
        "    {'params': [p for n, p in param_optimizer if not any(nd in n for nd in no_decay)],\n",
        "     'weight_decay_rate': 0.01},\n",
        "    {'params': [p for n, p in param_optimizer if any(nd in n for nd in no_decay)],\n",
        "     'weight_decay_rate': 0.01}\n",
        "]\n",
        "\n"
      ],
      "execution_count": 0,
      "outputs": []
    },
    {
      "cell_type": "code",
      "metadata": {
        "id": "NXFQ_Tx1s1FM",
        "colab_type": "code",
        "outputId": "911da798-2cb2-4d50-d3a8-934db69af043",
        "colab": {
          "base_uri": "https://localhost:8080/",
          "height": 34
        }
      },
      "source": [
        "# This variable contains all of the hyperparemeter information our training loop needs\n",
        "optimizer = BertAdam(optimizer_grouped_parameters,\n",
        "                     lr=1e-5,\n",
        "                     warmup=.1)"
      ],
      "execution_count": 33,
      "outputs": [
        {
          "output_type": "stream",
          "text": [
            "t_total value of -1 results in schedule not being applied\n"
          ],
          "name": "stderr"
        }
      ]
    },
    {
      "cell_type": "code",
      "metadata": {
        "id": "DYDJxUGgtRRY",
        "colab_type": "code",
        "colab": {}
      },
      "source": [
        "# Function to calculate the accuracy of our predictions vs labels\n",
        "from sklearn.metrics import f1_score\n",
        "errors = {\"0\": 0, \"1\":0, \"2\":0, \"3\":0, \"4\":0, \"5\":0, \"6\":0, \"7\":0, \"8\":0, \"9\":0}\n",
        "total = {\"0\": 0, \"1\":0, \"2\":0, \"3\":0, \"4\":0, \"5\":0, \"6\":0, \"7\":0, \"8\":0, \"9\":0}\n",
        "\n",
        "def flat_accuracy(preds, labels):\n",
        "    pred_flat = np.argmax(preds, axis=1).flatten()\n",
        "    labels_flat = labels.flatten()\n",
        "    \n",
        "    ##determine frequent errors\n",
        "    for i in range(len(pred_flat)):\n",
        "      if labels_flat[i] != pred_flat[i]:\n",
        "        errors[str(labels_flat[i])] += 1\n",
        "      total[str(labels_flat[i])] += 1\n",
        "    return np.sum(pred_flat == labels_flat) / len(labels_flat)"
      ],
      "execution_count": 0,
      "outputs": []
    },
    {
      "cell_type": "code",
      "metadata": {
        "id": "nuuouGbXuoUx",
        "colab_type": "code",
        "colab": {}
      },
      "source": [
        "from sklearn.metrics import roc_auc_score\n",
        "from sklearn.preprocessing import normalize\n",
        "\n",
        "\n",
        "def aucscore(labels, preds):\n",
        "  # print(preds)\n",
        "  pred_flat = np.max(preds, axis=1).flatten()\n",
        "  print(pred_flat)\n",
        "  labels_flat = labels\n",
        "  print('x')\n",
        "  micro = roc_auc_score(labels_flat, pred_flat, average='micro', multi_class='ovo')\n",
        "  print('x')\n",
        "  macro = roc_auc_score(labels_flat, pred_flat, average='macro', multi_class='ovo')\n",
        "  weighted = roc_auc_score(labels_flat, pred_flat, average='weighted', multi_class='ovo')\n",
        "\n",
        "  return micro, macro, weighted"
      ],
      "execution_count": 0,
      "outputs": []
    },
    {
      "cell_type": "code",
      "metadata": {
        "id": "w_kDBAuHroxM",
        "colab_type": "code",
        "colab": {}
      },
      "source": [
        "def f1score(labels, preds):\n",
        "  pred_flat = np.argmax(preds, axis=1).flatten()\n",
        "  labels_flat = labels.flatten()\n",
        "\n",
        "  micro = f1_score(labels_flat, pred_flat, average='micro')\n",
        "  macro = f1_score(labels_flat, pred_flat, average='macro')\n",
        "  weighted = f1_score(labels_flat, pred_flat, average='weighted')\n",
        "\n",
        "  return micro, macro, weighted\n"
      ],
      "execution_count": 0,
      "outputs": []
    },
    {
      "cell_type": "code",
      "metadata": {
        "id": "vPzkn4TqXT4s",
        "colab_type": "code",
        "colab": {}
      },
      "source": [
        "import time\n",
        "import datetime\n",
        "\n",
        "def format_time(elapsed):\n",
        "    '''\n",
        "    Takes a time in seconds and returns a string hh:mm:ss\n",
        "    '''\n",
        "    # Round to the nearest second.\n",
        "    elapsed_rounded = int(round((elapsed)))\n",
        "    \n",
        "    # Format as hh:mm:ss\n",
        "    return str(datetime.timedelta(seconds=elapsed_rounded))"
      ],
      "execution_count": 0,
      "outputs": []
    },
    {
      "cell_type": "code",
      "metadata": {
        "id": "9BH8cymnDtdT",
        "colab_type": "code",
        "outputId": "af7d8f0a-c128-4e2b-becc-90a30a9d973a",
        "colab": {
          "base_uri": "https://localhost:8080/",
          "height": 598
        }
      },
      "source": [
        "from sklearn.metrics import f1_score\n",
        "\n",
        "# Store our loss and accuracy for plotting\n",
        "train_loss_set = []\n",
        "\n",
        "# Number of training epochs (authors recommend between 2 and 4)\n",
        "epochs = 4\n",
        "# trange is a tqdm wrapper around the normal python range\n",
        "for _ in trange(epochs, desc=\"Epoch\"):\n",
        "  \n",
        "  \n",
        "  # Training\n",
        "  \n",
        "  # Set our model to training mode (as opposed to evaluation mode)\n",
        "  model.train()\n",
        "  \n",
        "  # Tracking variables\n",
        "  tr_loss = 0\n",
        "  nb_tr_examples, nb_tr_steps = 0, 0\n",
        "  total_eval_loss=0\n",
        "  \n",
        "  # Train the data for one epoch\n",
        "  for step, batch in enumerate(train_dataloader):\n",
        "    # Add batch to GPU\n",
        "    batch = tuple(t.to(device) for t in batch)\n",
        "    # Unpack the inputs from our dataloader\n",
        "    b_input_ids, b_input_mask, b_labels = batch\n",
        "    # Clear out the gradients (by default they accumulate)\n",
        "    optimizer.zero_grad()\n",
        "\n",
        "    # Forward pass\n",
        "\n",
        "    loss = model(b_input_ids, token_type_ids=None, attention_mask=b_input_mask, labels=b_labels)\n",
        "    train_loss_set.append(loss.item())    \n",
        "    # Backward pass\n",
        "    loss.backward()\n",
        "    # Update parameters and take a step using the computed gradient\n",
        "    optimizer.step()\n",
        "    \n",
        "    \n",
        "    # Update tracking variables\n",
        "    tr_loss += loss.item()\n",
        "    nb_tr_examples += b_input_ids.size(0)\n",
        "    nb_tr_steps += 1\n",
        "\n",
        "  print(\"Train loss: {}\".format(tr_loss/nb_tr_steps))\n",
        "    \n",
        "    \n",
        "  # Validation\n",
        "\n",
        "  # Put model in evaluation mode to evaluate loss on the validation set\n",
        "  model.eval()\n",
        "\n",
        "  # Tracking variables \n",
        "  eval_loss, eval_accuracy = 0, 0\n",
        "  f1_micr, f1_macr, f1_weight = 0,0,0\n",
        "  auc_micr, auc_macr, auc_weight = 0,0,0\n",
        "  nb_eval_steps, nb_eval_examples = 0, 0\n",
        " \n",
        "  # Evaluate data for one epoch\n",
        "  for batch in validation_dataloader:\n",
        "    # Add batch to GPU\n",
        "    batch = tuple(t.to(device) for t in batch)\n",
        "    # Unpack the inputs from our dataloader\n",
        "    b_input_ids, b_input_mask, b_labels = batch\n",
        "    # Telling the model not to compute or store gradients, saving memory and speeding up validation\n",
        "    with torch.no_grad():\n",
        "      # Forward pass, calculate logit predictions\n",
        "      logits = model(b_input_ids, token_type_ids=None, attention_mask=b_input_mask)\n",
        "    \n",
        "    total_eval_loss+= loss.item()\n",
        "    # Move logits and labels to CPU\n",
        "    logits = logits.detach().cpu().numpy()\n",
        "    label_ids = b_labels.to('cpu').numpy()\n",
        "\n",
        "    tmp_eval_accuracy = flat_accuracy(logits, label_ids)\n",
        "    tmp_f1_micr, tmp_f1_macr, tmp_f1_weight = f1score(label_ids, logits)\n",
        "    #tmp_auc_micr, tmp_auc_macr, tmp_auc_weight = aucscore(label_ids, logits)\n",
        "    eval_accuracy += tmp_eval_accuracy\n",
        "\n",
        "    #calculate f1 scores\n",
        "    f1_micr += tmp_f1_micr\n",
        "    f1_macr += tmp_f1_macr\n",
        "    f1_weight += tmp_f1_weight\n",
        "\n",
        "    # #calculate auc\n",
        "    # auc_micr += tmp_auc_micr\n",
        "    # auc_macr += tmp_auc_macr\n",
        "    # auc_weight += tmp_auc_weight\n",
        "\n",
        "    nb_eval_steps += 1\n",
        "  print('TOTAL EVAL LOSS: ', total_eval_loss/len(validation_dataloader))\n",
        "  print(\"Validation Accuracy: {}\".format(eval_accuracy/nb_eval_steps))\n",
        "  print('F1 micro:', f1_micr/nb_eval_steps)  \n",
        "  print('F1 macro:', f1_macr/nb_eval_steps)\n",
        "  print('F1 weight:', f1_weight/nb_eval_steps)\n",
        "  print('    DONE.')\n",
        "  #print('AUC macro: ', auc_macr/nb_eval_steps )"
      ],
      "execution_count": 38,
      "outputs": [
        {
          "output_type": "stream",
          "text": [
            "\rEpoch:   0%|          | 0/4 [00:00<?, ?it/s]/pytorch/torch/csrc/utils/python_arg_parser.cpp:756: UserWarning: This overload of add_ is deprecated:\n",
            "\tadd_(Number alpha, Tensor other)\n",
            "Consider using one of the following signatures instead:\n",
            "\tadd_(Tensor other, *, Number alpha)\n"
          ],
          "name": "stderr"
        },
        {
          "output_type": "stream",
          "text": [
            "Train loss: 1.941960191079128\n"
          ],
          "name": "stdout"
        },
        {
          "output_type": "stream",
          "text": [
            "\rEpoch:  25%|██▌       | 1/4 [28:46<1:26:20, 1726.85s/it]"
          ],
          "name": "stderr"
        },
        {
          "output_type": "stream",
          "text": [
            "TOTAL EVAL LOSS:  1.9277962446212769\n",
            "Validation Accuracy: 0.4151851851851851\n",
            "F1 micro: 0.4151851851851851\n",
            "F1 macro: 0.2785719510550198\n",
            "F1 weight: 0.36035575330019765\n",
            "    DONE.\n",
            "Train loss: 1.6718822801554645\n"
          ],
          "name": "stdout"
        },
        {
          "output_type": "stream",
          "text": [
            "\rEpoch:  50%|█████     | 2/4 [57:36<57:35, 1727.76s/it]  "
          ],
          "name": "stderr"
        },
        {
          "output_type": "stream",
          "text": [
            "TOTAL EVAL LOSS:  1.3770346641540527\n",
            "Validation Accuracy: 0.47222222222222227\n",
            "F1 micro: 0.47222222222222227\n",
            "F1 macro: 0.3427497610267452\n",
            "F1 weight: 0.43916319277430393\n",
            "    DONE.\n",
            "Train loss: 1.530736282725393\n"
          ],
          "name": "stdout"
        },
        {
          "output_type": "stream",
          "text": [
            "\rEpoch:  75%|███████▌  | 3/4 [1:26:30<28:49, 1729.43s/it]"
          ],
          "name": "stderr"
        },
        {
          "output_type": "stream",
          "text": [
            "TOTAL EVAL LOSS:  1.8447052240371704\n",
            "Validation Accuracy: 0.47444444444444456\n",
            "F1 micro: 0.47444444444444456\n",
            "F1 macro: 0.34836324570001803\n",
            "F1 weight: 0.4365134988468325\n",
            "    DONE.\n",
            "Train loss: 1.422469002906187\n"
          ],
          "name": "stdout"
        },
        {
          "output_type": "stream",
          "text": [
            "Epoch: 100%|██████████| 4/4 [1:55:24<00:00, 1731.02s/it]"
          ],
          "name": "stderr"
        },
        {
          "output_type": "stream",
          "text": [
            "TOTAL EVAL LOSS:  1.1914684772491455\n",
            "Validation Accuracy: 0.5207407407407408\n",
            "F1 micro: 0.5207407407407408\n",
            "F1 macro: 0.40024412810391646\n",
            "F1 weight: 0.4961471861471857\n",
            "    DONE.\n"
          ],
          "name": "stdout"
        },
        {
          "output_type": "stream",
          "text": [
            "\n"
          ],
          "name": "stderr"
        }
      ]
    },
    {
      "cell_type": "code",
      "metadata": {
        "id": "mVqGcGXWAxSJ",
        "colab_type": "code",
        "colab": {
          "base_uri": "https://localhost:8080/",
          "height": 187
        },
        "outputId": "b44186ca-30ec-4795-f8c5-dbca41001509"
      },
      "source": [
        "errors\n"
      ],
      "execution_count": 39,
      "outputs": [
        {
          "output_type": "execute_result",
          "data": {
            "text/plain": [
              "{'0': 677,\n",
              " '1': 1064,\n",
              " '2': 669,\n",
              " '3': 332,\n",
              " '4': 628,\n",
              " '5': 432,\n",
              " '6': 224,\n",
              " '7': 479,\n",
              " '8': 880,\n",
              " '9': 332}"
            ]
          },
          "metadata": {
            "tags": []
          },
          "execution_count": 39
        }
      ]
    },
    {
      "cell_type": "code",
      "metadata": {
        "id": "eWtI4qJyA0FW",
        "colab_type": "code",
        "colab": {
          "base_uri": "https://localhost:8080/",
          "height": 187
        },
        "outputId": "502a0ae6-175b-4991-bc4e-a54ae02da7a6"
      },
      "source": [
        "total"
      ],
      "execution_count": 40,
      "outputs": [
        {
          "output_type": "execute_result",
          "data": {
            "text/plain": [
              "{'0': 1432,\n",
              " '1': 1508,\n",
              " '2': 1116,\n",
              " '3': 1716,\n",
              " '4': 1464,\n",
              " '5': 432,\n",
              " '6': 224,\n",
              " '7': 1588,\n",
              " '8': 988,\n",
              " '9': 332}"
            ]
          },
          "metadata": {
            "tags": []
          },
          "execution_count": 40
        }
      ]
    },
    {
      "cell_type": "code",
      "metadata": {
        "id": "sLYMw4xHFOzU",
        "colab_type": "code",
        "colab": {
          "base_uri": "https://localhost:8080/",
          "height": 85
        },
        "outputId": "69e76248-95c1-4826-8071-ab3e1ea928d8"
      },
      "source": [
        "import os\n",
        "from transformers import WEIGHTS_NAME, CONFIG_NAME\n",
        "\n",
        "output_dir = './model_save/'\n",
        "\n",
        "# Create output directory if needed\n",
        "if not os.path.exists(output_dir):\n",
        "    os.makedirs(output_dir)\n",
        "\n",
        "model_to_save = model.module if hasattr(model, 'module') else model\n",
        "\n",
        "\n",
        "print(\"Saving model to %s\" % output_dir)\n",
        "# If we save using the predefined names, we can load using `from_pretrained`\n",
        "output_model_file = os.path.join(output_dir, WEIGHTS_NAME)\n",
        "output_config_file = os.path.join(output_dir, CONFIG_NAME)\n",
        "\n",
        "torch.save(model_to_save.state_dict(), output_model_file)\n",
        "model_to_save.config.to_json_file(output_config_file)\n",
        "tokenizer.save_pretrained(output_dir)\n",
        "# model_to_save.save_pretrained(output_dir)\n",
        "# tokenizer.save_pretrained(output_dir)"
      ],
      "execution_count": 41,
      "outputs": [
        {
          "output_type": "stream",
          "text": [
            "Saving model to ./model_save/\n"
          ],
          "name": "stdout"
        },
        {
          "output_type": "execute_result",
          "data": {
            "text/plain": [
              "('./model_save/vocab.txt',\n",
              " './model_save/special_tokens_map.json',\n",
              " './model_save/added_tokens.json')"
            ]
          },
          "metadata": {
            "tags": []
          },
          "execution_count": 41
        }
      ]
    },
    {
      "cell_type": "code",
      "metadata": {
        "id": "FBfTI_RcID2d",
        "colab_type": "code",
        "colab": {
          "base_uri": "https://localhost:8080/",
          "height": 938
        },
        "outputId": "1784aba4-6c35-48ea-9ded-426bf8bb87fb"
      },
      "source": [
        "# Tokenize all of the sentences and map the tokens to thier word IDs.\n",
        "input_ids = []\n",
        "attention_masks = []\n",
        "\n",
        "# For every sentence...\n",
        "for sent in test_sent:\n",
        "    # `encode_plus` will:\n",
        "    #   (1) Tokenize the sentence.\n",
        "    #   (2) Prepend the `[CLS]` token to the start.\n",
        "    #   (3) Append the `[SEP]` token to the end.\n",
        "    #   (4) Map tokens to their IDs.\n",
        "    #   (5) Pad or truncate the sentence to `max_length`\n",
        "    #   (6) Create attention masks for [PAD] tokens.\n",
        "    encoded_dict = tokenizer.encode_plus(\n",
        "                        sent,                      # Sentence to encode.\n",
        "                        add_special_tokens = True, # Add '[CLS]' and '[SEP]'\n",
        "                        max_length = 512,           # Pad & truncate all sentences.\n",
        "                        pad_to_max_length = True,\n",
        "                        return_attention_mask = True,   # Construct attn. masks.\n",
        "                        return_tensors = 'pt',     # Return pytorch tensors.\n",
        "                   )\n",
        "    \n",
        "    # Add the encoded sentence to the list.    \n",
        "    input_ids.append(encoded_dict['input_ids'])\n",
        "    \n",
        "    # And its attention mask (simply differentiates padding from non-padding).\n",
        "    attention_masks.append(encoded_dict['attention_mask'])\n",
        "\n",
        "# Convert the lists into tensors.\n",
        "input_ids = torch.cat(input_ids, dim=0)\n",
        "attention_masks = torch.cat(attention_masks, dim=0)\n",
        "labels = torch.tensor(test_labels)\n",
        "\n",
        "# Print sentence 0, now as a list of IDs.\n",
        "print('Original: ', test_sent[0])\n",
        "print('Token IDs:', input_ids[0])"
      ],
      "execution_count": 42,
      "outputs": [
        {
          "output_type": "stream",
          "text": [
            "Original:  as mentioned in the hpi mr known lastname  was transferred from outsidefollowing a syncopal episode at home cardiology servicemedically managed patient upon admission and he wasappropriately workedup for cardiac surgery this includedcarotid us chest ct echo gi consult dental consult alongwith usual preop lab work this was achieved over several daysand on  he was brought to the operating room where heunderwent an aortic valve replacement and coronary artery bypassgraft x  please see operative report for surgical detailsfollowing surgery he was transferred to the cvicu for invasivemonitoring in stable conditionon postoperative day one he was weaned from sedation awokeneurologically intact and extubated on postop day two hischest tubes were removed and he was transferred to the telemetryfloor for further care on postop day three his epicardialpacing wires were removeddiuresis towards his preoperative weight and pysical therapyworked with him for mobility  he continued to make progresswhile working with physical therapy for strength and mobilityon postop day five he was discharged to home with vna serviceswith the appropriate medications and followup appointmentsdischarge restrictions activity and medications were discussedprior to leaving the hospitalmedications on admissionlisinopril mg po daily lasix mg po daily aspirin mg podaily simvastatin mg po daily calcium d mg po dailyprednisone mg po daily hydroxychloroquine mg po biddischarge medications aspirin  mg tablet delayed release ec sig one tablet delayed release ec po daily dailydisp tablet delayed release ecs refills docusate sodium  mg capsule sig one  capsule po bid times a daydisp capsules refills simvastatin  mg tablet sig two  tablet po dailydailydisp tablets refills lisinopril  mg tablet sig one  tablet po daily dailydisp tablets refills metoprolol tartrate  mg tablet sig  tablets po bid times a daydisp tablets refills prednisone  mg tablet sig three  tablet po dailydailydisp tablets refills oxycodoneacetaminophen  mg tablet sig  tablets poqh every  hours as needed for paindisp tablets refills hydroxychloroquine  mg tablet sig one  tablet po bid times a daydisp tablets refills pantoprazole  mg tablet delayed release ec sig one tablet delayed release ec po qh every  hoursdisp tablet delayed release ecs refills acetaminophen  mg tablet sig two  tablet po qhevery  hours as needed for paindischarge dispositionhome with servicefacilityhospital  vnadischarge diagnosisaortic stenosis sp aortic valve replacementcoronary artery disease sp coronary artery bypass graft x past medical historycongestive heart failurehypertensionhypercholesterolemiapolymalgia rheumaticarheumatoid arthritissp right inguinal hernia repairsp lens implants for cataractsdischarge conditiongooddischarge instructionsshower daily no baths or swimmingno lotions creams or powders to incisionsno driving for  weeks and off all narcoticsno lifting more than  pounds for  weeksreport any redness of or drainage from incisionsreport any fever greater than report any weight gain greater than  pounds a day or  pounds aweektake all medications as directedfollowup instructionsdr last name stitle  in  weeks telephonefax  dr first name namepattern  last name namepattern  in  weeksdr first name namepattern  last name namepattern  in  weeks telephonefax  hospital ward name   wound clinic in  weeksplease call for appointmentscompleted by\n",
            "Token IDs: tensor([  101,  2004,  3855,  1999,  1996,  6522,  2072,  2720,  2124,  2197,\n",
            "        18442,  2001,  4015,  2013,  2648, 14876,  7174,  9328,  1037, 26351,\n",
            "        29477,  2140,  2792,  2012,  2188,  4003, 20569,  2326,  7583, 15004,\n",
            "         3266,  5776,  2588,  9634,  1998,  2002,  2001, 29098, 18981,  4360,\n",
            "         9834,  2100,  2499,  6279,  2005, 15050,  5970,  2023,  2443, 10010,\n",
            "         4140,  3593,  2149,  3108, 14931,  9052, 21025, 23363, 11394, 23363,\n",
            "         2247, 24415,  5156,  3653,  7361,  6845,  2147,  2023,  2001,  4719,\n",
            "         2058,  2195,  2420,  5685,  2006,  2002,  2001,  2716,  2000,  1996,\n",
            "         4082,  2282,  2073,  2002, 20824, 12449,  2102,  2019, 20118, 28228,\n",
            "         2278, 10764,  6110,  1998, 21887,  2854, 16749, 11826, 17643,  6199,\n",
            "         1060,  3531,  2156, 12160,  3189,  2005, 11707,  4751, 14876,  7174,\n",
            "         9328,  5970,  2002,  2001,  4015,  2000,  1996, 26226,  2594,  2226,\n",
            "         2005, 17503,  8202, 15660,  2075,  1999,  6540,  4650,  2239,  2695,\n",
            "        25918,  8082,  2154,  2028,  2002,  2001,  2057,  7231,  2094,  2013,\n",
            "         7367, 20207, 19179,  2638, 10976,  9966,  2135, 10109,  1998,  4654,\n",
            "        28251,  4383,  2006,  2695,  7361,  2154,  2048,  2010,  8376,  2102,\n",
            "        10868,  2020,  3718,  1998,  2002,  2001,  4015,  2000,  1996, 10093,\n",
            "        21382, 11129, 10258, 16506,  2005,  2582,  2729,  2006,  2695,  7361,\n",
            "         2154,  2093,  2010,  8680,  4232,  4818, 19498,  2075, 14666,  2020,\n",
            "         3718,  4305, 14900,  2483,  2875,  2010,  3653, 25918,  8082,  3635,\n",
            "         1998,  1052,  7274,  7476,  7242,  6198,  2098,  2007,  2032,  2005,\n",
            "        12969,  2002,  2506,  2000,  2191,  5082, 19927,  2551,  2007,  3558,\n",
            "         7242,  2005,  3997,  1998, 12969,  2239,  2695,  7361,  2154,  2274,\n",
            "         2002,  2001, 14374,  2000,  2188,  2007,  1058,  2532,  2578, 24415,\n",
            "         1996,  6413, 20992,  1998,  3582,  6279, 14651, 10521,  7507, 20800,\n",
            "         9259,  4023,  1998, 20992,  2020,  6936, 18098, 25346,  2000,  2975,\n",
            "         1996,  2902,  7583, 21261,  2015,  2006,  9634,  6856,  5740, 18098,\n",
            "         4014, 11460, 13433,  3679,  5869,  7646, 11460, 13433,  3679,  2004,\n",
            "         8197,  6657, 11460, 17491, 12502,  2100, 21934, 12044, 29336,  2378,\n",
            "        11460, 13433,  3679, 13853,  1040, 11460, 13433,  3679, 28139,  2094,\n",
            "         8977,  5643, 11460, 13433,  3679, 18479, 18037,  2818, 10626,  2080,\n",
            "        12519,  2063, 11460, 13433,  7226, 10521,  7507, 20800, 20992,  2004,\n",
            "         8197,  6657, 11460, 13855,  8394,  2713, 14925,  9033,  2290,  2028,\n",
            "        13855,  8394,  2713, 14925, 13433,  3679,  3679, 10521,  2361, 13855,\n",
            "         8394,  2713, 14925,  2015, 25416,  8591,  2015,  9986, 10383,  2618,\n",
            "        13365, 11460, 18269,  9033,  2290,  2028, 18269, 13433,  7226,  2335,\n",
            "         1037,  2154, 10521,  2361, 18269,  2015, 25416,  8591,  2015, 21934,\n",
            "        12044, 29336,  2378, 11460, 13855,  9033,  2290,  2048, 13855, 13433,\n",
            "         3679, 21351,  2135, 10521,  2361, 17596, 25416,  8591,  2015,  5622,\n",
            "        11493,  7361, 15928, 11460, 13855,  9033,  2290,  2028, 13855, 13433,\n",
            "         3679,  3679, 10521,  2361, 17596, 25416,  8591,  2015,  2777,  7361,\n",
            "        13153,  4747, 16985,  6494,  2618, 11460, 13855,  9033,  2290, 17596,\n",
            "        13433,  7226,  2335,  1037,  2154, 10521,  2361, 17596, 25416,  8591,\n",
            "         2015,  3653,  2094,  8977,  5643, 11460, 13855,  9033,  2290,  2093,\n",
            "        13855, 13433,  3679, 21351,  2135, 10521,  2361, 17596, 25416,  8591,\n",
            "         2015, 23060,  2100,  3597,  5280,  5243,  3401, 15464,  5740,  8458,\n",
            "         2368, 11460, 13855,  9033,  2290, 17596, 13433,  4160,  2232,  2296,\n",
            "         2847,  2004,  2734,  2005,  3255, 10521,  2361, 17596, 25416,  8591,\n",
            "         2015, 18479, 18037,  2818, 10626,  2080, 12519,  2063, 11460, 13855,\n",
            "         9033,  2290,  2028, 13855, 13433,  7226,  2335,  1037,  2154, 10521,\n",
            "         2361, 17596, 25416,  8591,  2015,  6090, 14399, 20409,  9890, 11460,\n",
            "        13855,   102])\n"
          ],
          "name": "stdout"
        }
      ]
    },
    {
      "cell_type": "code",
      "metadata": {
        "id": "nNP0E_W4IFoY",
        "colab_type": "code",
        "colab": {
          "base_uri": "https://localhost:8080/",
          "height": 105
        },
        "outputId": "ac6698ab-f982-4d3e-d191-f42d85de1020"
      },
      "source": [
        "test_inputs, _, test_labels, _ = train_test_split(input_ids, labels, \n",
        "                                                          random_state=2018, test_size=0.1)\n",
        "test_masks, _, _, _ = train_test_split(attention_masks, input_ids,\n",
        "                                             random_state=2018, test_size=0.1)\n",
        "\n",
        "test_inputs = torch.tensor(test_inputs)\n",
        "test_labels = torch.tensor(test_labels)\n",
        "\n",
        "batch_size = 8\n",
        "\n",
        "test_data = TensorDataset(test_inputs, test_masks, test_labels)\n",
        "test_sampler = RandomSampler(test_data)\n",
        "test_dataloader = DataLoader(test_data, sampler=test_sampler, batch_size=batch_size)"
      ],
      "execution_count": 43,
      "outputs": [
        {
          "output_type": "stream",
          "text": [
            "/usr/local/lib/python3.6/dist-packages/ipykernel_launcher.py:6: UserWarning: To copy construct from a tensor, it is recommended to use sourceTensor.clone().detach() or sourceTensor.clone().detach().requires_grad_(True), rather than torch.tensor(sourceTensor).\n",
            "  \n",
            "/usr/local/lib/python3.6/dist-packages/ipykernel_launcher.py:7: UserWarning: To copy construct from a tensor, it is recommended to use sourceTensor.clone().detach() or sourceTensor.clone().detach().requires_grad_(True), rather than torch.tensor(sourceTensor).\n",
            "  import sys\n"
          ],
          "name": "stderr"
        }
      ]
    },
    {
      "cell_type": "code",
      "metadata": {
        "id": "B38x_IETIHQo",
        "colab_type": "code",
        "colab": {
          "base_uri": "https://localhost:8080/",
          "height": 102
        },
        "outputId": "239ff5c3-8039-4768-cabb-a1375b4b284e"
      },
      "source": [
        "#Test set\n",
        "\n",
        "print('Predicting labels for {:,} test sentences...'.format(len(input_ids)))\n",
        "\n",
        "# Put model in evaluation mode\n",
        "model.eval()\n",
        "\n",
        "# Tracking variables \n",
        "predictions , true_labels = [], []\n",
        "\n",
        "#initialize vars\n",
        "f1_micr_test = 0\n",
        "f1_macr_test = 0\n",
        "f1_weight_test = 0\n",
        "nb_eval_steps_test = 0\n",
        "\n",
        "# Predict \n",
        "for batch in test_dataloader:\n",
        "  # Add batch to GPU\n",
        "  batch = tuple(t.to(device) for t in batch)\n",
        "  \n",
        "  # Unpack the inputs from our dataloader\n",
        "  b_input_ids, b_input_mask, b_labels = batch\n",
        "  \n",
        "  # Telling the model not to compute or store gradients, saving memory and \n",
        "  # speeding up prediction\n",
        "  with torch.no_grad():\n",
        "      # Forward pass, calculate logit predictions\n",
        "      logits = model(b_input_ids, token_type_ids=None, \n",
        "                      attention_mask=b_input_mask)\n",
        "\n",
        "\n",
        "  # Move logits and labels to CPU\n",
        "  logits = logits.detach().cpu().numpy()\n",
        "  label_ids = b_labels.to('cpu').numpy()\n",
        "  \n",
        "  # Store predictions and true labels\n",
        "  # predictions.append(logits)\n",
        "  # true_labels.append(label_ids)\n",
        "\n",
        "  tmp_f1_micr, tmp_f1_macr, tmp_f1_weight = f1score(label_ids, logits)\n",
        "\n",
        "  #calculate f1 scores\n",
        "  f1_micr_test += tmp_f1_micr\n",
        "  f1_macr_test += tmp_f1_macr\n",
        "  f1_weight_test += tmp_f1_weight\n",
        "  nb_eval_steps_test += 1\n",
        "\n",
        "print('F1 micro test: ', f1_micr_test/nb_eval_steps_test)\n",
        "print('F1 macro test: ', f1_macr_test/nb_eval_steps_test)\n",
        "print('F1 weight test: ', f1_weight_test/nb_eval_steps_test)\n",
        "print('    DONE.')"
      ],
      "execution_count": 44,
      "outputs": [
        {
          "output_type": "stream",
          "text": [
            "Predicting labels for 3,201 test sentences...\n",
            "F1 micro test:  0.5097222222222222\n",
            "F1 macro test:  0.3855823780129336\n",
            "F1 weight test:  0.4942159942680773\n",
            "    DONE.\n"
          ],
          "name": "stdout"
        }
      ]
    },
    {
      "cell_type": "code",
      "metadata": {
        "id": "r_ikHv5NKoCG",
        "colab_type": "code",
        "colab": {}
      },
      "source": [
        "\n"
      ],
      "execution_count": 0,
      "outputs": []
    }
  ]
}