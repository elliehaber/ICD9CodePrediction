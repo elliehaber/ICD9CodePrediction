{
  "nbformat": 4,
  "nbformat_minor": 0,
  "metadata": {
    "colab": {
      "name": "icd_code_prediction.ipynb",
      "provenance": []
    },
    "kernelspec": {
      "name": "python3",
      "display_name": "Python 3"
    },
    "accelerator": "GPU",
    "widgets": {
      "application/vnd.jupyter.widget-state+json": {
        "702bcf2b0919490ba967f01f65ce03b6": {
          "model_module": "@jupyter-widgets/controls",
          "model_name": "HBoxModel",
          "state": {
            "_view_name": "HBoxView",
            "_dom_classes": [],
            "_model_name": "HBoxModel",
            "_view_module": "@jupyter-widgets/controls",
            "_model_module_version": "1.5.0",
            "_view_count": null,
            "_view_module_version": "1.5.0",
            "box_style": "",
            "layout": "IPY_MODEL_5ef9b81ee90d4ab98d12161fd4e795f0",
            "_model_module": "@jupyter-widgets/controls",
            "children": [
              "IPY_MODEL_677738ea8605499aa240ecdca738b676",
              "IPY_MODEL_25e4681b0f1e4758a961e6e34038e29d"
            ]
          }
        },
        "5ef9b81ee90d4ab98d12161fd4e795f0": {
          "model_module": "@jupyter-widgets/base",
          "model_name": "LayoutModel",
          "state": {
            "_view_name": "LayoutView",
            "grid_template_rows": null,
            "right": null,
            "justify_content": null,
            "_view_module": "@jupyter-widgets/base",
            "overflow": null,
            "_model_module_version": "1.2.0",
            "_view_count": null,
            "flex_flow": null,
            "width": null,
            "min_width": null,
            "border": null,
            "align_items": null,
            "bottom": null,
            "_model_module": "@jupyter-widgets/base",
            "top": null,
            "grid_column": null,
            "overflow_y": null,
            "overflow_x": null,
            "grid_auto_flow": null,
            "grid_area": null,
            "grid_template_columns": null,
            "flex": null,
            "_model_name": "LayoutModel",
            "justify_items": null,
            "grid_row": null,
            "max_height": null,
            "align_content": null,
            "visibility": null,
            "align_self": null,
            "height": null,
            "min_height": null,
            "padding": null,
            "grid_auto_rows": null,
            "grid_gap": null,
            "max_width": null,
            "order": null,
            "_view_module_version": "1.2.0",
            "grid_template_areas": null,
            "object_position": null,
            "object_fit": null,
            "grid_auto_columns": null,
            "margin": null,
            "display": null,
            "left": null
          }
        },
        "677738ea8605499aa240ecdca738b676": {
          "model_module": "@jupyter-widgets/controls",
          "model_name": "IntProgressModel",
          "state": {
            "_view_name": "ProgressView",
            "style": "IPY_MODEL_46a9349ab1a748edb6cdae0fd7871119",
            "_dom_classes": [],
            "description": "Downloading: 100%",
            "_model_name": "IntProgressModel",
            "bar_style": "success",
            "max": 231508,
            "_view_module": "@jupyter-widgets/controls",
            "_model_module_version": "1.5.0",
            "value": 231508,
            "_view_count": null,
            "_view_module_version": "1.5.0",
            "orientation": "horizontal",
            "min": 0,
            "description_tooltip": null,
            "_model_module": "@jupyter-widgets/controls",
            "layout": "IPY_MODEL_635cfa4b8e1942bf975f104789287637"
          }
        },
        "25e4681b0f1e4758a961e6e34038e29d": {
          "model_module": "@jupyter-widgets/controls",
          "model_name": "HTMLModel",
          "state": {
            "_view_name": "HTMLView",
            "style": "IPY_MODEL_6a8a8a1665554530a96fa15ff068b3cc",
            "_dom_classes": [],
            "description": "",
            "_model_name": "HTMLModel",
            "placeholder": "​",
            "_view_module": "@jupyter-widgets/controls",
            "_model_module_version": "1.5.0",
            "value": " 232k/232k [00:00&lt;00:00, 1.02MB/s]",
            "_view_count": null,
            "_view_module_version": "1.5.0",
            "description_tooltip": null,
            "_model_module": "@jupyter-widgets/controls",
            "layout": "IPY_MODEL_9c39377a84cb412f85082a17df7fad24"
          }
        },
        "46a9349ab1a748edb6cdae0fd7871119": {
          "model_module": "@jupyter-widgets/controls",
          "model_name": "ProgressStyleModel",
          "state": {
            "_view_name": "StyleView",
            "_model_name": "ProgressStyleModel",
            "description_width": "initial",
            "_view_module": "@jupyter-widgets/base",
            "_model_module_version": "1.5.0",
            "_view_count": null,
            "_view_module_version": "1.2.0",
            "bar_color": null,
            "_model_module": "@jupyter-widgets/controls"
          }
        },
        "635cfa4b8e1942bf975f104789287637": {
          "model_module": "@jupyter-widgets/base",
          "model_name": "LayoutModel",
          "state": {
            "_view_name": "LayoutView",
            "grid_template_rows": null,
            "right": null,
            "justify_content": null,
            "_view_module": "@jupyter-widgets/base",
            "overflow": null,
            "_model_module_version": "1.2.0",
            "_view_count": null,
            "flex_flow": null,
            "width": null,
            "min_width": null,
            "border": null,
            "align_items": null,
            "bottom": null,
            "_model_module": "@jupyter-widgets/base",
            "top": null,
            "grid_column": null,
            "overflow_y": null,
            "overflow_x": null,
            "grid_auto_flow": null,
            "grid_area": null,
            "grid_template_columns": null,
            "flex": null,
            "_model_name": "LayoutModel",
            "justify_items": null,
            "grid_row": null,
            "max_height": null,
            "align_content": null,
            "visibility": null,
            "align_self": null,
            "height": null,
            "min_height": null,
            "padding": null,
            "grid_auto_rows": null,
            "grid_gap": null,
            "max_width": null,
            "order": null,
            "_view_module_version": "1.2.0",
            "grid_template_areas": null,
            "object_position": null,
            "object_fit": null,
            "grid_auto_columns": null,
            "margin": null,
            "display": null,
            "left": null
          }
        },
        "6a8a8a1665554530a96fa15ff068b3cc": {
          "model_module": "@jupyter-widgets/controls",
          "model_name": "DescriptionStyleModel",
          "state": {
            "_view_name": "StyleView",
            "_model_name": "DescriptionStyleModel",
            "description_width": "",
            "_view_module": "@jupyter-widgets/base",
            "_model_module_version": "1.5.0",
            "_view_count": null,
            "_view_module_version": "1.2.0",
            "_model_module": "@jupyter-widgets/controls"
          }
        },
        "9c39377a84cb412f85082a17df7fad24": {
          "model_module": "@jupyter-widgets/base",
          "model_name": "LayoutModel",
          "state": {
            "_view_name": "LayoutView",
            "grid_template_rows": null,
            "right": null,
            "justify_content": null,
            "_view_module": "@jupyter-widgets/base",
            "overflow": null,
            "_model_module_version": "1.2.0",
            "_view_count": null,
            "flex_flow": null,
            "width": null,
            "min_width": null,
            "border": null,
            "align_items": null,
            "bottom": null,
            "_model_module": "@jupyter-widgets/base",
            "top": null,
            "grid_column": null,
            "overflow_y": null,
            "overflow_x": null,
            "grid_auto_flow": null,
            "grid_area": null,
            "grid_template_columns": null,
            "flex": null,
            "_model_name": "LayoutModel",
            "justify_items": null,
            "grid_row": null,
            "max_height": null,
            "align_content": null,
            "visibility": null,
            "align_self": null,
            "height": null,
            "min_height": null,
            "padding": null,
            "grid_auto_rows": null,
            "grid_gap": null,
            "max_width": null,
            "order": null,
            "_view_module_version": "1.2.0",
            "grid_template_areas": null,
            "object_position": null,
            "object_fit": null,
            "grid_auto_columns": null,
            "margin": null,
            "display": null,
            "left": null
          }
        }
      }
    }
  },
  "cells": [
    {
      "cell_type": "code",
      "metadata": {
        "id": "v4Nue0XaDNNq",
        "colab_type": "code",
        "colab": {}
      },
      "source": [
        "import pandas as pd\n",
        "import os\n",
        "import io\n",
        "import numpy as np\n",
        "from matplotlib import pyplot as plt "
      ],
      "execution_count": 0,
      "outputs": []
    },
    {
      "cell_type": "code",
      "metadata": {
        "id": "F4c4KqOgDYIu",
        "colab_type": "code",
        "colab": {
          "base_uri": "https://localhost:8080/",
          "height": 122
        },
        "outputId": "294b27ea-7c57-45e2-fc01-081a7c9dc6b2"
      },
      "source": [
        "from google.colab import drive\n",
        "drive.mount('/content/drive')"
      ],
      "execution_count": 2,
      "outputs": [
        {
          "output_type": "stream",
          "text": [
            "Go to this URL in a browser: https://accounts.google.com/o/oauth2/auth?client_id=947318989803-6bn6qk8qdgf4n4g3pfee6491hc0brc4i.apps.googleusercontent.com&redirect_uri=urn%3aietf%3awg%3aoauth%3a2.0%3aoob&response_type=code&scope=email%20https%3a%2f%2fwww.googleapis.com%2fauth%2fdocs.test%20https%3a%2f%2fwww.googleapis.com%2fauth%2fdrive%20https%3a%2f%2fwww.googleapis.com%2fauth%2fdrive.photos.readonly%20https%3a%2f%2fwww.googleapis.com%2fauth%2fpeopleapi.readonly\n",
            "\n",
            "Enter your authorization code:\n",
            "··········\n",
            "Mounted at /content/drive\n"
          ],
          "name": "stdout"
        }
      ]
    },
    {
      "cell_type": "code",
      "metadata": {
        "id": "h-hMPT8ODYLS",
        "colab_type": "code",
        "colab": {}
      },
      "source": [
        "os.chdir('/content/drive/My Drive/')"
      ],
      "execution_count": 0,
      "outputs": []
    },
    {
      "cell_type": "code",
      "metadata": {
        "id": "8BTb-KRlDYN8",
        "colab_type": "code",
        "colab": {
          "base_uri": "https://localhost:8080/",
          "height": 71
        },
        "outputId": "5171a134-3af5-4aaf-ad8d-a0979886ac3f"
      },
      "source": [
        "#patient notes data\n",
        "df_notes = pd.read_csv('NOTEEVENTS.csv')\n"
      ],
      "execution_count": 4,
      "outputs": [
        {
          "output_type": "stream",
          "text": [
            "/usr/local/lib/python3.6/dist-packages/IPython/core/interactiveshell.py:2718: DtypeWarning: Columns (4,5) have mixed types.Specify dtype option on import or set low_memory=False.\n",
            "  interactivity=interactivity, compiler=compiler, result=result)\n"
          ],
          "name": "stderr"
        }
      ]
    },
    {
      "cell_type": "code",
      "metadata": {
        "id": "e1eKuRisGShT",
        "colab_type": "code",
        "colab": {
          "base_uri": "https://localhost:8080/",
          "height": 34
        },
        "outputId": "7f60aa46-eec8-4d86-bb6c-6821aba5e489"
      },
      "source": [
        "len(df_notes)"
      ],
      "execution_count": 5,
      "outputs": [
        {
          "output_type": "execute_result",
          "data": {
            "text/plain": [
              "2083180"
            ]
          },
          "metadata": {
            "tags": []
          },
          "execution_count": 5
        }
      ]
    },
    {
      "cell_type": "code",
      "metadata": {
        "id": "ldqGAT4_DYRJ",
        "colab_type": "code",
        "colab": {}
      },
      "source": [
        "#icd diagnoses data\n",
        "df_icd_diag = pd.read_csv('DIAGNOSES_ICD 2.csv')"
      ],
      "execution_count": 0,
      "outputs": []
    },
    {
      "cell_type": "code",
      "metadata": {
        "id": "kTMZUMjJMtEE",
        "colab_type": "code",
        "colab": {
          "base_uri": "https://localhost:8080/",
          "height": 312
        },
        "outputId": "1416b0e4-763b-419e-b2ad-192df6e31748"
      },
      "source": [
        "#Identify the top 10 occurring ICD-9 Codes\n",
        "import matplotlib.pyplot as plt\n",
        "\n",
        "df_icd_diag.head()\n",
        "freq = df_icd_diag['ICD9_CODE'].value_counts()[:10].index.tolist()\n",
        "\n",
        "freq\n",
        "\n",
        "freq_val = df_icd_diag['ICD9_CODE'].value_counts()[:10]\n",
        "\n",
        "plt.bar(freq, freq_val)\n",
        "plt.title('Top Ten ICD-9 Codes')\n",
        "plt.ylabel('Frequency')\n",
        "plt.xlabel('ICD9-Codes')"
      ],
      "execution_count": 7,
      "outputs": [
        {
          "output_type": "execute_result",
          "data": {
            "text/plain": [
              "Text(0.5, 0, 'ICD9-Codes')"
            ]
          },
          "metadata": {
            "tags": []
          },
          "execution_count": 7
        },
        {
          "output_type": "display_data",
          "data": {
            "image/png": "[encoded data removed]",
            "text/plain": [
              "<Figure size 432x288 with 1 Axes>"
            ]
          },
          "metadata": {
            "tags": [],
            "needs_background": "light"
          }
        }
      ]
    },
    {
      "cell_type": "code",
      "metadata": {
        "id": "0dRLbyi1Phse",
        "colab_type": "code",
        "colab": {}
      },
      "source": [
        "#Filter for notes with discharge summary\n",
        "df_notes_discharge_summ = df_notes.loc[df_notes.CATEGORY == 'Discharge summary']"
      ],
      "execution_count": 0,
      "outputs": []
    },
    {
      "cell_type": "code",
      "metadata": {
        "id": "FxNH5cx5W1Cq",
        "colab_type": "code",
        "colab": {}
      },
      "source": [
        "df_notes_discharge_summ_last = (df_notes_discharge_summ.groupby(['SUBJECT_ID', 'HADM_ID']).nth(-1)).reset_index()\n",
        "assert df_notes_discharge_summ_last.duplicated(['HADM_ID']).sum() == 0, 'Multiple discharge summaries per admission'"
      ],
      "execution_count": 0,
      "outputs": []
    },
    {
      "cell_type": "code",
      "metadata": {
        "id": "voyXheqEQW2L",
        "colab_type": "code",
        "colab": {}
      },
      "source": [
        "df_icd_notes = pd.merge(df_icd_diag[['SUBJECT_ID', 'HADM_ID', 'SEQ_NUM', 'ICD9_CODE']], \\\n",
        "df_notes_discharge_summ_last[['SUBJECT_ID', 'HADM_ID', 'TEXT']], on= ['SUBJECT_ID', 'HADM_ID'], how = 'left'\n",
        ")\n",
        "\n",
        "assert len(df_icd_diag) == len(df_icd_notes), 'Number of rows increased'"
      ],
      "execution_count": 0,
      "outputs": []
    },
    {
      "cell_type": "code",
      "metadata": {
        "id": "rzHycoXwxexz",
        "colab_type": "code",
        "colab": {
          "base_uri": "https://localhost:8080/",
          "height": 34
        },
        "outputId": "3724ad52-5147-4af9-d861-8e1b8bcf6f94"
      },
      "source": [
        "#filter for first admission\n",
        "df_icd_notes = df_icd_notes[df_icd_notes.ICD9_CODE.isin(freq)]\n",
        "t = df_icd_notes.drop_duplicates(subset='HADM_ID', keep=\"first\", inplace=True)\n",
        "df_icd_notes = df_icd_notes.dropna(how='any',subset=['TEXT'])\n",
        "\n",
        "len(df_icd_notes)"
      ],
      "execution_count": 13,
      "outputs": [
        {
          "output_type": "execute_result",
          "data": {
            "text/plain": [
              "40562"
            ]
          },
          "metadata": {
            "tags": []
          },
          "execution_count": 13
        }
      ]
    },
    {
      "cell_type": "code",
      "metadata": {
        "id": "mD0MO5VMDJ8S",
        "colab_type": "code",
        "colab": {
          "base_uri": "https://localhost:8080/",
          "height": 1000
        },
        "outputId": "4fef7a44-383c-4dcf-ba04-b4dd481f0a93"
      },
      "source": [
        "x = df_icd_notes.TEXT.values[678:679]\n",
        "for i in x:\n",
        "  print(i)"
      ],
      "execution_count": 24,
      "outputs": [
        {
          "output_type": "stream",
          "text": [
            "Admission Date:  [**2143-1-7**]              Discharge Date:   [**2143-1-22**]\n",
            "\n",
            "Date of Birth:  [**2074-4-30**]             Sex:   M\n",
            "\n",
            "Service: MEDICINE\n",
            "\n",
            "Allergies:\n",
            "Patient recorded as having No Known Allergies to Drugs\n",
            "\n",
            "Attending:[**First Name3 (LF) 2145**]\n",
            "Chief Complaint:\n",
            "SOB\n",
            "\n",
            "Major Surgical or Invasive Procedure:\n",
            "V/Q scan\n",
            "CT scans\n",
            "TTE\n",
            "TEE\n",
            "PICC placement\n",
            "Bedside thoracentesis\n",
            "CT-guided thoracentesis\n",
            "Persantine cardiac stress test\n",
            "\n",
            "History of Present Illness:\n",
            "Pt. is a 68 yo active retired man with hemochromatosis,\n",
            "cirrhosis and DM, who had a mechanical fall 2 weeks prior to\n",
            "admission while at his winter home in [**State 108**].  After falling,\n",
            "he developed left sided rib pain (later found to be due to rib\n",
            "fracture), and sought care at the local ED, where he was told to\n",
            "take tylenol. After continuing to have pain for several more\n",
            "days he returned to the ED and was prescribed motrin for the rib\n",
            "pain. He reports taking 600mg every 4-5 hrs for 3-4 days. He\n",
            "also reports having very diminished appetite and eating and\n",
            "drinking very little during this time. Three days PTA, he\n",
            "developed SOB. At the urging of his children, he flew back from\n",
            "FL to be seen here in [**Location (un) 86**]. In addition to decreased PO\n",
            "intake, he reported insomnia and nausea/dry heaves.  He denied\n",
            "abdominal pain, fevers, chills, sick contacts, or travel out of\n",
            "the country.\n",
            ".\n",
            "On admission, EKG showed right heart strain and possible lateral\n",
            "ischemic changes.  Pulmonary embolism was considered; V/Q scan\n",
            "was read as low probability. Acute coronary syndrome was also\n",
            "considered, and cardiac enzymes were elevated with troponin 0.12\n",
            "and MB index 14.8. Heparin gtt was started, along with ASA and\n",
            "beta blocker. Also on admission, he was found to have lactic\n",
            "acidosis in setting of ARF (creatinine 3.4 with baseline 1.1)\n",
            "with serum lactate 3.9 --> 6.7 and Anion Gap of 25.  Serum\n",
            "potassium was 6.0 and bicarb 12. He was given bicarb gtt for\n",
            "acidosis and kayexelate, insulin and glucose for elevated K.\n",
            ".\n",
            "Initial temp was 94.4 and CXR showed vague opacity in RML.\n",
            "Blood cultures were drawn and levo/vanc started.  In the ED,\n",
            "patient has 2 transient episodes of hypotension which resolved\n",
            "spontaneously.  He was admitted to the MICU.\n",
            "\n",
            "Past Medical History:\n",
            "PMH:\n",
            "* Hemochromatosis with monthly phlebotomy; dx 15 yrs ago\n",
            "* Cardiac involvement from hemochromatosis\n",
            "* DM\n",
            "* hx of colon polyps\n",
            "* gallstones (asx)\n",
            "* Hypothyroidism\n",
            "* ARF in setting of NSAID use 13 years ago, requiring 5 months\n",
            "of HD.\n",
            "\n",
            "\n",
            "Social History:\n",
            "Widowed, occ alcohol, no cigarettes\n",
            "\n",
            "Family History:\n",
            "Parents died in their 50s, unknown cause\n",
            "\n",
            "\n",
            "Physical Exam:\n",
            "VS: T 95.2 BP 132/43 HR 74 RR 15 O2sat 100% NRB\n",
            "GEN: NAD, pleasant\n",
            "HEENT: PERRL, EOMI, no scleral icterus, MM dry\n",
            "NECK: JVP flat, no LAD\n",
            "CHEST: gynecomastia, decreased breath sounds at the bases, no\n",
            "wheezes, no crackles\n",
            "CV: Distant heart sounds, RRR, No m/r/g\n",
            "ABD: Normal bowel sounds, soft, nontender, no hepatomegaly\n",
            "EXT: bilateral 2+ pitting edema, flat maculopapular rash on left\n",
            "foot, 2+DP bilaterally\n",
            "NRO: CN 2-12 intact, 5/5 strength throughout\n",
            "\n",
            "Pertinent Results:\n",
            "LABS ON ADMISSION [**2143-1-7**]:\n",
            ".\n",
            "WBC-16.3*# RBC-4.63 HGB-13.8* HCT-39.5* PLT COUNT-131* MCV-85\n",
            "MCH-29.7 MCHC-34.8 RDW-16.6*\n",
            "NEUTS-92.6* LYMPHS-4.4* MONOS-2.9 EOS-0 BASOS-0.1\n",
            ".\n",
            "SODIUM-130* CHLORIDE-92* TOTAL CO2-13*\n",
            "GLUCOSE-291* UREA N-52* CREAT-3.2*# SODIUM-129* POTASSIUM-5.4*\n",
            "CHLORIDE-93* TOTAL CO2-14* ANION GAP-27* LACTATE-6.7*\n",
            ".\n",
            "ALT(SGPT)-21 AST(SGOT)-37 CK(CPK)-122 ALK PHOS-156* AMYLASE-265*\n",
            "TOT BILI-1.1 LIPASE-12 ALBUMIN-2.6*\n",
            ".\n",
            "CK-MB-18* MB INDX-14.8* cTropnT-0.12*\n",
            ".\n",
            "URINE  BLOOD-LG NITRITE-NEG PROTEIN-500 GLUCOSE-NEG KETONE-NEG\n",
            "BILIRUBIN-NEG UROBILNGN-NEG PH-7.0 LEUK-MOD\n",
            "URINE  RBC-0-2 WBC-[**5-25**]* BACTERIA-NONE YEAST-NONE EPI-0\n",
            "URINE  HOURS-RANDOM UREA N-247 CREAT-178 SODIUM-49 POTASSIUM-38\n",
            "URINE  OSMOLAL-358\n",
            ".\n",
            "TYPE-ART PO2-74* PCO2-29* PH-7.35 TOTAL CO2-17* BASE XS--7\n",
            ".\n",
            ".\n",
            "STUDIES:\n",
            ".\n",
            "#. V/Q scan [**2143-1-7**]\n",
            "INTERPRETATION:\n",
            "Ventilation images obtained with Tc-[**Age over 90 **]m aerosol in 8 views\n",
            "demonstrate very heterogenous ventilation with numerous\n",
            "subsegmental defects bilaterally. Perfusion images in the same 8\n",
            "views show numerous small bilateral non-segmental defects. These\n",
            "defects are in the same areas as the ventilation defects, but\n",
            "are less prominent. The AP dimension is enlarged, and the\n",
            "diaphgrams are flattened. The chest x-ray is clear.\n",
            "The above findings are consistent with a low probability for\n",
            "pulmonary embolism, but are consistent with COPD.\n",
            ".\n",
            "#. TTE [**2143-1-8**]\n",
            "Conclusions:\n",
            "The left atrium is elongated. The right atrium is moderately\n",
            "dilated. There is mild symmetric left ventricular hypertrophy\n",
            "with normal cavity size and systolic function (LVEF>55%). Due to\n",
            "suboptimal technical quality, a focal wall motion abnormality\n",
            "cannot be fully excluded. The right ventricular cavity is\n",
            "moderately dilated with severe global free wall hypokinesis.\n",
            "There is abnormal septal motion/position consistent with right\n",
            "ventricular pressure/volume overload. The aortic valve leaflets\n",
            "(3) are mildly thickened but aortic stenosis is not present. No\n",
            "aortic regurgitation is seen. The mitral valve leaflets are\n",
            "structurally normal. Mild (1+) mitral regurgitation is seen.\n",
            "There is moderate to severe pulmonary artery systolic\n",
            "hypertension. There is no pericardial effusion.\n",
            "IMPRESSION: Mild symmetric left ventricular hypertrophy with\n",
            "preserved global systolic function. Right ventricular cavity\n",
            "enlargement with free wall hypokinesis and moderate-severe\n",
            "pulmonary artery systolic hypertension c/w a primary pulmonary\n",
            "process.\n",
            ".\n",
            "#. ECG [**2143-1-9**]\n",
            "Sinus rhythm, right ventricular hypertrophy, Diffuse ST-T wave\n",
            "changes with borderline prolonged/upper limits of normal Q-Tc\n",
            "interval - could be due in part to right ventricular hypertrophy\n",
            "but clinical correlation is suggested Since previous tracing of\n",
            "[**2143-1-8**], further ST-T wave changes present and Q-Tc interval\n",
            "appears short.\n",
            ".\n",
            "#. CT chest with Contrast [**2143-1-9**]\n",
            "IMPRESSION:\n",
            "1. Right loculated collection which has high CT attenuation\n",
            "value and may represent either empyema or hemorrhage within\n",
            "pleural effusion.\n",
            "2. Right lower lobe opacity with bronchial wall thickening which\n",
            "may represent pneumonia/aspiration.\n",
            "3. Right basilar atelectasis.\n",
            "4. Small left pleural effusion.\n",
            "5. Ground-glass opacity in the right apex. This should be\n",
            "followed up with a CT in three months.\n",
            "6. Focal ground-glass opacity in the right middle lobe and right\n",
            "lower lobe may represent infectious/inflammatory etiology. This\n",
            "could also be followed up on the CT which will be obtained in\n",
            "three months.\n",
            "7. Atherosclerotic coronary calcifications.\n",
            "8. Gallstones without evidence of cholecystitis.\n",
            "9. Liver granulomas.\n",
            ".\n",
            "#. Renal US [**2143-1-10**]:\n",
            "FINDINGS: The right kidney measures 9 cm in length, previously\n",
            "measuring 9.5 cm. The left kidney measures 10.2 cm in length,\n",
            "previously measuring 10.7 cm in length. In the interpolar region\n",
            "of the right kidney, there is an area with lobulated appearance\n",
            "consistent with cortical scarring, unchanged from the prior\n",
            "study. In the interpolar region of the left kidney, there is a\n",
            "tiny cortical crystal. There is no hydronephrosis, stones, or\n",
            "renal masses. There is no perirenal fluid. The bladder is\n",
            "unremarkable.\n",
            "IMPRESSION:\n",
            "1. Slight interval decrease in size in both kidneys.\n",
            "2. There is no hydronephrosis.\n",
            "3. Stable area of cortical scarring in the right kidney.\n",
            ".\n",
            "#. TEE [**2143-1-15**]\n",
            "Conclusions:\n",
            "1. The left atrium is dilated.\n",
            "2. The left ventricular cavity size is normal. Due to suboptimal\n",
            "technical\n",
            "quality, a focal wall motion abnormality cannot be fully\n",
            "excluded. Overall left ventricular systolic function is\n",
            "difficult to assess but is probably\n",
            "normal.\n",
            "3. There are complex (>4mm) sessile atheroma in the aortic arch.\n",
            "\n",
            "There are simple atheroma in the descending thoracic aorta.\n",
            "4. The aortic valve leaflets (3) are mildly thickened. No aortic\n",
            "regurgitation is seen.\n",
            "5. The mitral valve leaflets are mildly thickened. Trivial\n",
            "mitral\n",
            "regurgitation is seen.\n",
            "6. There is a small pericardial effusion.\n",
            "7. No evidence of endocarditis seen.\n",
            ".\n",
            "#. CTA Chest [**2143-1-16**]:\n",
            "1. No evidence of pulmonary embolism.\n",
            "2. Unchanged right loculated collection within the pleural space\n",
            "of hyperattenuation. Given the appearance with increased\n",
            "subpleural fat, this has the appearance of chronic right\n",
            "effusion. It is difficult to comment on possible thickening of\n",
            "the pleura.\n",
            "3. Small left simple effusion, slightly increased from the prior\n",
            "study.\n",
            "4. 3-mm nodule in the right middle lobe. In the absence of known\n",
            "malignancy, one-year CT followup could be considered.\n",
            "5. Atherosclerotic coronary artery calcifications.\n",
            "6. Cirrhosis of the liver, with low-attenuation oval lesion near\n",
            "the dome. It is incompletely characterized on the study.\n",
            "7. Gallstones without evidence of cholecystitis.\n",
            "8. Left lateral fifth and seventh rib fractures.\n",
            "9. Cystic structure above the manubrial notch without\n",
            "enhancement, incompletely characterized on this study.\n",
            ".\n",
            "#. Core biopsy of R solid pleural effusion [**2143-1-17**]\n",
            ".\n",
            "#. Stress test [**2143-1-21**]\n",
            "Exercising stress test: No anginal symptoms or ECG changes from\n",
            "baseline. N\n",
            "Persantine MIBI: Left ventricular cavity size is normal. Resting\n",
            "and stress perfusion images reveal uniform tracer uptake\n",
            "throughout the\n",
            "myocardium. Gated images reveal normal wall motion. The\n",
            "calculated left ventricular ejection fraction is 71%. No prior\n",
            "studies are available for comparison. IMPRESSION: Normal\n",
            "myocardial perfusion. EF 71%.\n",
            "\n",
            "\n",
            "Brief Hospital Course:\n",
            "#. Anion Gap Acidosis:\n",
            "Was likely due to lactic acidosis given his high lactate on\n",
            "admission. High lactate production likely occurred [**1-17**] sepsis\n",
            "and poor perfusion, and ARF prevented clearance of lactate. Was\n",
            "treated with bicarb in the ED and Gap resolved.\n",
            ".\n",
            "#. Hyperkalemia: resolved after receiving kayexelate, insulin\n",
            "and glucose in ED.\n",
            ".\n",
            "#. RV strain/Pulmonary Hypertension:\n",
            "On [**1-8**] TTE was obtained and showed a dilated RV with severe\n",
            "global free wall hypokinesis and abnormal septal movement. He\n",
            "was also noted to have moderate-severe pulmonary artery systolic\n",
            "hypertension consistent with a primary pulmonary process.  LVEF\n",
            "was >55%. Elevated tropinins measured in the ED were thought to\n",
            "be due to RV strain combined with decreased renal clearance. By\n",
            "[**1-9**], troponin had trended down and heparin gtt was\n",
            "discontinued. For his pulmonary hypertension observed on echo, a\n",
            "pulmonary consult was obtained. Acute PE was thought to be an\n",
            "unlikely cause of his echo findings given the negative V/Q scan\n",
            "on admission, but chronic PE was thought to be a possibility.\n",
            "CTA was obtained on [**1-16**], which was negative. Other etiologies\n",
            "were considered, including porto-pulmonary hypertension from\n",
            "cirrhosis. HIV, [**Doctor First Name **] and RF were sent and found to be negative.\n",
            "Scleroderma antibody test is pending. He will undergo an\n",
            "outpatient work-up for pulmonary hypertension with PFTs, sleep\n",
            "study, and outpatient appointment with Dr. [**First Name4 (NamePattern1) **] [**Last Name (NamePattern1) **].\n",
            ".\n",
            "#. Hypoxia:\n",
            "The patient was dyspneic on admission, and was maintained on\n",
            "supplemental oxygen for oxygen saturations that dropped into the\n",
            "high 80's at rest on room air. This was thought to be related to\n",
            "a presumed RML pneumonia (seen as opacity on admission CXR) and\n",
            "underlying pulmonary hypertension seen on Echo. However, the\n",
            "opacity observed on CXR was not seen on CT from [**1-16**], so it is\n",
            "unlikely that the original opacity represented a pneumonia as\n",
            "originally thought. His dyspnea slowly improved, and he was\n",
            "weaned from supplemental oxygen by [**1-14**]. However, on [**1-15**] he\n",
            "again developed an oxygen requirement after IV fluids were\n",
            "initiated in preparation for receiving IV contrast, and on [**1-16**],\n",
            "resting oxygen saturation was measured at 89% on room air at\n",
            "rest, 85% while ambulating. CTA [**1-16**] showed an enlarged\n",
            "left-sided pleural effusion (fluid density) and a R-sided\n",
            "pleural effusion that was determined to be solid on\n",
            "thorocentesis (Path result is pending). These findings, in\n",
            "combination with his pulmonary hypertension and deconditioning\n",
            "were thought to account for the patient's continued hypoxia.\n",
            "Diuresis was initiated the following day, and satrurations\n",
            "improved, but he continued to have an oxygen requirement. He had\n",
            "also been noted to have worsened dyspnea while ambulating, and a\n",
            "stress test was performed to rule-out an anginal component.\n",
            "Stress test was normal, showing no ECG changes or anginal\n",
            "component and normal myocardial perfusion with Ejection Fraction\n",
            "of 71%. By discharge, oxygen saturations were 98% on 3L, and he\n",
            "was discharged home on 2L oxygen via nasal cannula.\n",
            ".\n",
            "#. Acute Renal Failure:\n",
            "On admission, the patient had a creatinine level of 3.4. This\n",
            "appeared to be related to a prerenal state, as supported by his\n",
            "history of very poor PO intake x 10 days and FENa<1%. The\n",
            "possibility of ATN from NSAIDs was also considered given his\n",
            "recent history of taking Motrin for pain, and renal followed the\n",
            "patient until Cr had improved. Renal ultrasound showed no\n",
            "hydronephrosis. Creatinine slowly improved with IVF and time,\n",
            "and had decreased to 1.2 by [**1-16**] (most recent baseline\n",
            "measurement was 1.1 in [**2140**]). When the patient's home diuretics\n",
            "were subsequently restarted for hyponatremia and fluid overload,\n",
            "Cr rose again to 1.6. By discharge, the patient's creatinine was\n",
            "1.4.\n",
            ".\n",
            "#. Staph Bacteremia:\n",
            "Blood cultures on admission grew MSSA (4/4 bottles from [**1-7**]).\n",
            "Renally-dosed vancomycin was started on [**1-8**], then switched to\n",
            "oxacillin on [**1-10**] when sensitivities returned. 2/2 blood\n",
            "cultures from [**1-10**] also grew staph aureus. Surveillance cultures\n",
            "since then have been negative. TEE done [**1-15**] not show any\n",
            "valvular abnormalities. A PICC line was placed on [**1-12**] and the\n",
            "patient completed a 14-day course of IV antibiotics on [**2143-1-22**]\n",
            "and the PICC was removed prior to discharge.\n",
            ".\n",
            "#. Hyponatremia:\n",
            "While in the ICU, the patient had one set of serum chemistries\n",
            "with serum sodium of 122. Remainder of values were in 130s until\n",
            "fluids were started on [**1-14**] in preparation for CTA with dye\n",
            "load. Next measured Na was 127 on [**1-16**]. He was fluid restricted\n",
            "to 1500cc/day and encouraged to improve his food intake, which\n",
            "had been poor throughout his admission. Given that he also had\n",
            "evidence of total body fluid overload (peripheral and abdominal\n",
            "edema), he was restarted on his home diuretic regimen of Lasix\n",
            "20mg and spironolactone 25mg. By [**1-22**], Na had risen to 131.\n",
            ".\n",
            "#. UTI:\n",
            "Urine labs from [**1-9**] showed UTI, for which the patient was\n",
            "treated with a 7 day course of Levofloxacin that finished on\n",
            "[**1-16**]. Urine Cx was negative, but was sent after the patient had\n",
            "started Levofloxacin and Vancomycin. Fever curve remained flat.\n",
            ".\n",
            "#. Anxiety: The patient consistently reported having a \"nervous\n",
            "stomach\" that felt like it had \"knots in it.\" He has had these\n",
            "sensations for many years, and reported that it made eating\n",
            "difficult because it caused him to feel nauseus. This was\n",
            "thought to be a manifestation of anxiety, and the patient was\n",
            "tried on 0.5mg of Ativan. This was subsequently discontinued\n",
            "when he was found to be excessively somnolent. The patient\n",
            "agreed to start Remeron for help with anxiety and appetite\n",
            "stimulation. He tolerated it well and was discharged on 15mg\n",
            "Remeron QHS.\n",
            ".\n",
            "#. DM: The patient recived QID finger sticks and was treated\n",
            "with bedtime glargine and ISS. Blood glucose measurments\n",
            "fluxuated with his PO intake and adjustments were made as\n",
            "appropriate.\n",
            ".\n",
            "#. Hypertension/ CAD: The patient was treated with ASA 325mg and\n",
            "Metoprolol 12.5mg TID. As the patient had no apparent indication\n",
            "for digoxin, this was held during his hospitalization. He was\n",
            "discharged on atenolol 12.5mg daily and ASA 325mg daily. Stress\n",
            "test revealed no hypoperfusion at rest or with persantine\n",
            "stimulation.\n",
            ".\n",
            "#. Nutrition:\n",
            "Albumin was 2.6 on admission, 2.4 on [**1-16**]. The patient reported a\n",
            "10 day history of anorexia on admission and continued to have\n",
            "poor PO intake throughout most of his hospitalization. He cited\n",
            "lack of appetite and nausea caused by his \"nervous stomach\" as\n",
            "reasons for his poor intake. The patient was maintained on a\n",
            "renal diet with liquid supplements (Boost) TID. He had poor\n",
            "compliance until 2 days prior to discharge, when he reported an\n",
            "increase in appetite and improved PO intake was recorded.\n",
            ".\n",
            "#. Hemochromatosis/cirrhosis: Remained stable during this\n",
            "hospitalization.\n",
            ".\n",
            "#. Hypothyroidism: Remained stable. He was treated with his home\n",
            "dose of Levothyroxine 100 mcg daily during this admission.\n",
            ".\n",
            "# Physical Therapy: The patient was evaluated and followed by\n",
            "PT, who felt he was safe to return to his daugter's home.\n",
            ".\n",
            "# Prophylaxis:\n",
            "The patient was treated with incentive spirometry, H2 blocker,\n",
            "and SC heparin (which was discontinued when he began ambulating)\n",
            ".\n",
            "#. Abnormal tests requiring outpatient follow-up:\n",
            "Seen on CTA [**2143-1-16**]:\n",
            "1. 3mm pulmonary nodule in the right middle lobe.\n",
            "2. hypodense oval lesion approx 8mm at the liver dome.\n",
            "Recommend follow-up CT in 1 year.\n",
            "\n",
            "\n",
            "Medications on Admission:\n",
            "Meds on admission:\n",
            "* Spironolactone 25mg daily\n",
            "* Lasix 20mg daily\n",
            "* Digoxin 0.125mg daily\n",
            "* Synthroid 0.1mg daily\n",
            "* Folic Acid 1mg daily\n",
            "* Diltiazem 30mg daily\n",
            "* insulin\n",
            "\n",
            "Discharge Medications:\n",
            "* Spironolactone 25mg daily\n",
            "* Furosemide 20mg daily\n",
            "* Synthroid 0.1mg daily\n",
            "* Folic Acid 1mg daily\n",
            "* Diltiazem 30mg daily\n",
            "* Mirtazapine 15mg at bedtime\n",
            "* Aspirin 81mg daily\n",
            "* Combivent 103-18 mcg/Actuation Aerosol 1 puff QID\n",
            "* Oxygen 2-3L via nasal cannula to keep O2 sat>94%\n",
            "* insulin\n",
            "\n",
            "Discharge Disposition:\n",
            "Home With Service\n",
            "\n",
            "Facility:\n",
            "[**Hospital 2255**] [**Name (NI) 2256**]\n",
            "\n",
            "Discharge Diagnosis:\n",
            "1. Staph aureus bacteremia\n",
            "2. Pulmonary hypertension\n",
            "3. Acute renal failure\n",
            "4. Lactic acidosis\n",
            "5. Dibetes mellitus\n",
            "6. hemochromatosis/cirrhosis\n",
            "\n",
            "\n",
            "Discharge Condition:\n",
            "Stable. Requiring supplemental oxygen at 2L via nasal cannula.\n",
            "\n",
            "\n",
            "Discharge Instructions:\n",
            "1. Call your doctor or go to the ER for:\n",
            " - fever > 101\n",
            " - chest pain, shortness of breath, weakness\n",
            " - other concerns\n",
            "2. Please use wear your oxygen at all times. Avoid smoking or\n",
            "open flames as oxygen is flammable.\n",
            "3. Please take all of your medications as prescribed\n",
            "5. Take the Ensure supplement drinks three times a day; these\n",
            "can be purchased at most pharmacies.\n",
            "\n",
            "\n",
            "Followup Instructions:\n",
            "1. DR. [**Last Name (STitle) **] [**2143-1-24**] at 9:15 AM [**Telephone/Fax (1) 1983**]\n",
            "(Please call before appointment to update your registration\n",
            "information)\n",
            "2. SLEEP STUDY-Office will call you to schedule appointment. You\n",
            "can contact them at [**Telephone/Fax (1) 16716**]\n",
            "3. PULMONARY FUNCTION TESTS: [**2143-2-14**] 11:30AM\n",
            "(Please go to the [**Hospital Ward Name 23**] building [**Location (un) **] & check-in at Rehab\n",
            "Services)\n",
            "4. DR. [**First Name4 (NamePattern1) **] [**Last Name (NamePattern1) **] (PULMONARY) [**2143-2-14**] 1:10PM [**Telephone/Fax (1) 612**]\n",
            "\n",
            "\n",
            "                             [**Name6 (MD) **] [**Name8 (MD) **] MD [**MD Number(2) 2158**]\n",
            "\n",
            "\n"
          ],
          "name": "stdout"
        }
      ]
    },
    {
      "cell_type": "code",
      "metadata": {
        "id": "XQ9wxKM1X3fa",
        "colab_type": "code",
        "colab": {}
      },
      "source": [
        "#Extract Hospital Course section of notes\n",
        "\n",
        "df_icd_notes\n",
        "lst = []\n",
        "for i in df_icd_notes['TEXT']:\n",
        "  i = str(i).lower()\n",
        "  start = i.find('hospital course') \n",
        "  lst.append(i[start:])\n",
        "\n",
        "df_icd_notes['Hosp_course'] = lst\n"
      ],
      "execution_count": 0,
      "outputs": []
    },
    {
      "cell_type": "code",
      "metadata": {
        "id": "ATSWwtLGXvl_",
        "colab_type": "code",
        "colab": {}
      },
      "source": [
        "#Extract Medical History section of notes\n",
        "\n",
        "df_icd_notes\n",
        "lst = []\n",
        "for i in df_icd_notes['TEXT']:\n",
        "  i = str(i).lower()\n",
        "  start = i.find('medical history') \n",
        "  lst.append(i[start:])\n",
        "\n",
        "df_icd_notes['med_hist'] = lst"
      ],
      "execution_count": 0,
      "outputs": []
    },
    {
      "cell_type": "code",
      "metadata": {
        "id": "9BHsClkxZVz8",
        "colab_type": "code",
        "colab": {}
      },
      "source": [
        "#Extract History of Present Illness section of notes\n",
        "\n",
        "df_icd_notes\n",
        "lst = []\n",
        "for i in df_icd_notes['TEXT']:\n",
        "  i = str(i).lower()\n",
        "  start = i.find('history of present illness') \n",
        "  lst.append(i[start:])\n",
        "\n",
        "df_icd_notes['hist_pres_illness'] = lst"
      ],
      "execution_count": 0,
      "outputs": []
    },
    {
      "cell_type": "code",
      "metadata": {
        "id": "ul3zcrQ1qGHD",
        "colab_type": "code",
        "colab": {
          "base_uri": "https://localhost:8080/",
          "height": 295
        },
        "outputId": "1d9cb356-dc54-4957-c27a-be833be39573"
      },
      "source": [
        "df_icd_notes.head(3)"
      ],
      "execution_count": 17,
      "outputs": [
        {
          "output_type": "execute_result",
          "data": {
            "text/html": [
              "<div>\n",
              "<style scoped>\n",
              "    .dataframe tbody tr th:only-of-type {\n",
              "        vertical-align: middle;\n",
              "    }\n",
              "\n",
              "    .dataframe tbody tr th {\n",
              "        vertical-align: top;\n",
              "    }\n",
              "\n",
              "    .dataframe thead th {\n",
              "        text-align: right;\n",
              "    }\n",
              "</style>\n",
              "<table border=\"1\" class=\"dataframe\">\n",
              "  <thead>\n",
              "    <tr style=\"text-align: right;\">\n",
              "      <th></th>\n",
              "      <th>SUBJECT_ID</th>\n",
              "      <th>HADM_ID</th>\n",
              "      <th>SEQ_NUM</th>\n",
              "      <th>ICD9_CODE</th>\n",
              "      <th>TEXT</th>\n",
              "      <th>Hosp_course</th>\n",
              "      <th>med_hist</th>\n",
              "      <th>hist_pres_illness</th>\n",
              "    </tr>\n",
              "  </thead>\n",
              "  <tbody>\n",
              "    <tr>\n",
              "      <th>31</th>\n",
              "      <td>112</td>\n",
              "      <td>174105</td>\n",
              "      <td>4.0</td>\n",
              "      <td>41401</td>\n",
              "      <td>Admission Date: [**2194-6-13**]        Dischar...</td>\n",
              "      <td>hospital course as follows:  gi: the\\npatient ...</td>\n",
              "      <td>medical history:  significant for upper gastro...</td>\n",
              "      <td>history of present illness:  the patient is a ...</td>\n",
              "    </tr>\n",
              "    <tr>\n",
              "      <th>35</th>\n",
              "      <td>113</td>\n",
              "      <td>109976</td>\n",
              "      <td>3.0</td>\n",
              "      <td>53081</td>\n",
              "      <td>Admission Date: [**2140-12-12**]        Discha...</td>\n",
              "      <td>hospital course:  the patient was admitted to ...</td>\n",
              "      <td>medical history:  no other medical history.\\n\\...</td>\n",
              "      <td>history of present illness:  the patient is a ...</td>\n",
              "    </tr>\n",
              "    <tr>\n",
              "      <th>36</th>\n",
              "      <td>114</td>\n",
              "      <td>178393</td>\n",
              "      <td>1.0</td>\n",
              "      <td>41401</td>\n",
              "      <td>Admission Date:  [**2146-8-29**]       Dischar...</td>\n",
              "      <td>hospital course:  the patient was admitted to ...</td>\n",
              "      <td>medical history:  significant for hypercholest...</td>\n",
              "      <td>history of present illness:  this is a 48-year...</td>\n",
              "    </tr>\n",
              "  </tbody>\n",
              "</table>\n",
              "</div>"
            ],
            "text/plain": [
              "    SUBJECT_ID  ...                                  hist_pres_illness\n",
              "31         112  ...  history of present illness:  the patient is a ...\n",
              "35         113  ...  history of present illness:  the patient is a ...\n",
              "36         114  ...  history of present illness:  this is a 48-year...\n",
              "\n",
              "[3 rows x 8 columns]"
            ]
          },
          "metadata": {
            "tags": []
          },
          "execution_count": 17
        }
      ]
    },
    {
      "cell_type": "code",
      "metadata": {
        "id": "L3Jp0sFogar2",
        "colab_type": "code",
        "colab": {
          "base_uri": "https://localhost:8080/",
          "height": 34
        },
        "outputId": "a2893648-15f5-4680-9596-9f16c78d246f"
      },
      "source": [
        "#BERT MODEL CODE SOURCE: https://colab.research.google.com/drive/1pTuQhug6Dhl9XalKB0zUGf4FIdYFlpcX\n",
        "\n",
        "import tensorflow as tf\n",
        "\n",
        "# Get the GPU device name.\n",
        "device_name = tf.test.gpu_device_name()\n",
        "\n",
        "# The device name should look like the following:\n",
        "if device_name == '/device:GPU:0':\n",
        "    print('Found GPU at: {}'.format(device_name))\n",
        "else:\n",
        "    raise SystemError('GPU device not found')"
      ],
      "execution_count": 13,
      "outputs": [
        {
          "output_type": "stream",
          "text": [
            "Found GPU at: /device:GPU:0\n"
          ],
          "name": "stdout"
        }
      ]
    },
    {
      "cell_type": "code",
      "metadata": {
        "id": "cmJd0TeNQTvp",
        "colab_type": "code",
        "colab": {
          "base_uri": "https://localhost:8080/",
          "height": 51
        },
        "outputId": "072fb2a4-eed1-4022-ece8-191ec01159de"
      },
      "source": [
        "import torch\n",
        "\n",
        "# If there's a GPU available...\n",
        "if torch.cuda.is_available():    \n",
        "\n",
        "    # Tell PyTorch to use the GPU.    \n",
        "    device = torch.device(\"cuda\")\n",
        "\n",
        "    print('There are %d GPU(s) available.' % torch.cuda.device_count())\n",
        "\n",
        "    print('We will use the GPU:', torch.cuda.get_device_name(0))\n",
        "\n",
        "# If not...\n",
        "else:\n",
        "    print('No GPU available, using the CPU instead.')\n",
        "    device = torch.device(\"cpu\")"
      ],
      "execution_count": 20,
      "outputs": [
        {
          "output_type": "stream",
          "text": [
            "There are 1 GPU(s) available.\n",
            "We will use the GPU: Tesla P4\n"
          ],
          "name": "stdout"
        }
      ]
    },
    {
      "cell_type": "code",
      "metadata": {
        "id": "I3rOKtVwUvC6",
        "colab_type": "code",
        "colab": {
          "base_uri": "https://localhost:8080/",
          "height": 683
        },
        "outputId": "9e2e4cb1-50a7-48c0-f600-ef6cf18e8dc2"
      },
      "source": [
        "#using Hugging Face library\n",
        "\n",
        "!pip install transformers"
      ],
      "execution_count": 32,
      "outputs": [
        {
          "output_type": "stream",
          "text": [
            "Collecting transformers\n",
            "\u001b[?25l  Downloading https://files.pythonhosted.org/packages/a3/78/92cedda05552398352ed9784908b834ee32a0bd071a9b32de287327370b7/transformers-2.8.0-py3-none-any.whl (563kB)\n",
            "\u001b[K     |████████████████████████████████| 573kB 8.2MB/s \n",
            "\u001b[?25hRequirement already satisfied: tqdm>=4.27 in /usr/local/lib/python3.6/dist-packages (from transformers) (4.38.0)\n",
            "Collecting sentencepiece\n",
            "\u001b[?25l  Downloading https://files.pythonhosted.org/packages/74/f4/2d5214cbf13d06e7cb2c20d84115ca25b53ea76fa1f0ade0e3c9749de214/sentencepiece-0.1.85-cp36-cp36m-manylinux1_x86_64.whl (1.0MB)\n",
            "\u001b[K     |████████████████████████████████| 1.0MB 20.0MB/s \n",
            "\u001b[?25hRequirement already satisfied: boto3 in /usr/local/lib/python3.6/dist-packages (from transformers) (1.12.40)\n",
            "Collecting sacremoses\n",
            "\u001b[?25l  Downloading https://files.pythonhosted.org/packages/99/50/93509f906a40bffd7d175f97fd75ea328ad9bd91f48f59c4bd084c94a25e/sacremoses-0.0.41.tar.gz (883kB)\n",
            "\u001b[K     |████████████████████████████████| 890kB 16.7MB/s \n",
            "\u001b[?25hRequirement already satisfied: dataclasses; python_version < \"3.7\" in /usr/local/lib/python3.6/dist-packages (from transformers) (0.7)\n",
            "Requirement already satisfied: filelock in /usr/local/lib/python3.6/dist-packages (from transformers) (3.0.12)\n",
            "Requirement already satisfied: regex!=2019.12.17 in /usr/local/lib/python3.6/dist-packages (from transformers) (2019.12.20)\n",
            "Collecting tokenizers==0.5.2\n",
            "\u001b[?25l  Downloading https://files.pythonhosted.org/packages/d1/3f/73c881ea4723e43c1e9acf317cf407fab3a278daab3a69c98dcac511c04f/tokenizers-0.5.2-cp36-cp36m-manylinux1_x86_64.whl (3.7MB)\n",
            "\u001b[K     |████████████████████████████████| 3.7MB 53.0MB/s \n",
            "\u001b[?25hRequirement already satisfied: requests in /usr/local/lib/python3.6/dist-packages (from transformers) (2.21.0)\n",
            "Requirement already satisfied: numpy in /usr/local/lib/python3.6/dist-packages (from transformers) (1.18.2)\n",
            "Requirement already satisfied: s3transfer<0.4.0,>=0.3.0 in /usr/local/lib/python3.6/dist-packages (from boto3->transformers) (0.3.3)\n",
            "Requirement already satisfied: jmespath<1.0.0,>=0.7.1 in /usr/local/lib/python3.6/dist-packages (from boto3->transformers) (0.9.5)\n",
            "Requirement already satisfied: botocore<1.16.0,>=1.15.40 in /usr/local/lib/python3.6/dist-packages (from boto3->transformers) (1.15.40)\n",
            "Requirement already satisfied: six in /usr/local/lib/python3.6/dist-packages (from sacremoses->transformers) (1.12.0)\n",
            "Requirement already satisfied: click in /usr/local/lib/python3.6/dist-packages (from sacremoses->transformers) (7.1.1)\n",
            "Requirement already satisfied: joblib in /usr/local/lib/python3.6/dist-packages (from sacremoses->transformers) (0.14.1)\n",
            "Requirement already satisfied: idna<2.9,>=2.5 in /usr/local/lib/python3.6/dist-packages (from requests->transformers) (2.8)\n",
            "Requirement already satisfied: chardet<3.1.0,>=3.0.2 in /usr/local/lib/python3.6/dist-packages (from requests->transformers) (3.0.4)\n",
            "Requirement already satisfied: certifi>=2017.4.17 in /usr/local/lib/python3.6/dist-packages (from requests->transformers) (2020.4.5.1)\n",
            "Requirement already satisfied: urllib3<1.25,>=1.21.1 in /usr/local/lib/python3.6/dist-packages (from requests->transformers) (1.24.3)\n",
            "Requirement already satisfied: python-dateutil<3.0.0,>=2.1 in /usr/local/lib/python3.6/dist-packages (from botocore<1.16.0,>=1.15.40->boto3->transformers) (2.8.1)\n",
            "Requirement already satisfied: docutils<0.16,>=0.10 in /usr/local/lib/python3.6/dist-packages (from botocore<1.16.0,>=1.15.40->boto3->transformers) (0.15.2)\n",
            "Building wheels for collected packages: sacremoses\n",
            "  Building wheel for sacremoses (setup.py) ... \u001b[?25l\u001b[?25hdone\n",
            "  Created wheel for sacremoses: filename=sacremoses-0.0.41-cp36-none-any.whl size=893334 sha256=e4ea0b89e5c323627e7eb007b6c5faeaa312957e0ee6f0293a99c7a1c24e9f49\n",
            "  Stored in directory: /root/.cache/pip/wheels/22/5a/d4/b020a81249de7dc63758a34222feaa668dbe8ebfe9170cc9b1\n",
            "Successfully built sacremoses\n",
            "Installing collected packages: sentencepiece, sacremoses, tokenizers, transformers\n",
            "Successfully installed sacremoses-0.0.41 sentencepiece-0.1.85 tokenizers-0.5.2 transformers-2.8.0\n"
          ],
          "name": "stdout"
        }
      ]
    },
    {
      "cell_type": "code",
      "metadata": {
        "id": "5iWfoEQaDsOq",
        "colab_type": "code",
        "colab": {
          "base_uri": "https://localhost:8080/",
          "height": 394
        },
        "outputId": "910e217b-961a-4e5c-ab8d-71abb1ce4f61"
      },
      "source": [
        "!pip install pytorch-pretrained-bert"
      ],
      "execution_count": 33,
      "outputs": [
        {
          "output_type": "stream",
          "text": [
            "Collecting pytorch-pretrained-bert\n",
            "\u001b[?25l  Downloading https://files.pythonhosted.org/packages/d7/e0/c08d5553b89973d9a240605b9c12404bcf8227590de62bae27acbcfe076b/pytorch_pretrained_bert-0.6.2-py3-none-any.whl (123kB)\n",
            "\r\u001b[K     |██▋                             | 10kB 23.6MB/s eta 0:00:01\r\u001b[K     |█████▎                          | 20kB 6.5MB/s eta 0:00:01\r\u001b[K     |████████                        | 30kB 7.7MB/s eta 0:00:01\r\u001b[K     |██████████▋                     | 40kB 8.4MB/s eta 0:00:01\r\u001b[K     |█████████████▎                  | 51kB 7.0MB/s eta 0:00:01\r\u001b[K     |███████████████▉                | 61kB 7.5MB/s eta 0:00:01\r\u001b[K     |██████████████████▌             | 71kB 7.9MB/s eta 0:00:01\r\u001b[K     |█████████████████████▏          | 81kB 8.6MB/s eta 0:00:01\r\u001b[K     |███████████████████████▉        | 92kB 7.9MB/s eta 0:00:01\r\u001b[K     |██████████████████████████▌     | 102kB 8.1MB/s eta 0:00:01\r\u001b[K     |█████████████████████████████▏  | 112kB 8.1MB/s eta 0:00:01\r\u001b[K     |███████████████████████████████▊| 122kB 8.1MB/s eta 0:00:01\r\u001b[K     |████████████████████████████████| 133kB 8.1MB/s \n",
            "\u001b[?25hRequirement already satisfied: regex in /usr/local/lib/python3.6/dist-packages (from pytorch-pretrained-bert) (2019.12.20)\n",
            "Requirement already satisfied: boto3 in /usr/local/lib/python3.6/dist-packages (from pytorch-pretrained-bert) (1.12.40)\n",
            "Requirement already satisfied: numpy in /usr/local/lib/python3.6/dist-packages (from pytorch-pretrained-bert) (1.18.2)\n",
            "Requirement already satisfied: tqdm in /usr/local/lib/python3.6/dist-packages (from pytorch-pretrained-bert) (4.38.0)\n",
            "Requirement already satisfied: torch>=0.4.1 in /usr/local/lib/python3.6/dist-packages (from pytorch-pretrained-bert) (1.4.0)\n",
            "Requirement already satisfied: requests in /usr/local/lib/python3.6/dist-packages (from pytorch-pretrained-bert) (2.21.0)\n",
            "Requirement already satisfied: s3transfer<0.4.0,>=0.3.0 in /usr/local/lib/python3.6/dist-packages (from boto3->pytorch-pretrained-bert) (0.3.3)\n",
            "Requirement already satisfied: botocore<1.16.0,>=1.15.40 in /usr/local/lib/python3.6/dist-packages (from boto3->pytorch-pretrained-bert) (1.15.40)\n",
            "Requirement already satisfied: jmespath<1.0.0,>=0.7.1 in /usr/local/lib/python3.6/dist-packages (from boto3->pytorch-pretrained-bert) (0.9.5)\n",
            "Requirement already satisfied: chardet<3.1.0,>=3.0.2 in /usr/local/lib/python3.6/dist-packages (from requests->pytorch-pretrained-bert) (3.0.4)\n",
            "Requirement already satisfied: urllib3<1.25,>=1.21.1 in /usr/local/lib/python3.6/dist-packages (from requests->pytorch-pretrained-bert) (1.24.3)\n",
            "Requirement already satisfied: certifi>=2017.4.17 in /usr/local/lib/python3.6/dist-packages (from requests->pytorch-pretrained-bert) (2020.4.5.1)\n",
            "Requirement already satisfied: idna<2.9,>=2.5 in /usr/local/lib/python3.6/dist-packages (from requests->pytorch-pretrained-bert) (2.8)\n",
            "Requirement already satisfied: docutils<0.16,>=0.10 in /usr/local/lib/python3.6/dist-packages (from botocore<1.16.0,>=1.15.40->boto3->pytorch-pretrained-bert) (0.15.2)\n",
            "Requirement already satisfied: python-dateutil<3.0.0,>=2.1 in /usr/local/lib/python3.6/dist-packages (from botocore<1.16.0,>=1.15.40->boto3->pytorch-pretrained-bert) (2.8.1)\n",
            "Requirement already satisfied: six>=1.5 in /usr/local/lib/python3.6/dist-packages (from python-dateutil<3.0.0,>=2.1->botocore<1.16.0,>=1.15.40->boto3->pytorch-pretrained-bert) (1.12.0)\n",
            "Installing collected packages: pytorch-pretrained-bert\n",
            "Successfully installed pytorch-pretrained-bert-0.6.2\n"
          ],
          "name": "stdout"
        }
      ]
    },
    {
      "cell_type": "code",
      "metadata": {
        "id": "owrv_lBUa75W",
        "colab_type": "code",
        "colab": {
          "base_uri": "https://localhost:8080/",
          "height": 1000
        },
        "outputId": "ec6a1e57-6bc3-42a3-fb25-b4e2d1151f33"
      },
      "source": [
        "!pip install biobert-embedding"
      ],
      "execution_count": 35,
      "outputs": [
        {
          "output_type": "stream",
          "text": [
            "Collecting biobert-embedding\n",
            "  Downloading https://files.pythonhosted.org/packages/d2/f0/f5bd3fd4a0bcef4d85e5e82347ae73d376d68dc8086afde75838ba0473a2/biobert-embedding-0.1.2.tar.gz\n",
            "Collecting torch==1.2.0\n",
            "\u001b[?25l  Downloading https://files.pythonhosted.org/packages/30/57/d5cceb0799c06733eefce80c395459f28970ebb9e896846ce96ab579a3f1/torch-1.2.0-cp36-cp36m-manylinux1_x86_64.whl (748.8MB)\n",
            "\u001b[K     |████████████████████████████████| 748.9MB 22kB/s \n",
            "\u001b[?25hRequirement already satisfied: pytorch-pretrained-bert==0.6.2 in /usr/local/lib/python3.6/dist-packages (from biobert-embedding) (0.6.2)\n",
            "Requirement already satisfied: tensorflow in /usr/local/lib/python3.6/dist-packages (from biobert-embedding) (2.2.0rc3)\n",
            "Requirement already satisfied: numpy in /usr/local/lib/python3.6/dist-packages (from torch==1.2.0->biobert-embedding) (1.18.2)\n",
            "Requirement already satisfied: tqdm in /usr/local/lib/python3.6/dist-packages (from pytorch-pretrained-bert==0.6.2->biobert-embedding) (4.38.0)\n",
            "Requirement already satisfied: requests in /usr/local/lib/python3.6/dist-packages (from pytorch-pretrained-bert==0.6.2->biobert-embedding) (2.21.0)\n",
            "Requirement already satisfied: boto3 in /usr/local/lib/python3.6/dist-packages (from pytorch-pretrained-bert==0.6.2->biobert-embedding) (1.12.40)\n",
            "Requirement already satisfied: regex in /usr/local/lib/python3.6/dist-packages (from pytorch-pretrained-bert==0.6.2->biobert-embedding) (2019.12.20)\n",
            "Requirement already satisfied: protobuf>=3.8.0 in /usr/local/lib/python3.6/dist-packages (from tensorflow->biobert-embedding) (3.10.0)\n",
            "Requirement already satisfied: wheel>=0.26; python_version >= \"3\" in /usr/local/lib/python3.6/dist-packages (from tensorflow->biobert-embedding) (0.34.2)\n",
            "Requirement already satisfied: gast==0.3.3 in /usr/local/lib/python3.6/dist-packages (from tensorflow->biobert-embedding) (0.3.3)\n",
            "Requirement already satisfied: opt-einsum>=2.3.2 in /usr/local/lib/python3.6/dist-packages (from tensorflow->biobert-embedding) (3.2.1)\n",
            "Requirement already satisfied: scipy==1.4.1; python_version >= \"3\" in /usr/local/lib/python3.6/dist-packages (from tensorflow->biobert-embedding) (1.4.1)\n",
            "Requirement already satisfied: grpcio>=1.8.6 in /usr/local/lib/python3.6/dist-packages (from tensorflow->biobert-embedding) (1.28.1)\n",
            "Requirement already satisfied: tensorboard<2.3.0,>=2.2.0 in /usr/local/lib/python3.6/dist-packages (from tensorflow->biobert-embedding) (2.2.1)\n",
            "Requirement already satisfied: six>=1.12.0 in /usr/local/lib/python3.6/dist-packages (from tensorflow->biobert-embedding) (1.12.0)\n",
            "Requirement already satisfied: termcolor>=1.1.0 in /usr/local/lib/python3.6/dist-packages (from tensorflow->biobert-embedding) (1.1.0)\n",
            "Requirement already satisfied: absl-py>=0.7.0 in /usr/local/lib/python3.6/dist-packages (from tensorflow->biobert-embedding) (0.9.0)\n",
            "Requirement already satisfied: h5py<2.11.0,>=2.10.0 in /usr/local/lib/python3.6/dist-packages (from tensorflow->biobert-embedding) (2.10.0)\n",
            "Requirement already satisfied: tensorflow-estimator<2.3.0,>=2.2.0rc0 in /usr/local/lib/python3.6/dist-packages (from tensorflow->biobert-embedding) (2.2.0)\n",
            "Requirement already satisfied: google-pasta>=0.1.8 in /usr/local/lib/python3.6/dist-packages (from tensorflow->biobert-embedding) (0.2.0)\n",
            "Requirement already satisfied: astunparse==1.6.3 in /usr/local/lib/python3.6/dist-packages (from tensorflow->biobert-embedding) (1.6.3)\n",
            "Requirement already satisfied: keras-preprocessing>=1.1.0 in /usr/local/lib/python3.6/dist-packages (from tensorflow->biobert-embedding) (1.1.0)\n",
            "Requirement already satisfied: wrapt>=1.11.1 in /usr/local/lib/python3.6/dist-packages (from tensorflow->biobert-embedding) (1.12.1)\n",
            "Requirement already satisfied: certifi>=2017.4.17 in /usr/local/lib/python3.6/dist-packages (from requests->pytorch-pretrained-bert==0.6.2->biobert-embedding) (2020.4.5.1)\n",
            "Requirement already satisfied: idna<2.9,>=2.5 in /usr/local/lib/python3.6/dist-packages (from requests->pytorch-pretrained-bert==0.6.2->biobert-embedding) (2.8)\n",
            "Requirement already satisfied: chardet<3.1.0,>=3.0.2 in /usr/local/lib/python3.6/dist-packages (from requests->pytorch-pretrained-bert==0.6.2->biobert-embedding) (3.0.4)\n",
            "Requirement already satisfied: urllib3<1.25,>=1.21.1 in /usr/local/lib/python3.6/dist-packages (from requests->pytorch-pretrained-bert==0.6.2->biobert-embedding) (1.24.3)\n",
            "Requirement already satisfied: s3transfer<0.4.0,>=0.3.0 in /usr/local/lib/python3.6/dist-packages (from boto3->pytorch-pretrained-bert==0.6.2->biobert-embedding) (0.3.3)\n",
            "Requirement already satisfied: botocore<1.16.0,>=1.15.40 in /usr/local/lib/python3.6/dist-packages (from boto3->pytorch-pretrained-bert==0.6.2->biobert-embedding) (1.15.40)\n",
            "Requirement already satisfied: jmespath<1.0.0,>=0.7.1 in /usr/local/lib/python3.6/dist-packages (from boto3->pytorch-pretrained-bert==0.6.2->biobert-embedding) (0.9.5)\n",
            "Requirement already satisfied: setuptools in /usr/local/lib/python3.6/dist-packages (from protobuf>=3.8.0->tensorflow->biobert-embedding) (46.1.3)\n",
            "Requirement already satisfied: markdown>=2.6.8 in /usr/local/lib/python3.6/dist-packages (from tensorboard<2.3.0,>=2.2.0->tensorflow->biobert-embedding) (3.2.1)\n",
            "Requirement already satisfied: google-auth<2,>=1.6.3 in /usr/local/lib/python3.6/dist-packages (from tensorboard<2.3.0,>=2.2.0->tensorflow->biobert-embedding) (1.7.2)\n",
            "Requirement already satisfied: tensorboard-plugin-wit>=1.6.0 in /usr/local/lib/python3.6/dist-packages (from tensorboard<2.3.0,>=2.2.0->tensorflow->biobert-embedding) (1.6.0.post3)\n",
            "Requirement already satisfied: werkzeug>=0.11.15 in /usr/local/lib/python3.6/dist-packages (from tensorboard<2.3.0,>=2.2.0->tensorflow->biobert-embedding) (1.0.1)\n",
            "Requirement already satisfied: google-auth-oauthlib<0.5,>=0.4.1 in /usr/local/lib/python3.6/dist-packages (from tensorboard<2.3.0,>=2.2.0->tensorflow->biobert-embedding) (0.4.1)\n",
            "Requirement already satisfied: python-dateutil<3.0.0,>=2.1 in /usr/local/lib/python3.6/dist-packages (from botocore<1.16.0,>=1.15.40->boto3->pytorch-pretrained-bert==0.6.2->biobert-embedding) (2.8.1)\n",
            "Requirement already satisfied: docutils<0.16,>=0.10 in /usr/local/lib/python3.6/dist-packages (from botocore<1.16.0,>=1.15.40->boto3->pytorch-pretrained-bert==0.6.2->biobert-embedding) (0.15.2)\n",
            "Requirement already satisfied: rsa<4.1,>=3.1.4 in /usr/local/lib/python3.6/dist-packages (from google-auth<2,>=1.6.3->tensorboard<2.3.0,>=2.2.0->tensorflow->biobert-embedding) (4.0)\n",
            "Requirement already satisfied: cachetools<3.2,>=2.0.0 in /usr/local/lib/python3.6/dist-packages (from google-auth<2,>=1.6.3->tensorboard<2.3.0,>=2.2.0->tensorflow->biobert-embedding) (3.1.1)\n",
            "Requirement already satisfied: pyasn1-modules>=0.2.1 in /usr/local/lib/python3.6/dist-packages (from google-auth<2,>=1.6.3->tensorboard<2.3.0,>=2.2.0->tensorflow->biobert-embedding) (0.2.8)\n",
            "Requirement already satisfied: requests-oauthlib>=0.7.0 in /usr/local/lib/python3.6/dist-packages (from google-auth-oauthlib<0.5,>=0.4.1->tensorboard<2.3.0,>=2.2.0->tensorflow->biobert-embedding) (1.3.0)\n",
            "Requirement already satisfied: pyasn1>=0.1.3 in /usr/local/lib/python3.6/dist-packages (from rsa<4.1,>=3.1.4->google-auth<2,>=1.6.3->tensorboard<2.3.0,>=2.2.0->tensorflow->biobert-embedding) (0.4.8)\n",
            "Requirement already satisfied: oauthlib>=3.0.0 in /usr/local/lib/python3.6/dist-packages (from requests-oauthlib>=0.7.0->google-auth-oauthlib<0.5,>=0.4.1->tensorboard<2.3.0,>=2.2.0->tensorflow->biobert-embedding) (3.1.0)\n",
            "Building wheels for collected packages: biobert-embedding\n",
            "  Building wheel for biobert-embedding (setup.py) ... \u001b[?25l\u001b[?25hdone\n",
            "  Created wheel for biobert-embedding: filename=biobert_embedding-0.1.2-cp36-none-any.whl size=5702 sha256=c8a4a85e090bd593771642554031bf90ad462233e01354c794e0cfca3d735884\n",
            "  Stored in directory: /root/.cache/pip/wheels/ad/15/65/3fc6192a7cb7920672bb46d566173decb0875f35bbe03cd09d\n",
            "Successfully built biobert-embedding\n",
            "\u001b[31mERROR: torchvision 0.5.0 has requirement torch==1.4.0, but you'll have torch 1.2.0 which is incompatible.\u001b[0m\n",
            "Installing collected packages: torch, biobert-embedding\n",
            "  Found existing installation: torch 1.4.0\n",
            "    Uninstalling torch-1.4.0:\n",
            "      Successfully uninstalled torch-1.4.0\n",
            "Successfully installed biobert-embedding-0.1.2 torch-1.2.0\n"
          ],
          "name": "stdout"
        }
      ]
    },
    {
      "cell_type": "code",
      "metadata": {
        "id": "hJAlh98RnUPV",
        "colab_type": "code",
        "colab": {}
      },
      "source": [
        "from biobert_embedding.embedding import BiobertEmbedding\n",
        "\n",
        "\n",
        "biobert = BiobertEmbedding()\n",
        "\n",
        "for sent in df_icd_notes.Hosp_course.values:\n",
        "    sent = sent[:509]\n",
        "\n",
        "    biobert.word_vector(sent)\n",
        "    \n",
        "    input_ids = biobert.sentence_vector(sent)\n",
        "\n",
        "\n",
        "# Class Initialization (You can set default 'model_path=None' as your finetuned BERT model path while Initialization)\n",
        "\n",
        "\n",
        "# print(\"Text Tokens: \", biobert.tokens)\n",
        "\n",
        "# print ('Shape of Word Embeddings: %d x %d' % (len(word_embeddings), len(word_embeddings[0])))\n",
        "# # Shape of Word Embeddings: 16 x 768\n",
        "\n",
        "# print(\"Shape of Sentence Embedding = \",len(sentence_embedding))\n",
        "# # Shape of Sentence Embedding =  768"
      ],
      "execution_count": 0,
      "outputs": []
    },
    {
      "cell_type": "code",
      "metadata": {
        "id": "pl9V8HGBVHe-",
        "colab_type": "code",
        "colab": {}
      },
      "source": [
        "import torch\n",
        "from pytorch_pretrained_bert import BertTokenizer, BertModel, BertForMaskedLM\n",
        "\n",
        "import logging\n",
        "\n",
        "import matplotlib.pyplot as plt\n",
        "% matplotlib inline\n",
        "\n",
        "# Load pre-trained model tokenizer (vocabulary)\n",
        "tokenizer = BertTokenizer.from_pretrained('bert-base-uncased', do_lower_case=True)\n"
      ],
      "execution_count": 0,
      "outputs": []
    },
    {
      "cell_type": "code",
      "metadata": {
        "id": "NTgf1vIOIC8Q",
        "colab_type": "code",
        "colab": {
          "base_uri": "https://localhost:8080/",
          "height": 83,
          "referenced_widgets": [
            "702bcf2b0919490ba967f01f65ce03b6",
            "5ef9b81ee90d4ab98d12161fd4e795f0",
            "677738ea8605499aa240ecdca738b676",
            "25e4681b0f1e4758a961e6e34038e29d",
            "46a9349ab1a748edb6cdae0fd7871119",
            "635cfa4b8e1942bf975f104789287637",
            "6a8a8a1665554530a96fa15ff068b3cc",
            "9c39377a84cb412f85082a17df7fad24"
          ]
        },
        "outputId": "ac1fe53c-3b0a-483f-bcf7-f9fdeb5f501b"
      },
      "source": [
        "from transformers import BertTokenizer\n",
        "\n",
        "# Load the BERT tokenizer.\n",
        "print('Loading BERT tokenizer...')\n",
        "tokenizer = BertTokenizer.from_pretrained('bert-base-uncased', do_lower_case=True)"
      ],
      "execution_count": 31,
      "outputs": [
        {
          "output_type": "stream",
          "text": [
            "Loading BERT tokenizer...\n"
          ],
          "name": "stdout"
        },
        {
          "output_type": "display_data",
          "data": {
            "application/vnd.jupyter.widget-view+json": {
              "model_id": "702bcf2b0919490ba967f01f65ce03b6",
              "version_minor": 0,
              "version_major": 2
            },
            "text/plain": [
              "HBox(children=(IntProgress(value=0, description='Downloading', max=231508, style=ProgressStyle(description_wid…"
            ]
          },
          "metadata": {
            "tags": []
          }
        },
        {
          "output_type": "stream",
          "text": [
            "\n"
          ],
          "name": "stdout"
        }
      ]
    },
    {
      "cell_type": "code",
      "metadata": {
        "id": "VFKkd8IzXl4Z",
        "colab_type": "code",
        "colab": {
          "base_uri": "https://localhost:8080/",
          "height": 34
        },
        "outputId": "e2b592fa-be35-4060-b623-aaf3aa8436b3"
      },
      "source": [
        "max_len = 510\n",
        "\n",
        "# For every sentence...\n",
        "for sent in df_icd_notes.Hosp_course.values:\n",
        "    sent = sent[:509]\n",
        "\n",
        "    # Tokenize the text and add `[CLS]` and `[SEP]` tokens.\n",
        "    input_ids = tokenizer.encode(sent, add_special_tokens=True)\n",
        "\n",
        "\n",
        "print('Max sentence length: ', max_len)"
      ],
      "execution_count": 32,
      "outputs": [
        {
          "output_type": "stream",
          "text": [
            "Max sentence length:  510\n"
          ],
          "name": "stdout"
        }
      ]
    },
    {
      "cell_type": "code",
      "metadata": {
        "id": "qSXgiSYSV-Gq",
        "colab_type": "code",
        "colab": {}
      },
      "source": [
        "labels = df_icd_notes.ICD9_CODE.values\n",
        "labels = labels.astype(np.float)\n",
        "\n",
        "sentences_hosp = df_icd_notes.Hosp_course.values\n",
        "sentences_hosp = sentences.astype(np.string_)\n",
        "\n",
        "sentences_hist = df_icd_notes.hist_pres_illness.values\n",
        "sentences_hist = sentences.astype(np.string_)\n"
      ],
      "execution_count": 0,
      "outputs": []
    },
    {
      "cell_type": "code",
      "metadata": {
        "id": "J4zu1dHEJjIi",
        "colab_type": "code",
        "colab": {
          "base_uri": "https://localhost:8080/",
          "height": 395
        },
        "outputId": "f93a720f-1956-4934-9290-a2982fe5857e"
      },
      "source": [
        "# Tokenize all of the sentences and map the tokens to their word IDs.\n",
        "input_ids = []\n",
        "attention_masks = []\n",
        "\n",
        "# For every sentence...\n",
        "for sent in df_icd_notes.Hosp_course.values:\n",
        "    # `encode_plus` will:\n",
        "    #   (1) Tokenize the sentence.\n",
        "    #   (2) Prepend the `[CLS]` token to the start.\n",
        "    #   (3) Append the `[SEP]` token to the end.\n",
        "    #   (4) Map tokens to their IDs.\n",
        "    #   (5) Pad or truncate the sentence to `max_length`\n",
        "    #   (6) Create attention masks for [PAD] tokens.\n",
        "    encoded_dict = tokenizer.encode_plus(\n",
        "                        sent,                      # Sentence to encode.\n",
        "                        add_special_tokens = True, # Add '[CLS]' and '[SEP]'\n",
        "                        max_length = 510,           # Pad & truncate all sentences.\n",
        "                        pad_to_max_length = True,\n",
        "                        return_attention_mask = True,   # Construct attn. masks.\n",
        "                        return_tensors = 'pt',     # Return pytorch tensors.\n",
        "                   )\n",
        "    \n",
        "    # Add the encoded sentence to the list.    \n",
        "    input_ids.append(encoded_dict['input_ids'])\n",
        "    \n",
        "    # And its attention mask (simply differentiates padding from non-padding).\n",
        "    attention_masks.append(encoded_dict['attention_mask'])\n",
        "\n",
        "# Convert the lists into tensors.\n",
        "input_ids = torch.cat(input_ids, dim=0)\n",
        "attention_masks = torch.cat(attention_masks, dim=0)\n",
        "labels = torch.tensor(labels)\n",
        "\n",
        "# Print sentence 0, now as a list of IDs.\n",
        "print('Original: ', sentences[0])\n",
        "print('Token IDs:', input_ids[0])"
      ],
      "execution_count": 34,
      "outputs": [
        {
          "output_type": "error",
          "ename": "KeyboardInterrupt",
          "evalue": "ignored",
          "traceback": [
            "\u001b[0;31m---------------------------------------------------------------------------\u001b[0m",
            "\u001b[0;31mKeyboardInterrupt\u001b[0m                         Traceback (most recent call last)",
            "\u001b[0;32m<ipython-input-34-ffb94fd2ed9b>\u001b[0m in \u001b[0;36m<module>\u001b[0;34m()\u001b[0m\n\u001b[1;32m     17\u001b[0m                         \u001b[0mpad_to_max_length\u001b[0m \u001b[0;34m=\u001b[0m \u001b[0;32mTrue\u001b[0m\u001b[0;34m,\u001b[0m\u001b[0;34m\u001b[0m\u001b[0;34m\u001b[0m\u001b[0m\n\u001b[1;32m     18\u001b[0m                         \u001b[0mreturn_attention_mask\u001b[0m \u001b[0;34m=\u001b[0m \u001b[0;32mTrue\u001b[0m\u001b[0;34m,\u001b[0m   \u001b[0;31m# Construct attn. masks.\u001b[0m\u001b[0;34m\u001b[0m\u001b[0;34m\u001b[0m\u001b[0m\n\u001b[0;32m---> 19\u001b[0;31m                         \u001b[0mreturn_tensors\u001b[0m \u001b[0;34m=\u001b[0m \u001b[0;34m'pt'\u001b[0m\u001b[0;34m,\u001b[0m     \u001b[0;31m# Return pytorch tensors.\u001b[0m\u001b[0;34m\u001b[0m\u001b[0;34m\u001b[0m\u001b[0m\n\u001b[0m\u001b[1;32m     20\u001b[0m                    )\n\u001b[1;32m     21\u001b[0m \u001b[0;34m\u001b[0m\u001b[0m\n",
            "\u001b[0;32m/usr/local/lib/python3.6/dist-packages/transformers/tokenization_utils.py\u001b[0m in \u001b[0;36mencode_plus\u001b[0;34m(self, text, text_pair, add_special_tokens, max_length, stride, truncation_strategy, pad_to_max_length, return_tensors, return_token_type_ids, return_attention_mask, return_overflowing_tokens, return_special_tokens_mask, return_offsets_mapping, **kwargs)\u001b[0m\n\u001b[1;32m   1052\u001b[0m             )\n\u001b[1;32m   1053\u001b[0m \u001b[0;34m\u001b[0m\u001b[0m\n\u001b[0;32m-> 1054\u001b[0;31m         \u001b[0mfirst_ids\u001b[0m \u001b[0;34m=\u001b[0m \u001b[0mget_input_ids\u001b[0m\u001b[0;34m(\u001b[0m\u001b[0mtext\u001b[0m\u001b[0;34m)\u001b[0m\u001b[0;34m\u001b[0m\u001b[0;34m\u001b[0m\u001b[0m\n\u001b[0m\u001b[1;32m   1055\u001b[0m         \u001b[0msecond_ids\u001b[0m \u001b[0;34m=\u001b[0m \u001b[0mget_input_ids\u001b[0m\u001b[0;34m(\u001b[0m\u001b[0mtext_pair\u001b[0m\u001b[0;34m)\u001b[0m \u001b[0;32mif\u001b[0m \u001b[0mtext_pair\u001b[0m \u001b[0;32mis\u001b[0m \u001b[0;32mnot\u001b[0m \u001b[0;32mNone\u001b[0m \u001b[0;32melse\u001b[0m \u001b[0;32mNone\u001b[0m\u001b[0;34m\u001b[0m\u001b[0;34m\u001b[0m\u001b[0m\n\u001b[1;32m   1056\u001b[0m \u001b[0;34m\u001b[0m\u001b[0m\n",
            "\u001b[0;32m/usr/local/lib/python3.6/dist-packages/transformers/tokenization_utils.py\u001b[0m in \u001b[0;36mget_input_ids\u001b[0;34m(text)\u001b[0m\n\u001b[1;32m   1026\u001b[0m         \u001b[0;32mdef\u001b[0m \u001b[0mget_input_ids\u001b[0m\u001b[0;34m(\u001b[0m\u001b[0mtext\u001b[0m\u001b[0;34m)\u001b[0m\u001b[0;34m:\u001b[0m\u001b[0;34m\u001b[0m\u001b[0;34m\u001b[0m\u001b[0m\n\u001b[1;32m   1027\u001b[0m             \u001b[0;32mif\u001b[0m \u001b[0misinstance\u001b[0m\u001b[0;34m(\u001b[0m\u001b[0mtext\u001b[0m\u001b[0;34m,\u001b[0m \u001b[0mstr\u001b[0m\u001b[0;34m)\u001b[0m\u001b[0;34m:\u001b[0m\u001b[0;34m\u001b[0m\u001b[0;34m\u001b[0m\u001b[0m\n\u001b[0;32m-> 1028\u001b[0;31m                 \u001b[0mtokens\u001b[0m \u001b[0;34m=\u001b[0m \u001b[0mself\u001b[0m\u001b[0;34m.\u001b[0m\u001b[0mtokenize\u001b[0m\u001b[0;34m(\u001b[0m\u001b[0mtext\u001b[0m\u001b[0;34m,\u001b[0m \u001b[0madd_special_tokens\u001b[0m\u001b[0;34m=\u001b[0m\u001b[0madd_special_tokens\u001b[0m\u001b[0;34m,\u001b[0m \u001b[0;34m**\u001b[0m\u001b[0mkwargs\u001b[0m\u001b[0;34m)\u001b[0m\u001b[0;34m\u001b[0m\u001b[0;34m\u001b[0m\u001b[0m\n\u001b[0m\u001b[1;32m   1029\u001b[0m                 \u001b[0;32mreturn\u001b[0m \u001b[0mself\u001b[0m\u001b[0;34m.\u001b[0m\u001b[0mconvert_tokens_to_ids\u001b[0m\u001b[0;34m(\u001b[0m\u001b[0mtokens\u001b[0m\u001b[0;34m)\u001b[0m\u001b[0;34m\u001b[0m\u001b[0;34m\u001b[0m\u001b[0m\n\u001b[1;32m   1030\u001b[0m             \u001b[0;32melif\u001b[0m \u001b[0misinstance\u001b[0m\u001b[0;34m(\u001b[0m\u001b[0mtext\u001b[0m\u001b[0;34m,\u001b[0m \u001b[0;34m(\u001b[0m\u001b[0mlist\u001b[0m\u001b[0;34m,\u001b[0m \u001b[0mtuple\u001b[0m\u001b[0;34m)\u001b[0m\u001b[0;34m)\u001b[0m \u001b[0;32mand\u001b[0m \u001b[0mlen\u001b[0m\u001b[0;34m(\u001b[0m\u001b[0mtext\u001b[0m\u001b[0;34m)\u001b[0m \u001b[0;34m>\u001b[0m \u001b[0;36m0\u001b[0m \u001b[0;32mand\u001b[0m \u001b[0misinstance\u001b[0m\u001b[0;34m(\u001b[0m\u001b[0mtext\u001b[0m\u001b[0;34m[\u001b[0m\u001b[0;36m0\u001b[0m\u001b[0;34m]\u001b[0m\u001b[0;34m,\u001b[0m \u001b[0mstr\u001b[0m\u001b[0;34m)\u001b[0m\u001b[0;34m:\u001b[0m\u001b[0;34m\u001b[0m\u001b[0;34m\u001b[0m\u001b[0m\n",
            "\u001b[0;32m/usr/local/lib/python3.6/dist-packages/transformers/tokenization_utils.py\u001b[0m in \u001b[0;36mtokenize\u001b[0;34m(self, text, **kwargs)\u001b[0m\n\u001b[1;32m    813\u001b[0m \u001b[0;34m\u001b[0m\u001b[0m\n\u001b[1;32m    814\u001b[0m         \u001b[0madded_tokens\u001b[0m \u001b[0;34m=\u001b[0m \u001b[0mself\u001b[0m\u001b[0;34m.\u001b[0m\u001b[0munique_added_tokens_encoder\u001b[0m\u001b[0;34m\u001b[0m\u001b[0;34m\u001b[0m\u001b[0m\n\u001b[0;32m--> 815\u001b[0;31m         \u001b[0mtokenized_text\u001b[0m \u001b[0;34m=\u001b[0m \u001b[0msplit_on_tokens\u001b[0m\u001b[0;34m(\u001b[0m\u001b[0madded_tokens\u001b[0m\u001b[0;34m,\u001b[0m \u001b[0mtext\u001b[0m\u001b[0;34m)\u001b[0m\u001b[0;34m\u001b[0m\u001b[0;34m\u001b[0m\u001b[0m\n\u001b[0m\u001b[1;32m    816\u001b[0m         \u001b[0;32mreturn\u001b[0m \u001b[0mtokenized_text\u001b[0m\u001b[0;34m\u001b[0m\u001b[0;34m\u001b[0m\u001b[0m\n\u001b[1;32m    817\u001b[0m \u001b[0;34m\u001b[0m\u001b[0m\n",
            "\u001b[0;32m/usr/local/lib/python3.6/dist-packages/transformers/tokenization_utils.py\u001b[0m in \u001b[0;36msplit_on_tokens\u001b[0;34m(tok_list, text)\u001b[0m\n\u001b[1;32m    807\u001b[0m                     (\n\u001b[1;32m    808\u001b[0m                         \u001b[0mself\u001b[0m\u001b[0;34m.\u001b[0m\u001b[0m_tokenize\u001b[0m\u001b[0;34m(\u001b[0m\u001b[0mtoken\u001b[0m\u001b[0;34m)\u001b[0m \u001b[0;32mif\u001b[0m \u001b[0mtoken\u001b[0m \u001b[0;32mnot\u001b[0m \u001b[0;32min\u001b[0m \u001b[0mself\u001b[0m\u001b[0;34m.\u001b[0m\u001b[0munique_added_tokens_encoder\u001b[0m \u001b[0;32melse\u001b[0m \u001b[0;34m[\u001b[0m\u001b[0mtoken\u001b[0m\u001b[0;34m]\u001b[0m\u001b[0;34m\u001b[0m\u001b[0;34m\u001b[0m\u001b[0m\n\u001b[0;32m--> 809\u001b[0;31m                         \u001b[0;32mfor\u001b[0m \u001b[0mtoken\u001b[0m \u001b[0;32min\u001b[0m \u001b[0mtokenized_text\u001b[0m\u001b[0;34m\u001b[0m\u001b[0;34m\u001b[0m\u001b[0m\n\u001b[0m\u001b[1;32m    810\u001b[0m                     )\n\u001b[1;32m    811\u001b[0m                 )\n",
            "\u001b[0;32m/usr/local/lib/python3.6/dist-packages/transformers/tokenization_utils.py\u001b[0m in \u001b[0;36m<genexpr>\u001b[0;34m(.0)\u001b[0m\n\u001b[1;32m    807\u001b[0m                     (\n\u001b[1;32m    808\u001b[0m                         \u001b[0mself\u001b[0m\u001b[0;34m.\u001b[0m\u001b[0m_tokenize\u001b[0m\u001b[0;34m(\u001b[0m\u001b[0mtoken\u001b[0m\u001b[0;34m)\u001b[0m \u001b[0;32mif\u001b[0m \u001b[0mtoken\u001b[0m \u001b[0;32mnot\u001b[0m \u001b[0;32min\u001b[0m \u001b[0mself\u001b[0m\u001b[0;34m.\u001b[0m\u001b[0munique_added_tokens_encoder\u001b[0m \u001b[0;32melse\u001b[0m \u001b[0;34m[\u001b[0m\u001b[0mtoken\u001b[0m\u001b[0;34m]\u001b[0m\u001b[0;34m\u001b[0m\u001b[0;34m\u001b[0m\u001b[0m\n\u001b[0;32m--> 809\u001b[0;31m                         \u001b[0;32mfor\u001b[0m \u001b[0mtoken\u001b[0m \u001b[0;32min\u001b[0m \u001b[0mtokenized_text\u001b[0m\u001b[0;34m\u001b[0m\u001b[0;34m\u001b[0m\u001b[0m\n\u001b[0m\u001b[1;32m    810\u001b[0m                     )\n\u001b[1;32m    811\u001b[0m                 )\n",
            "\u001b[0;32m/usr/local/lib/python3.6/dist-packages/transformers/tokenization_bert.py\u001b[0m in \u001b[0;36m_tokenize\u001b[0;34m(self, text)\u001b[0m\n\u001b[1;32m    210\u001b[0m         \u001b[0msplit_tokens\u001b[0m \u001b[0;34m=\u001b[0m \u001b[0;34m[\u001b[0m\u001b[0;34m]\u001b[0m\u001b[0;34m\u001b[0m\u001b[0;34m\u001b[0m\u001b[0m\n\u001b[1;32m    211\u001b[0m         \u001b[0;32mif\u001b[0m \u001b[0mself\u001b[0m\u001b[0;34m.\u001b[0m\u001b[0mdo_basic_tokenize\u001b[0m\u001b[0;34m:\u001b[0m\u001b[0;34m\u001b[0m\u001b[0;34m\u001b[0m\u001b[0m\n\u001b[0;32m--> 212\u001b[0;31m             \u001b[0;32mfor\u001b[0m \u001b[0mtoken\u001b[0m \u001b[0;32min\u001b[0m \u001b[0mself\u001b[0m\u001b[0;34m.\u001b[0m\u001b[0mbasic_tokenizer\u001b[0m\u001b[0;34m.\u001b[0m\u001b[0mtokenize\u001b[0m\u001b[0;34m(\u001b[0m\u001b[0mtext\u001b[0m\u001b[0;34m,\u001b[0m \u001b[0mnever_split\u001b[0m\u001b[0;34m=\u001b[0m\u001b[0mself\u001b[0m\u001b[0;34m.\u001b[0m\u001b[0mall_special_tokens\u001b[0m\u001b[0;34m)\u001b[0m\u001b[0;34m:\u001b[0m\u001b[0;34m\u001b[0m\u001b[0;34m\u001b[0m\u001b[0m\n\u001b[0m\u001b[1;32m    213\u001b[0m                 \u001b[0;32mfor\u001b[0m \u001b[0msub_token\u001b[0m \u001b[0;32min\u001b[0m \u001b[0mself\u001b[0m\u001b[0;34m.\u001b[0m\u001b[0mwordpiece_tokenizer\u001b[0m\u001b[0;34m.\u001b[0m\u001b[0mtokenize\u001b[0m\u001b[0;34m(\u001b[0m\u001b[0mtoken\u001b[0m\u001b[0;34m)\u001b[0m\u001b[0;34m:\u001b[0m\u001b[0;34m\u001b[0m\u001b[0;34m\u001b[0m\u001b[0m\n\u001b[1;32m    214\u001b[0m                     \u001b[0msplit_tokens\u001b[0m\u001b[0;34m.\u001b[0m\u001b[0mappend\u001b[0m\u001b[0;34m(\u001b[0m\u001b[0msub_token\u001b[0m\u001b[0;34m)\u001b[0m\u001b[0;34m\u001b[0m\u001b[0;34m\u001b[0m\u001b[0m\n",
            "\u001b[0;32m/usr/local/lib/python3.6/dist-packages/transformers/tokenization_bert.py\u001b[0m in \u001b[0;36mtokenize\u001b[0;34m(self, text, never_split)\u001b[0m\n\u001b[1;32m    395\u001b[0m                 \u001b[0mtoken\u001b[0m \u001b[0;34m=\u001b[0m \u001b[0mtoken\u001b[0m\u001b[0;34m.\u001b[0m\u001b[0mlower\u001b[0m\u001b[0;34m(\u001b[0m\u001b[0;34m)\u001b[0m\u001b[0;34m\u001b[0m\u001b[0;34m\u001b[0m\u001b[0m\n\u001b[1;32m    396\u001b[0m                 \u001b[0mtoken\u001b[0m \u001b[0;34m=\u001b[0m \u001b[0mself\u001b[0m\u001b[0;34m.\u001b[0m\u001b[0m_run_strip_accents\u001b[0m\u001b[0;34m(\u001b[0m\u001b[0mtoken\u001b[0m\u001b[0;34m)\u001b[0m\u001b[0;34m\u001b[0m\u001b[0;34m\u001b[0m\u001b[0m\n\u001b[0;32m--> 397\u001b[0;31m             \u001b[0msplit_tokens\u001b[0m\u001b[0;34m.\u001b[0m\u001b[0mextend\u001b[0m\u001b[0;34m(\u001b[0m\u001b[0mself\u001b[0m\u001b[0;34m.\u001b[0m\u001b[0m_run_split_on_punc\u001b[0m\u001b[0;34m(\u001b[0m\u001b[0mtoken\u001b[0m\u001b[0;34m,\u001b[0m \u001b[0mnever_split\u001b[0m\u001b[0;34m)\u001b[0m\u001b[0;34m)\u001b[0m\u001b[0;34m\u001b[0m\u001b[0;34m\u001b[0m\u001b[0m\n\u001b[0m\u001b[1;32m    398\u001b[0m \u001b[0;34m\u001b[0m\u001b[0m\n\u001b[1;32m    399\u001b[0m         \u001b[0moutput_tokens\u001b[0m \u001b[0;34m=\u001b[0m \u001b[0mwhitespace_tokenize\u001b[0m\u001b[0;34m(\u001b[0m\u001b[0;34m\" \"\u001b[0m\u001b[0;34m.\u001b[0m\u001b[0mjoin\u001b[0m\u001b[0;34m(\u001b[0m\u001b[0msplit_tokens\u001b[0m\u001b[0;34m)\u001b[0m\u001b[0;34m)\u001b[0m\u001b[0;34m\u001b[0m\u001b[0;34m\u001b[0m\u001b[0m\n",
            "\u001b[0;32m/usr/local/lib/python3.6/dist-packages/transformers/tokenization_bert.py\u001b[0m in \u001b[0;36m_run_split_on_punc\u001b[0;34m(self, text, never_split)\u001b[0m\n\u001b[1;32m    419\u001b[0m         \u001b[0mstart_new_word\u001b[0m \u001b[0;34m=\u001b[0m \u001b[0;32mTrue\u001b[0m\u001b[0;34m\u001b[0m\u001b[0;34m\u001b[0m\u001b[0m\n\u001b[1;32m    420\u001b[0m         \u001b[0moutput\u001b[0m \u001b[0;34m=\u001b[0m \u001b[0;34m[\u001b[0m\u001b[0;34m]\u001b[0m\u001b[0;34m\u001b[0m\u001b[0;34m\u001b[0m\u001b[0m\n\u001b[0;32m--> 421\u001b[0;31m         \u001b[0;32mwhile\u001b[0m \u001b[0mi\u001b[0m \u001b[0;34m<\u001b[0m \u001b[0mlen\u001b[0m\u001b[0;34m(\u001b[0m\u001b[0mchars\u001b[0m\u001b[0;34m)\u001b[0m\u001b[0;34m:\u001b[0m\u001b[0;34m\u001b[0m\u001b[0;34m\u001b[0m\u001b[0m\n\u001b[0m\u001b[1;32m    422\u001b[0m             \u001b[0mchar\u001b[0m \u001b[0;34m=\u001b[0m \u001b[0mchars\u001b[0m\u001b[0;34m[\u001b[0m\u001b[0mi\u001b[0m\u001b[0;34m]\u001b[0m\u001b[0;34m\u001b[0m\u001b[0;34m\u001b[0m\u001b[0m\n\u001b[1;32m    423\u001b[0m             \u001b[0;32mif\u001b[0m \u001b[0m_is_punctuation\u001b[0m\u001b[0;34m(\u001b[0m\u001b[0mchar\u001b[0m\u001b[0;34m)\u001b[0m\u001b[0;34m:\u001b[0m\u001b[0;34m\u001b[0m\u001b[0;34m\u001b[0m\u001b[0m\n",
            "\u001b[0;31mKeyboardInterrupt\u001b[0m: "
          ]
        }
      ]
    },
    {
      "cell_type": "code",
      "metadata": {
        "id": "b0ETP4Y3MPk0",
        "colab_type": "code",
        "colab": {}
      },
      "source": [
        "from torch.utils.data import TensorDataset, random_split\n",
        "\n",
        "# Combine the training inputs into a TensorDataset.\n",
        "dataset = TensorDataset(input_ids, attention_masks, labels)\n",
        "\n",
        "# Create a 75-25 train-validation split.\n",
        "\n",
        "# Calculate the number of samples to include in each set.\n",
        "train_size = int(0.75 * len(dataset))\n",
        "val_size = len(dataset) - train_size\n",
        "\n",
        "# Divide the dataset by randomly selecting samples.\n",
        "train_dataset, val_dataset = random_split(dataset, [train_size, val_size])\n",
        "\n",
        "test_size = int(.15 * len(val_dataset))\n",
        "val_size = len(val_dataset) - test_size\n",
        "val_dataset, test_dataset = random_split(val_dataset, [val_size, test_size])\n",
        "\n",
        "print('{:>5,} training samples'.format(train_size))\n",
        "print('{:>5,} validation samples'.format(val_size))\n",
        "print('{:>5,} testing samples'.format(test_size))"
      ],
      "execution_count": 0,
      "outputs": []
    },
    {
      "cell_type": "markdown",
      "metadata": {
        "id": "coWOdVQWFFmY",
        "colab_type": "text"
      },
      "source": [
        ""
      ]
    },
    {
      "cell_type": "code",
      "metadata": {
        "id": "WygHhM6lLBPt",
        "colab_type": "code",
        "colab": {}
      },
      "source": [
        "from torch.utils.data import DataLoader, RandomSampler, SequentialSampler\n",
        "\n",
        "# The DataLoader needs to know our batch size for training, so we specify it \n",
        "# here. For fine-tuning BERT on a specific task, the authors recommend a batch \n",
        "# size of 16 or 32.\n",
        "batch_size = 32\n",
        "\n",
        "# Create the DataLoaders for our training and validation sets.\n",
        "# We'll take training samples in random order. \n",
        "train_dataloader = DataLoader(\n",
        "            train_dataset,  # The training samples.\n",
        "            sampler = RandomSampler(train_dataset), # Select batches randomly\n",
        "            batch_size = batch_size # Trains with this batch size.\n",
        "        )\n",
        "\n",
        "# For validation the order doesn't matter, so we'll just read them sequentially.\n",
        "validation_dataloader = DataLoader(\n",
        "            val_dataset, # The validation samples.\n",
        "            sampler = SequentialSampler(val_dataset), # Pull out batches sequentially.\n",
        "            batch_size = batch_size # Evaluate with this batch size.\n",
        "        )\n",
        "\n",
        "test_dataloader = DataLoader(\n",
        "            test_dataset, # The validation samples.\n",
        "            sampler = SequentialSampler(test_dataset), # Pull out batches sequentially.\n",
        "            batch_size = batch_size # Evaluate with this batch size.\n",
        "        )"
      ],
      "execution_count": 0,
      "outputs": []
    },
    {
      "cell_type": "code",
      "metadata": {
        "id": "5pi0gXWBMAeO",
        "colab_type": "code",
        "colab": {}
      },
      "source": [
        "from transformers import BertForSequenceClassification, AdamW, BertConfig\n",
        "\n",
        "# Load BertForSequenceClassification, the pretrained BERT model with a single \n",
        "# linear classification layer on top. \n",
        "model = BertForSequenceClassification.from_pretrained(\n",
        "    \"bert-base-uncased\", # Use the 12-layer BERT model, with an uncased vocab.\n",
        "    num_labels = 10, # The number of output labels--2 for binary classification.\n",
        "                    # You can increase this for multi-class tasks.   \n",
        "    output_attentions = False, # Whether the model returns attentions weights.\n",
        "    output_hidden_states = False, # Whether the model returns all hidden-states.\n",
        ")\n",
        "\n",
        "# Tell pytorch to run this model on the GPU.\n",
        "model.cuda()"
      ],
      "execution_count": 0,
      "outputs": []
    },
    {
      "cell_type": "code",
      "metadata": {
        "id": "9WIYE369tfCD",
        "colab_type": "code",
        "colab": {}
      },
      "source": [
        "# Get all of the model's parameters as a list of tuples.\n",
        "params = list(model.named_parameters())\n",
        "\n",
        "print('The BERT model has {:} different named parameters.\\n'.format(len(params)))\n",
        "\n",
        "print('==== Embedding Layer ====\\n')\n",
        "\n",
        "for p in params[0:5]:\n",
        "    print(\"{:<55} {:>12}\".format(p[0], str(tuple(p[1].size()))))\n",
        "\n",
        "print('\\n==== First Transformer ====\\n')\n",
        "\n",
        "for p in params[5:21]:\n",
        "    print(\"{:<55} {:>12}\".format(p[0], str(tuple(p[1].size()))))\n",
        "\n",
        "print('\\n==== Output Layer ====\\n')\n",
        "\n",
        "for p in params[-4:]:\n",
        "    print(\"{:<55} {:>12}\".format(p[0], str(tuple(p[1].size()))))"
      ],
      "execution_count": 0,
      "outputs": []
    },
    {
      "cell_type": "code",
      "metadata": {
        "id": "zdm7Q0VDt2lx",
        "colab_type": "code",
        "colab": {
          "base_uri": "https://localhost:8080/",
          "height": 215
        },
        "outputId": "f004551a-7517-42ca-f442-50ebc3cbcc5c"
      },
      "source": [
        "# Note: AdamW is a class from the huggingface library (as opposed to pytorch) \n",
        "# I believe the 'W' stands for 'Weight Decay fix\"\n",
        "optimizer = AdamW(model.parameters(),\n",
        "                  lr = 2e-5, # args.learning_rate - default is 5e-5, our notebook had 2e-5\n",
        "                  eps = 1e-8 # args.adam_epsilon  - default is 1e-8.\n",
        "                )"
      ],
      "execution_count": 35,
      "outputs": [
        {
          "output_type": "error",
          "ename": "NameError",
          "evalue": "ignored",
          "traceback": [
            "\u001b[0;31m---------------------------------------------------------------------------\u001b[0m",
            "\u001b[0;31mNameError\u001b[0m                                 Traceback (most recent call last)",
            "\u001b[0;32m<ipython-input-35-e6418729ad84>\u001b[0m in \u001b[0;36m<module>\u001b[0;34m()\u001b[0m\n\u001b[0;32m----> 1\u001b[0;31m optimizer = AdamW(model.parameters(),\n\u001b[0m\u001b[1;32m      2\u001b[0m                   \u001b[0mlr\u001b[0m \u001b[0;34m=\u001b[0m \u001b[0;36m2e-5\u001b[0m\u001b[0;34m,\u001b[0m \u001b[0;31m# args.learning_rate - default is 5e-5, our notebook had 2e-5\u001b[0m\u001b[0;34m\u001b[0m\u001b[0;34m\u001b[0m\u001b[0m\n\u001b[1;32m      3\u001b[0m                   \u001b[0meps\u001b[0m \u001b[0;34m=\u001b[0m \u001b[0;36m1e-8\u001b[0m \u001b[0;31m# args.adam_epsilon  - default is 1e-8.\u001b[0m\u001b[0;34m\u001b[0m\u001b[0;34m\u001b[0m\u001b[0m\n\u001b[1;32m      4\u001b[0m                 )\n",
            "\u001b[0;31mNameError\u001b[0m: name 'AdamW' is not defined"
          ]
        }
      ]
    },
    {
      "cell_type": "code",
      "metadata": {
        "id": "twGlzeNOt4u7",
        "colab_type": "code",
        "colab": {
          "base_uri": "https://localhost:8080/",
          "height": 232
        },
        "outputId": "940ad78a-a502-400d-c6c1-81dbe7c53211"
      },
      "source": [
        "from transformers import get_linear_schedule_with_warmup\n",
        "\n",
        "# Number of training epochs. The BERT authors recommend between 2 and 4. \n",
        "# We chose to run for 4, but we'll see later that this may be over-fitting the\n",
        "# training data.\n",
        "epochs = 2\n",
        "\n",
        "# Total number of training steps is [number of batches] x [number of epochs]. \n",
        "# (Note that this is not the same as the number of training samples).\n",
        "total_steps = len(train_dataloader) * epochs\n",
        "\n",
        "# Create the learning rate scheduler.\n",
        "scheduler = get_linear_schedule_with_warmup(optimizer, \n",
        "                                            num_warmup_steps = 0, # Default value in run_glue.py\n",
        "                                            num_training_steps = total_steps)"
      ],
      "execution_count": 36,
      "outputs": [
        {
          "output_type": "error",
          "ename": "NameError",
          "evalue": "ignored",
          "traceback": [
            "\u001b[0;31m---------------------------------------------------------------------------\u001b[0m",
            "\u001b[0;31mNameError\u001b[0m                                 Traceback (most recent call last)",
            "\u001b[0;32m<ipython-input-36-c7b3669c0c44>\u001b[0m in \u001b[0;36m<module>\u001b[0;34m()\u001b[0m\n\u001b[1;32m      8\u001b[0m \u001b[0;31m# Total number of training steps is [number of batches] x [number of epochs].\u001b[0m\u001b[0;34m\u001b[0m\u001b[0;34m\u001b[0m\u001b[0;34m\u001b[0m\u001b[0m\n\u001b[1;32m      9\u001b[0m \u001b[0;31m# (Note that this is not the same as the number of training samples).\u001b[0m\u001b[0;34m\u001b[0m\u001b[0;34m\u001b[0m\u001b[0;34m\u001b[0m\u001b[0m\n\u001b[0;32m---> 10\u001b[0;31m \u001b[0mtotal_steps\u001b[0m \u001b[0;34m=\u001b[0m \u001b[0mlen\u001b[0m\u001b[0;34m(\u001b[0m\u001b[0mtrain_dataloader\u001b[0m\u001b[0;34m)\u001b[0m \u001b[0;34m*\u001b[0m \u001b[0mepochs\u001b[0m\u001b[0;34m\u001b[0m\u001b[0;34m\u001b[0m\u001b[0m\n\u001b[0m\u001b[1;32m     11\u001b[0m \u001b[0;34m\u001b[0m\u001b[0m\n\u001b[1;32m     12\u001b[0m \u001b[0;31m# Create the learning rate scheduler.\u001b[0m\u001b[0;34m\u001b[0m\u001b[0;34m\u001b[0m\u001b[0;34m\u001b[0m\u001b[0m\n",
            "\u001b[0;31mNameError\u001b[0m: name 'train_dataloader' is not defined"
          ]
        }
      ]
    },
    {
      "cell_type": "code",
      "metadata": {
        "id": "VinAKbXEt7c3",
        "colab_type": "code",
        "colab": {}
      },
      "source": [
        "import numpy as np\n",
        "\n",
        "# Function to calculate the accuracy of our predictions vs labels\n",
        "def flat_accuracy(preds, labels):\n",
        "    pred_flat = np.argmax(preds, axis=1).flatten()\n",
        "    labels_flat = labels.flatten()\n",
        "    return np.sum(pred_flat == labels_flat) / len(labels_flat)"
      ],
      "execution_count": 0,
      "outputs": []
    },
    {
      "cell_type": "code",
      "metadata": {
        "id": "m7TPxgARt-bb",
        "colab_type": "code",
        "colab": {}
      },
      "source": [
        "import time\n",
        "import datetime\n",
        "\n",
        "def format_time(elapsed):\n",
        "    '''\n",
        "    Takes a time in seconds and returns a string hh:mm:ss\n",
        "    '''\n",
        "    # Round to the nearest second.\n",
        "    elapsed_rounded = int(round((elapsed)))\n",
        "    \n",
        "    # Format as hh:mm:ss\n",
        "    return str(datetime.timedelta(seconds=elapsed_rounded))"
      ],
      "execution_count": 0,
      "outputs": []
    },
    {
      "cell_type": "code",
      "metadata": {
        "id": "ydNd7VwquJDr",
        "colab_type": "code",
        "colab": {}
      },
      "source": [
        "import random\n",
        "import numpy as np\n",
        "\n",
        "# This training code is based on the `run_glue.py` script here:\n",
        "# https://github.com/huggingface/transformers/blob/5bfcd0485ece086ebcbed2d008813037968a9e58/examples/run_glue.py#L128\n",
        "\n",
        "# Set the seed value all over the place to make this reproducible.\n",
        "seed_val = 42\n",
        "\n",
        "random.seed(seed_val)\n",
        "np.random.seed(seed_val)\n",
        "torch.manual_seed(seed_val)\n",
        "torch.cuda.manual_seed_all(seed_val)\n",
        "\n",
        "# We'll store a number of quantities such as training and validation loss, \n",
        "# validation accuracy, and timings.\n",
        "training_stats = []\n",
        "\n",
        "# Measure the total training time for the whole run.\n",
        "total_t0 = time.time()\n",
        "\n",
        "# For each epoch...\n",
        "for epoch_i in range(0, epochs):\n",
        "    \n",
        "    # ========================================\n",
        "    #               Training\n",
        "    # ========================================\n",
        "    \n",
        "    # Perform one full pass over the training set.\n",
        "\n",
        "    print(\"\")\n",
        "    print('======== Epoch {:} / {:} ========'.format(epoch_i + 1, epochs))\n",
        "    print('Training...')\n",
        "\n",
        "    # Measure how long the training epoch takes.\n",
        "    t0 = time.time()\n",
        "\n",
        "    # Reset the total loss for this epoch.\n",
        "    total_train_loss = 0\n",
        "\n",
        "    # Put the model into training mode. Don't be mislead--the call to \n",
        "    # `train` just changes the *mode*, it doesn't *perform* the training.\n",
        "    # `dropout` and `batchnorm` layers behave differently during training\n",
        "    # vs. test (source: https://stackoverflow.com/questions/51433378/what-does-model-train-do-in-pytorch)\n",
        "    model.train()\n",
        "\n",
        "    # For each batch of training data...\n",
        "    for step, batch in enumerate(train_dataloader):\n",
        "\n",
        "        # Progress update every 40 batches.\n",
        "        if step % 40 == 0 and not step == 0:\n",
        "            # Calculate elapsed time in minutes.\n",
        "            elapsed = format_time(time.time() - t0)\n",
        "            \n",
        "            # Report progress.\n",
        "            print('  Batch {:>5,}  of  {:>5,}.    Elapsed: {:}.'.format(step, len(train_dataloader), elapsed))\n",
        "\n",
        "        # Unpack this training batch from our dataloader. \n",
        "        #\n",
        "        # As we unpack the batch, we'll also copy each tensor to the GPU using the \n",
        "        # `to` method.\n",
        "        #\n",
        "        # `batch` contains three pytorch tensors:\n",
        "        #   [0]: input ids \n",
        "        #   [1]: attention masks\n",
        "        #   [2]: labels \n",
        "        b_input_ids = batch[0].to(device)\n",
        "        b_input_mask = batch[1].to(device)\n",
        "        b_labels = batch[2].to(device)\n",
        "\n",
        "        # Always clear any previously calculated gradients before performing a\n",
        "        # backward pass. PyTorch doesn't do this automatically because \n",
        "        # accumulating the gradients is \"convenient while training RNNs\". \n",
        "        # (source: https://stackoverflow.com/questions/48001598/why-do-we-need-to-call-zero-grad-in-pytorch)\n",
        "        model.zero_grad()        \n",
        "\n",
        "        # Perform a forward pass (evaluate the model on this training batch).\n",
        "        # The documentation for this `model` function is here: \n",
        "        # https://huggingface.co/transformers/v2.2.0/model_doc/bert.html#transformers.BertForSequenceClassification\n",
        "        # It returns different numbers of parameters depending on what arguments\n",
        "        # arge given and what flags are set. For our useage here, it returns\n",
        "        # the loss (because we provided labels) and the \"logits\"--the model\n",
        "        # outputs prior to activation.\n",
        "        loss, logits = model(b_input_ids, \n",
        "                             token_type_ids=None, \n",
        "                             attention_mask=b_input_mask, \n",
        "                             labels=b_labels)\n",
        "\n",
        "        # Accumulate the training loss over all of the batches so that we can\n",
        "        # calculate the average loss at the end. `loss` is a Tensor containing a\n",
        "        # single value; the `.item()` function just returns the Python value \n",
        "        # from the tensor.\n",
        "        total_train_loss += loss.item()\n",
        "\n",
        "        # Perform a backward pass to calculate the gradients.\n",
        "        loss.backward()\n",
        "\n",
        "        # Clip the norm of the gradients to 1.0.\n",
        "        # This is to help prevent the \"exploding gradients\" problem.\n",
        "        torch.nn.utils.clip_grad_norm_(model.parameters(), 1.0)\n",
        "\n",
        "        # Update parameters and take a step using the computed gradient.\n",
        "        # The optimizer dictates the \"update rule\"--how the parameters are\n",
        "        # modified based on their gradients, the learning rate, etc.\n",
        "        optimizer.step()\n",
        "\n",
        "        # Update the learning rate.\n",
        "        scheduler.step()\n",
        "\n",
        "    # Calculate the average loss over all of the batches.\n",
        "    avg_train_loss = total_train_loss / len(train_dataloader)            \n",
        "    \n",
        "    # Measure how long this epoch took.\n",
        "    training_time = format_time(time.time() - t0)\n",
        "\n",
        "    print(\"\")\n",
        "    print(\"  Average training loss: {0:.2f}\".format(avg_train_loss))\n",
        "    print(\"  Training epcoh took: {:}\".format(training_time))\n",
        "        \n",
        "    # ========================================\n",
        "    #               Validation\n",
        "    # ========================================\n",
        "    # After the completion of each training epoch, measure our performance on\n",
        "    # our validation set.\n",
        "\n",
        "    print(\"\")\n",
        "    print(\"Running Validation...\")\n",
        "\n",
        "    t0 = time.time()\n",
        "\n",
        "    # Put the model in evaluation mode--the dropout layers behave differently\n",
        "    # during evaluation.\n",
        "    model.eval()\n",
        "\n",
        "    # Tracking variables \n",
        "    total_eval_accuracy = 0\n",
        "    total_eval_loss = 0\n",
        "    nb_eval_steps = 0\n",
        "\n",
        "    # Evaluate data for one epoch\n",
        "    for batch in validation_dataloader:\n",
        "        \n",
        "        # Unpack this training batch from our dataloader. \n",
        "        #\n",
        "        # As we unpack the batch, we'll also copy each tensor to the GPU using \n",
        "        # the `to` method.\n",
        "        #\n",
        "        # `batch` contains three pytorch tensors:\n",
        "        #   [0]: input ids \n",
        "        #   [1]: attention masks\n",
        "        #   [2]: labels \n",
        "        b_input_ids = batch[0].to(device)\n",
        "        b_input_mask = batch[1].to(device)\n",
        "        b_labels = batch[2].to(device)\n",
        "        \n",
        "        # Tell pytorch not to bother with constructing the compute graph during\n",
        "        # the forward pass, since this is only needed for backprop (training).\n",
        "        with torch.no_grad():        \n",
        "\n",
        "            # Forward pass, calculate logit predictions.\n",
        "            # token_type_ids is the same as the \"segment ids\", which \n",
        "            # differentiates sentence 1 and 2 in 2-sentence tasks.\n",
        "            # The documentation for this `model` function is here: \n",
        "            # https://huggingface.co/transformers/v2.2.0/model_doc/bert.html#transformers.BertForSequenceClassification\n",
        "            # Get the \"logits\" output by the model. The \"logits\" are the output\n",
        "            # values prior to applying an activation function like the softmax.\n",
        "            (loss, logits) = model(b_input_ids, \n",
        "                                   token_type_ids=None, \n",
        "                                   attention_mask=b_input_mask,\n",
        "                                   labels=b_labels)\n",
        "            \n",
        "        # Accumulate the validation loss.\n",
        "        total_eval_loss += loss.item()\n",
        "\n",
        "        # Move logits and labels to CPU\n",
        "        logits = logits.detach().cpu().numpy()\n",
        "        label_ids = b_labels.to('cpu').numpy()\n",
        "\n",
        "        # Calculate the accuracy for this batch of test sentences, and\n",
        "        # accumulate it over all batches.\n",
        "        total_eval_accuracy += flat_accuracy(logits, label_ids)\n",
        "        \n",
        "\n",
        "    # Report the final accuracy for this validation run.\n",
        "    avg_val_accuracy = total_eval_accuracy / len(validation_dataloader)\n",
        "    print(\"  Accuracy: {0:.2f}\".format(avg_val_accuracy))\n",
        "\n",
        "    # Calculate the average loss over all of the batches.\n",
        "    avg_val_loss = total_eval_loss / len(validation_dataloader)\n",
        "    \n",
        "    # Measure how long the validation run took.\n",
        "    validation_time = format_time(time.time() - t0)\n",
        "    \n",
        "    print(\"  Validation Loss: {0:.2f}\".format(avg_val_loss))\n",
        "    print(\"  Validation took: {:}\".format(validation_time))\n",
        "\n",
        "    # Record all statistics from this epoch.\n",
        "    training_stats.append(\n",
        "        {\n",
        "            'epoch': epoch_i + 1,\n",
        "            'Training Loss': avg_train_loss,\n",
        "            'Valid. Loss': avg_val_loss,\n",
        "            'Valid. Accur.': avg_val_accuracy,\n",
        "            'Training Time': training_time,\n",
        "            'Validation Time': validation_time\n",
        "        }\n",
        "    )\n",
        "\n",
        "print(\"\")\n",
        "print(\"Training complete!\")\n",
        "\n",
        "print(\"Total training took {:} (h:mm:ss)\".format(format_time(time.time()-total_t0)))"
      ],
      "execution_count": 0,
      "outputs": []
    },
    {
      "cell_type": "code",
      "metadata": {
        "id": "7zjRdeY6Yd8O",
        "colab_type": "code",
        "colab": {}
      },
      "source": [
        "import matplotlib.pyplot as plt\n",
        "% matplotlib inline\n",
        "\n",
        "import seaborn as sns\n",
        "\n",
        "# Use plot styling from seaborn.\n",
        "sns.set(style='darkgrid')\n",
        "\n",
        "# Increase the plot size and font size.\n",
        "sns.set(font_scale=1.5)\n",
        "plt.rcParams[\"figure.figsize\"] = (12,6)\n",
        "\n",
        "# Plot the learning curve.\n",
        "plt.plot(df_stats['Training Loss'], 'b-o', label=\"Training\")\n",
        "plt.plot(df_stats['Valid. Loss'], 'g-o', label=\"Validation\")\n",
        "\n",
        "# Label the plot.\n",
        "plt.title(\"Training & Validation Loss\")\n",
        "plt.xlabel(\"Epoch\")\n",
        "plt.ylabel(\"Loss\")\n",
        "plt.legend()\n",
        "plt.xticks([1, 2])\n",
        "\n",
        "plt.show()"
      ],
      "execution_count": 0,
      "outputs": []
    },
    {
      "cell_type": "code",
      "metadata": {
        "id": "e2Ak-H6vY2dl",
        "colab_type": "code",
        "colab": {}
      },
      "source": [
        "#Test set\n",
        "\n",
        "print('Predicting labels for {:,} test sentences...'.format(len(input_ids)))\n",
        "\n",
        "# Put model in evaluation mode\n",
        "model.eval()\n",
        "\n",
        "# Tracking variables \n",
        "predictions , true_labels = [], []\n",
        "\n",
        "# Predict \n",
        "for batch in prediction_dataloader:\n",
        "  # Add batch to GPU\n",
        "  batch = tuple(t.to(device) for t in batch)\n",
        "  \n",
        "  # Unpack the inputs from our dataloader\n",
        "  b_input_ids, b_input_mask, b_labels = batch\n",
        "  \n",
        "  # Telling the model not to compute or store gradients, saving memory and \n",
        "  # speeding up prediction\n",
        "  with torch.no_grad():\n",
        "      # Forward pass, calculate logit predictions\n",
        "      outputs = model(b_input_ids, token_type_ids=None, \n",
        "                      attention_mask=b_input_mask)\n",
        "\n",
        "  logits = outputs[0]\n",
        "\n",
        "  # Move logits and labels to CPU\n",
        "  logits = logits.detach().cpu().numpy()\n",
        "  label_ids = b_labels.to('cpu').numpy()\n",
        "  \n",
        "  # Store predictions and true labels\n",
        "  predictions.append(logits)\n",
        "  true_labels.append(label_ids)\n",
        "\n",
        "print('    DONE.')"
      ],
      "execution_count": 0,
      "outputs": []
    },
    {
      "cell_type": "code",
      "metadata": {
        "id": "7c7HrQYLZDH3",
        "colab_type": "code",
        "colab": {}
      },
      "source": [
        "import os\n",
        "\n",
        "\n",
        "output_dir = './model_save/'\n",
        "\n",
        "# Create output directory if needed\n",
        "if not os.path.exists(output_dir):\n",
        "    os.makedirs(output_dir)\n",
        "\n",
        "print(\"Saving model to %s\" % output_dir)\n",
        "\n",
        "# Save a trained model, configuration and tokenizer using `save_pretrained()`.\n",
        "# They can then be reloaded using `from_pretrained()`\n",
        "model_to_save = model.module if hasattr(model, 'module') else model  # Take care of distributed/parallel training\n",
        "model_to_save.save_pretrained(output_dir)\n",
        "tokenizer.save_pretrained(output_dir)"
      ],
      "execution_count": 0,
      "outputs": []
    },
    {
      "cell_type": "code",
      "metadata": {
        "id": "cPdHNkMUZJxU",
        "colab_type": "code",
        "colab": {}
      },
      "source": [
        "from google.colab import drive\n",
        "    drive.mount('/content/drive')\n",
        "  \n",
        "!cp -r ./model_save/ \"./drive/My Drive/\"\n",
        "\n",
        "model = model_class.from_pretrained(output_dir)\n",
        "tokenizer = tokenizer_class.from_pretrained(output_dir)\n",
        "\n",
        "# Copy the model to the GPU.\n",
        "model.to(device)\n"
      ],
      "execution_count": 0,
      "outputs": []
    }
  ]
}